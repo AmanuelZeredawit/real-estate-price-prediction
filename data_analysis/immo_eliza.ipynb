{
 "cells": [
  {
   "cell_type": "markdown",
   "metadata": {},
   "source": []
  },
  {
   "cell_type": "markdown",
   "metadata": {},
   "source": [
    "# immo_eliza data analysis\n",
    "I. Data cleaning\n",
    "  1. Importing necessary libraries and Loading the dataset\n",
    "  2. Explorint the dataset and renaming the headers\n",
    "  3. Converting booleans to 1 and 0\n",
    "  4. checking and removing duplication \n",
    "  5. cleaning in the \"Price\" column  \n",
    "  6. cleaning  the total area column  \n",
    "  7.  Removing columns with many NaN and have no significant impact\n",
    "  8. cleaning bedroomCount column \n",
    "  9. cleaning province,region and locality column\n",
    "  10. cleaning HasBalcony and HasGarden column\n",
    "  11. categorizing data\n",
    "   *  categroizing kitchen types   \n",
    "   *  catgorizing construction year    \n",
    "\n",
    "  \n",
    "  12. Removing outliers \n",
    "  13. cleaning floor columns\n",
    "\n",
    "II. Analyzing and visualizing the data\n",
    "1. Questions\n",
    "  * what is the average cost of house and apartment in Belgium?\n",
    "  * What is the average cost of house and apartment in Ghent?\n",
    "  * which (region,province,locality) is cheapest|expensive?\n",
    "  * what is the correlation?\n",
    "    * between price and bedroomcount\n",
    "    * between price and facadecount\n",
    "    * between price and floor\n",
    "    * between price and constructionyear\n",
    "  "
   ]
  },
  {
   "cell_type": "code",
   "execution_count": 11,
   "metadata": {},
   "outputs": [
    {
     "data": {
      "text/html": [
       "<style type='text/css'>\n",
       ".CodeMirror{\n",
       "font-size: 17px;\n",
       "</style>\n"
      ],
      "text/plain": [
       "<IPython.core.display.HTML object>"
      ]
     },
     "metadata": {},
     "output_type": "display_data"
    }
   ],
   "source": [
    "%%html\n",
    "<style type='text/css'>\n",
    ".CodeMirror{\n",
    "font-size: 17px;\n",
    "</style>"
   ]
  },
  {
   "cell_type": "markdown",
   "metadata": {},
   "source": [
    "## 1. Importing necessary Libraries and Loading the dataset"
   ]
  },
  {
   "cell_type": "code",
   "execution_count": 12,
   "metadata": {},
   "outputs": [],
   "source": [
    "import pandas as pd \n",
    "import numpy as np\n",
    "import matplotlib.pyplot as plt\n",
    "import seaborn as sns"
   ]
  },
  {
   "cell_type": "code",
   "execution_count": 13,
   "metadata": {},
   "outputs": [],
   "source": [
    "df = pd.read_csv(r\"C:\\Users\\32467\\OneDrive\\Documents\\Arai4_Projects\\real-estate-price-prediction\\assets\\data_3.csv\")"
   ]
  },
  {
   "cell_type": "code",
   "execution_count": 14,
   "metadata": {},
   "outputs": [
    {
     "data": {
      "text/plain": [
       "array(['HOUSE', 'MIXED_USE_BUILDING', 'APARTMENT', 'PENTHOUSE',\n",
       "       'FLAT_STUDIO', 'CHALET', 'APARTMENT_BLOCK', 'COUNTRY_COTTAGE',\n",
       "       'VILLA', 'TOWN_HOUSE', 'MANSION', 'DUPLEX', 'EXCEPTIONAL_PROPERTY',\n",
       "       'GROUND_FLOOR', 'LOFT', 'MANOR_HOUSE', 'FARMHOUSE',\n",
       "       'OTHER_PROPERTY', 'CASTLE', 'PAVILION', 'TRIPLEX', 'BUNGALOW',\n",
       "       'SERVICE_FLAT', 'KOT'], dtype=object)"
      ]
     },
     "execution_count": 14,
     "metadata": {},
     "output_type": "execute_result"
    }
   ],
   "source": [
    "df['Sub type'].unique()"
   ]
  },
  {
   "cell_type": "markdown",
   "metadata": {},
   "source": [
    "# 2. Exploring the dataset and renaming the headers"
   ]
  },
  {
   "cell_type": "code",
   "execution_count": 15,
   "metadata": {},
   "outputs": [
    {
     "data": {
      "text/plain": [
       "(21047, 35)"
      ]
     },
     "execution_count": 15,
     "metadata": {},
     "output_type": "execute_result"
    }
   ],
   "source": [
    "initial_size = df.shape\n",
    "initial_size"
   ]
  },
  {
   "cell_type": "code",
   "execution_count": 16,
   "metadata": {},
   "outputs": [
    {
     "data": {
      "text/html": [
       "<div>\n",
       "<style scoped>\n",
       "    .dataframe tbody tr th:only-of-type {\n",
       "        vertical-align: middle;\n",
       "    }\n",
       "\n",
       "    .dataframe tbody tr th {\n",
       "        vertical-align: top;\n",
       "    }\n",
       "\n",
       "    .dataframe thead th {\n",
       "        text-align: right;\n",
       "    }\n",
       "</style>\n",
       "<table border=\"1\" class=\"dataframe\">\n",
       "  <thead>\n",
       "    <tr style=\"text-align: right;\">\n",
       "      <th></th>\n",
       "      <th>ID</th>\n",
       "      <th>Type</th>\n",
       "      <th>Sub type</th>\n",
       "      <th>Price</th>\n",
       "      <th>NetHabitableSurface(msq)</th>\n",
       "      <th>BedroomCount</th>\n",
       "      <th>Province</th>\n",
       "      <th>locality</th>\n",
       "      <th>Region</th>\n",
       "      <th>PostCode</th>\n",
       "      <th>...</th>\n",
       "      <th>FacadeCount</th>\n",
       "      <th>HasLift</th>\n",
       "      <th>FloodZoneType</th>\n",
       "      <th>HeatingType</th>\n",
       "      <th>IsDoubleGlaze</th>\n",
       "      <th>HasBalcony</th>\n",
       "      <th>HasGarden</th>\n",
       "      <th>GardenArea</th>\n",
       "      <th>KitchekType</th>\n",
       "      <th>LivingRoomArea</th>\n",
       "    </tr>\n",
       "  </thead>\n",
       "  <tbody>\n",
       "    <tr>\n",
       "      <th>0</th>\n",
       "      <td>10128188</td>\n",
       "      <td>HOUSE</td>\n",
       "      <td>HOUSE</td>\n",
       "      <td>328330.0</td>\n",
       "      <td>148.0</td>\n",
       "      <td>3.0</td>\n",
       "      <td>Limburg</td>\n",
       "      <td>Zonhoven</td>\n",
       "      <td>Flanders</td>\n",
       "      <td>3520</td>\n",
       "      <td>...</td>\n",
       "      <td>3.0</td>\n",
       "      <td>NaN</td>\n",
       "      <td>NaN</td>\n",
       "      <td>NaN</td>\n",
       "      <td>True</td>\n",
       "      <td>NaN</td>\n",
       "      <td>True</td>\n",
       "      <td>347.0</td>\n",
       "      <td>NaN</td>\n",
       "      <td>NaN</td>\n",
       "    </tr>\n",
       "    <tr>\n",
       "      <th>1</th>\n",
       "      <td>10128189</td>\n",
       "      <td>HOUSE</td>\n",
       "      <td>HOUSE</td>\n",
       "      <td>328330.0</td>\n",
       "      <td>148.0</td>\n",
       "      <td>3.0</td>\n",
       "      <td>Limburg</td>\n",
       "      <td>Zonhoven</td>\n",
       "      <td>Flanders</td>\n",
       "      <td>3520</td>\n",
       "      <td>...</td>\n",
       "      <td>3.0</td>\n",
       "      <td>NaN</td>\n",
       "      <td>NaN</td>\n",
       "      <td>NaN</td>\n",
       "      <td>True</td>\n",
       "      <td>NaN</td>\n",
       "      <td>True</td>\n",
       "      <td>347.0</td>\n",
       "      <td>NaN</td>\n",
       "      <td>NaN</td>\n",
       "    </tr>\n",
       "    <tr>\n",
       "      <th>2</th>\n",
       "      <td>10128190</td>\n",
       "      <td>HOUSE</td>\n",
       "      <td>HOUSE</td>\n",
       "      <td>327829.0</td>\n",
       "      <td>148.0</td>\n",
       "      <td>3.0</td>\n",
       "      <td>Limburg</td>\n",
       "      <td>Zonhoven</td>\n",
       "      <td>Flanders</td>\n",
       "      <td>3520</td>\n",
       "      <td>...</td>\n",
       "      <td>3.0</td>\n",
       "      <td>NaN</td>\n",
       "      <td>NaN</td>\n",
       "      <td>NaN</td>\n",
       "      <td>True</td>\n",
       "      <td>NaN</td>\n",
       "      <td>True</td>\n",
       "      <td>346.0</td>\n",
       "      <td>NaN</td>\n",
       "      <td>NaN</td>\n",
       "    </tr>\n",
       "    <tr>\n",
       "      <th>3</th>\n",
       "      <td>10128191</td>\n",
       "      <td>HOUSE</td>\n",
       "      <td>HOUSE</td>\n",
       "      <td>327829.0</td>\n",
       "      <td>148.0</td>\n",
       "      <td>3.0</td>\n",
       "      <td>Limburg</td>\n",
       "      <td>Zonhoven</td>\n",
       "      <td>Flanders</td>\n",
       "      <td>3520</td>\n",
       "      <td>...</td>\n",
       "      <td>3.0</td>\n",
       "      <td>NaN</td>\n",
       "      <td>NaN</td>\n",
       "      <td>NaN</td>\n",
       "      <td>True</td>\n",
       "      <td>NaN</td>\n",
       "      <td>True</td>\n",
       "      <td>346.0</td>\n",
       "      <td>NaN</td>\n",
       "      <td>NaN</td>\n",
       "    </tr>\n",
       "    <tr>\n",
       "      <th>4</th>\n",
       "      <td>10128192</td>\n",
       "      <td>HOUSE</td>\n",
       "      <td>HOUSE</td>\n",
       "      <td>378242.0</td>\n",
       "      <td>148.0</td>\n",
       "      <td>3.0</td>\n",
       "      <td>Limburg</td>\n",
       "      <td>Zonhoven</td>\n",
       "      <td>Flanders</td>\n",
       "      <td>3520</td>\n",
       "      <td>...</td>\n",
       "      <td>4.0</td>\n",
       "      <td>NaN</td>\n",
       "      <td>NaN</td>\n",
       "      <td>NaN</td>\n",
       "      <td>True</td>\n",
       "      <td>NaN</td>\n",
       "      <td>True</td>\n",
       "      <td>589.0</td>\n",
       "      <td>NaN</td>\n",
       "      <td>NaN</td>\n",
       "    </tr>\n",
       "  </tbody>\n",
       "</table>\n",
       "<p>5 rows × 35 columns</p>\n",
       "</div>"
      ],
      "text/plain": [
       "         ID   Type Sub type     Price  NetHabitableSurface(msq)  BedroomCount  \\\n",
       "0  10128188  HOUSE    HOUSE  328330.0                     148.0           3.0   \n",
       "1  10128189  HOUSE    HOUSE  328330.0                     148.0           3.0   \n",
       "2  10128190  HOUSE    HOUSE  327829.0                     148.0           3.0   \n",
       "3  10128191  HOUSE    HOUSE  327829.0                     148.0           3.0   \n",
       "4  10128192  HOUSE    HOUSE  378242.0                     148.0           3.0   \n",
       "\n",
       "  Province  locality    Region PostCode  ... FacadeCount  HasLift  \\\n",
       "0  Limburg  Zonhoven  Flanders     3520  ...         3.0      NaN   \n",
       "1  Limburg  Zonhoven  Flanders     3520  ...         3.0      NaN   \n",
       "2  Limburg  Zonhoven  Flanders     3520  ...         3.0      NaN   \n",
       "3  Limburg  Zonhoven  Flanders     3520  ...         3.0      NaN   \n",
       "4  Limburg  Zonhoven  Flanders     3520  ...         4.0      NaN   \n",
       "\n",
       "  FloodZoneType HeatingType IsDoubleGlaze  HasBalcony  HasGarden  GardenArea  \\\n",
       "0           NaN         NaN          True         NaN       True       347.0   \n",
       "1           NaN         NaN          True         NaN       True       347.0   \n",
       "2           NaN         NaN          True         NaN       True       346.0   \n",
       "3           NaN         NaN          True         NaN       True       346.0   \n",
       "4           NaN         NaN          True         NaN       True       589.0   \n",
       "\n",
       "   KitchekType  LivingRoomArea  \n",
       "0          NaN             NaN  \n",
       "1          NaN             NaN  \n",
       "2          NaN             NaN  \n",
       "3          NaN             NaN  \n",
       "4          NaN             NaN  \n",
       "\n",
       "[5 rows x 35 columns]"
      ]
     },
     "execution_count": 16,
     "metadata": {},
     "output_type": "execute_result"
    }
   ],
   "source": [
    "df.head()\n"
   ]
  },
  {
   "cell_type": "code",
   "execution_count": 17,
   "metadata": {},
   "outputs": [
    {
     "data": {
      "text/plain": [
       "Index(['ID', 'Type', 'Sub type', 'Price', 'NetHabitableSurface(msq)',\n",
       "       'BedroomCount', 'Province', 'locality', 'Region', 'PostCode', 'street',\n",
       "       'Floor', 'RegionCode', 'IsIsolated', 'HasSeaView', 'SchoolDistance',\n",
       "       'ShopDistance', 'TransportDistance', 'NetHabitableSurface',\n",
       "       'TotalRoomCount', 'HasAttic', 'HasBasement', 'HasDiningRoom',\n",
       "       'BuildingCondition', 'ConstructionYear', 'FacadeCount', 'HasLift',\n",
       "       'FloodZoneType', 'HeatingType', 'IsDoubleGlaze', 'HasBalcony',\n",
       "       'HasGarden', 'GardenArea', 'KitchekType', 'LivingRoomArea'],\n",
       "      dtype='object')"
      ]
     },
     "execution_count": 17,
     "metadata": {},
     "output_type": "execute_result"
    }
   ],
   "source": [
    "df.columns"
   ]
  },
  {
   "cell_type": "code",
   "execution_count": 18,
   "metadata": {},
   "outputs": [
    {
     "data": {
      "text/html": [
       "<div>\n",
       "<style scoped>\n",
       "    .dataframe tbody tr th:only-of-type {\n",
       "        vertical-align: middle;\n",
       "    }\n",
       "\n",
       "    .dataframe tbody tr th {\n",
       "        vertical-align: top;\n",
       "    }\n",
       "\n",
       "    .dataframe thead th {\n",
       "        text-align: right;\n",
       "    }\n",
       "</style>\n",
       "<table border=\"1\" class=\"dataframe\">\n",
       "  <thead>\n",
       "    <tr style=\"text-align: right;\">\n",
       "      <th></th>\n",
       "      <th>count</th>\n",
       "      <th>unique</th>\n",
       "      <th>top</th>\n",
       "      <th>freq</th>\n",
       "      <th>mean</th>\n",
       "      <th>std</th>\n",
       "      <th>min</th>\n",
       "      <th>25%</th>\n",
       "      <th>50%</th>\n",
       "      <th>75%</th>\n",
       "      <th>max</th>\n",
       "    </tr>\n",
       "  </thead>\n",
       "  <tbody>\n",
       "    <tr>\n",
       "      <th>ID</th>\n",
       "      <td>21047.0</td>\n",
       "      <td>NaN</td>\n",
       "      <td>NaN</td>\n",
       "      <td>NaN</td>\n",
       "      <td>10148845.939184</td>\n",
       "      <td>11541.858189</td>\n",
       "      <td>10128188.0</td>\n",
       "      <td>10139022.5</td>\n",
       "      <td>10149580.0</td>\n",
       "      <td>10157350.5</td>\n",
       "      <td>10168916.0</td>\n",
       "    </tr>\n",
       "    <tr>\n",
       "      <th>Type</th>\n",
       "      <td>21047</td>\n",
       "      <td>2</td>\n",
       "      <td>HOUSE</td>\n",
       "      <td>11906</td>\n",
       "      <td>NaN</td>\n",
       "      <td>NaN</td>\n",
       "      <td>NaN</td>\n",
       "      <td>NaN</td>\n",
       "      <td>NaN</td>\n",
       "      <td>NaN</td>\n",
       "      <td>NaN</td>\n",
       "    </tr>\n",
       "    <tr>\n",
       "      <th>Sub type</th>\n",
       "      <td>21047</td>\n",
       "      <td>24</td>\n",
       "      <td>HOUSE</td>\n",
       "      <td>9227</td>\n",
       "      <td>NaN</td>\n",
       "      <td>NaN</td>\n",
       "      <td>NaN</td>\n",
       "      <td>NaN</td>\n",
       "      <td>NaN</td>\n",
       "      <td>NaN</td>\n",
       "      <td>NaN</td>\n",
       "    </tr>\n",
       "    <tr>\n",
       "      <th>Price</th>\n",
       "      <td>19434.0</td>\n",
       "      <td>NaN</td>\n",
       "      <td>NaN</td>\n",
       "      <td>NaN</td>\n",
       "      <td>396623.905166</td>\n",
       "      <td>403465.788486</td>\n",
       "      <td>1385.0</td>\n",
       "      <td>230000.0</td>\n",
       "      <td>315000.0</td>\n",
       "      <td>445000.0</td>\n",
       "      <td>29650000.0</td>\n",
       "    </tr>\n",
       "    <tr>\n",
       "      <th>NetHabitableSurface(msq)</th>\n",
       "      <td>18086.0</td>\n",
       "      <td>NaN</td>\n",
       "      <td>NaN</td>\n",
       "      <td>NaN</td>\n",
       "      <td>160.455103</td>\n",
       "      <td>222.093157</td>\n",
       "      <td>11.0</td>\n",
       "      <td>93.0</td>\n",
       "      <td>130.0</td>\n",
       "      <td>186.0</td>\n",
       "      <td>17842.0</td>\n",
       "    </tr>\n",
       "    <tr>\n",
       "      <th>BedroomCount</th>\n",
       "      <td>20571.0</td>\n",
       "      <td>NaN</td>\n",
       "      <td>NaN</td>\n",
       "      <td>NaN</td>\n",
       "      <td>2.990229</td>\n",
       "      <td>13.456484</td>\n",
       "      <td>1.0</td>\n",
       "      <td>2.0</td>\n",
       "      <td>3.0</td>\n",
       "      <td>3.0</td>\n",
       "      <td>1919.0</td>\n",
       "    </tr>\n",
       "    <tr>\n",
       "      <th>Province</th>\n",
       "      <td>20264</td>\n",
       "      <td>11</td>\n",
       "      <td>Antwerp</td>\n",
       "      <td>4039</td>\n",
       "      <td>NaN</td>\n",
       "      <td>NaN</td>\n",
       "      <td>NaN</td>\n",
       "      <td>NaN</td>\n",
       "      <td>NaN</td>\n",
       "      <td>NaN</td>\n",
       "      <td>NaN</td>\n",
       "    </tr>\n",
       "    <tr>\n",
       "      <th>locality</th>\n",
       "      <td>21047</td>\n",
       "      <td>2616</td>\n",
       "      <td>Gent</td>\n",
       "      <td>429</td>\n",
       "      <td>NaN</td>\n",
       "      <td>NaN</td>\n",
       "      <td>NaN</td>\n",
       "      <td>NaN</td>\n",
       "      <td>NaN</td>\n",
       "      <td>NaN</td>\n",
       "      <td>NaN</td>\n",
       "    </tr>\n",
       "    <tr>\n",
       "      <th>Region</th>\n",
       "      <td>20264</td>\n",
       "      <td>3</td>\n",
       "      <td>Flanders</td>\n",
       "      <td>12565</td>\n",
       "      <td>NaN</td>\n",
       "      <td>NaN</td>\n",
       "      <td>NaN</td>\n",
       "      <td>NaN</td>\n",
       "      <td>NaN</td>\n",
       "      <td>NaN</td>\n",
       "      <td>NaN</td>\n",
       "    </tr>\n",
       "    <tr>\n",
       "      <th>PostCode</th>\n",
       "      <td>21047</td>\n",
       "      <td>1305</td>\n",
       "      <td>9000</td>\n",
       "      <td>394</td>\n",
       "      <td>NaN</td>\n",
       "      <td>NaN</td>\n",
       "      <td>NaN</td>\n",
       "      <td>NaN</td>\n",
       "      <td>NaN</td>\n",
       "      <td>NaN</td>\n",
       "      <td>NaN</td>\n",
       "    </tr>\n",
       "    <tr>\n",
       "      <th>street</th>\n",
       "      <td>16513</td>\n",
       "      <td>7767</td>\n",
       "      <td>Mechelsesteenweg</td>\n",
       "      <td>175</td>\n",
       "      <td>NaN</td>\n",
       "      <td>NaN</td>\n",
       "      <td>NaN</td>\n",
       "      <td>NaN</td>\n",
       "      <td>NaN</td>\n",
       "      <td>NaN</td>\n",
       "      <td>NaN</td>\n",
       "    </tr>\n",
       "    <tr>\n",
       "      <th>Floor</th>\n",
       "      <td>6544.0</td>\n",
       "      <td>NaN</td>\n",
       "      <td>NaN</td>\n",
       "      <td>NaN</td>\n",
       "      <td>3.009169</td>\n",
       "      <td>17.840084</td>\n",
       "      <td>1.0</td>\n",
       "      <td>1.0</td>\n",
       "      <td>2.0</td>\n",
       "      <td>3.0</td>\n",
       "      <td>999.0</td>\n",
       "    </tr>\n",
       "    <tr>\n",
       "      <th>RegionCode</th>\n",
       "      <td>20264</td>\n",
       "      <td>3</td>\n",
       "      <td>FLANDERS</td>\n",
       "      <td>12565</td>\n",
       "      <td>NaN</td>\n",
       "      <td>NaN</td>\n",
       "      <td>NaN</td>\n",
       "      <td>NaN</td>\n",
       "      <td>NaN</td>\n",
       "      <td>NaN</td>\n",
       "      <td>NaN</td>\n",
       "    </tr>\n",
       "    <tr>\n",
       "      <th>IsIsolated</th>\n",
       "      <td>6131</td>\n",
       "      <td>10</td>\n",
       "      <td>URBAN</td>\n",
       "      <td>2564</td>\n",
       "      <td>NaN</td>\n",
       "      <td>NaN</td>\n",
       "      <td>NaN</td>\n",
       "      <td>NaN</td>\n",
       "      <td>NaN</td>\n",
       "      <td>NaN</td>\n",
       "      <td>NaN</td>\n",
       "    </tr>\n",
       "    <tr>\n",
       "      <th>HasSeaView</th>\n",
       "      <td>13</td>\n",
       "      <td>1</td>\n",
       "      <td>True</td>\n",
       "      <td>13</td>\n",
       "      <td>NaN</td>\n",
       "      <td>NaN</td>\n",
       "      <td>NaN</td>\n",
       "      <td>NaN</td>\n",
       "      <td>NaN</td>\n",
       "      <td>NaN</td>\n",
       "      <td>NaN</td>\n",
       "    </tr>\n",
       "    <tr>\n",
       "      <th>SchoolDistance</th>\n",
       "      <td>16608.0</td>\n",
       "      <td>NaN</td>\n",
       "      <td>NaN</td>\n",
       "      <td>NaN</td>\n",
       "      <td>110.087006</td>\n",
       "      <td>369.944464</td>\n",
       "      <td>0.0</td>\n",
       "      <td>0.0</td>\n",
       "      <td>0.0</td>\n",
       "      <td>0.0</td>\n",
       "      <td>9000.0</td>\n",
       "    </tr>\n",
       "    <tr>\n",
       "      <th>ShopDistance</th>\n",
       "      <td>16608.0</td>\n",
       "      <td>NaN</td>\n",
       "      <td>NaN</td>\n",
       "      <td>NaN</td>\n",
       "      <td>97.217124</td>\n",
       "      <td>572.958539</td>\n",
       "      <td>0.0</td>\n",
       "      <td>0.0</td>\n",
       "      <td>0.0</td>\n",
       "      <td>0.0</td>\n",
       "      <td>15000.0</td>\n",
       "    </tr>\n",
       "    <tr>\n",
       "      <th>TransportDistance</th>\n",
       "      <td>16608.0</td>\n",
       "      <td>NaN</td>\n",
       "      <td>NaN</td>\n",
       "      <td>NaN</td>\n",
       "      <td>27.124819</td>\n",
       "      <td>122.046176</td>\n",
       "      <td>0.0</td>\n",
       "      <td>0.0</td>\n",
       "      <td>0.0</td>\n",
       "      <td>0.0</td>\n",
       "      <td>3700.0</td>\n",
       "    </tr>\n",
       "    <tr>\n",
       "      <th>NetHabitableSurface</th>\n",
       "      <td>18086.0</td>\n",
       "      <td>NaN</td>\n",
       "      <td>NaN</td>\n",
       "      <td>NaN</td>\n",
       "      <td>160.455103</td>\n",
       "      <td>222.093157</td>\n",
       "      <td>11.0</td>\n",
       "      <td>93.0</td>\n",
       "      <td>130.0</td>\n",
       "      <td>186.0</td>\n",
       "      <td>17842.0</td>\n",
       "    </tr>\n",
       "    <tr>\n",
       "      <th>TotalRoomCount</th>\n",
       "      <td>1355.0</td>\n",
       "      <td>NaN</td>\n",
       "      <td>NaN</td>\n",
       "      <td>NaN</td>\n",
       "      <td>6.740221</td>\n",
       "      <td>4.171947</td>\n",
       "      <td>1.0</td>\n",
       "      <td>4.0</td>\n",
       "      <td>6.0</td>\n",
       "      <td>8.0</td>\n",
       "      <td>40.0</td>\n",
       "    </tr>\n",
       "    <tr>\n",
       "      <th>HasAttic</th>\n",
       "      <td>2699</td>\n",
       "      <td>1</td>\n",
       "      <td>True</td>\n",
       "      <td>2699</td>\n",
       "      <td>NaN</td>\n",
       "      <td>NaN</td>\n",
       "      <td>NaN</td>\n",
       "      <td>NaN</td>\n",
       "      <td>NaN</td>\n",
       "      <td>NaN</td>\n",
       "      <td>NaN</td>\n",
       "    </tr>\n",
       "    <tr>\n",
       "      <th>HasBasement</th>\n",
       "      <td>8311</td>\n",
       "      <td>1</td>\n",
       "      <td>True</td>\n",
       "      <td>8311</td>\n",
       "      <td>NaN</td>\n",
       "      <td>NaN</td>\n",
       "      <td>NaN</td>\n",
       "      <td>NaN</td>\n",
       "      <td>NaN</td>\n",
       "      <td>NaN</td>\n",
       "      <td>NaN</td>\n",
       "    </tr>\n",
       "    <tr>\n",
       "      <th>HasDiningRoom</th>\n",
       "      <td>3417</td>\n",
       "      <td>1</td>\n",
       "      <td>True</td>\n",
       "      <td>3417</td>\n",
       "      <td>NaN</td>\n",
       "      <td>NaN</td>\n",
       "      <td>NaN</td>\n",
       "      <td>NaN</td>\n",
       "      <td>NaN</td>\n",
       "      <td>NaN</td>\n",
       "      <td>NaN</td>\n",
       "    </tr>\n",
       "    <tr>\n",
       "      <th>BuildingCondition</th>\n",
       "      <td>14006</td>\n",
       "      <td>6</td>\n",
       "      <td>AS_NEW</td>\n",
       "      <td>5341</td>\n",
       "      <td>NaN</td>\n",
       "      <td>NaN</td>\n",
       "      <td>NaN</td>\n",
       "      <td>NaN</td>\n",
       "      <td>NaN</td>\n",
       "      <td>NaN</td>\n",
       "      <td>NaN</td>\n",
       "    </tr>\n",
       "    <tr>\n",
       "      <th>ConstructionYear</th>\n",
       "      <td>11796.0</td>\n",
       "      <td>NaN</td>\n",
       "      <td>NaN</td>\n",
       "      <td>NaN</td>\n",
       "      <td>1984.584012</td>\n",
       "      <td>111.486192</td>\n",
       "      <td>1753.0</td>\n",
       "      <td>1961.0</td>\n",
       "      <td>1989.0</td>\n",
       "      <td>2021.0</td>\n",
       "      <td>9999.0</td>\n",
       "    </tr>\n",
       "    <tr>\n",
       "      <th>FacadeCount</th>\n",
       "      <td>13618.0</td>\n",
       "      <td>NaN</td>\n",
       "      <td>NaN</td>\n",
       "      <td>NaN</td>\n",
       "      <td>2.780291</td>\n",
       "      <td>0.860917</td>\n",
       "      <td>1.0</td>\n",
       "      <td>2.0</td>\n",
       "      <td>3.0</td>\n",
       "      <td>4.0</td>\n",
       "      <td>8.0</td>\n",
       "    </tr>\n",
       "    <tr>\n",
       "      <th>HasLift</th>\n",
       "      <td>5384</td>\n",
       "      <td>1</td>\n",
       "      <td>True</td>\n",
       "      <td>5384</td>\n",
       "      <td>NaN</td>\n",
       "      <td>NaN</td>\n",
       "      <td>NaN</td>\n",
       "      <td>NaN</td>\n",
       "      <td>NaN</td>\n",
       "      <td>NaN</td>\n",
       "      <td>NaN</td>\n",
       "    </tr>\n",
       "    <tr>\n",
       "      <th>FloodZoneType</th>\n",
       "      <td>11118</td>\n",
       "      <td>9</td>\n",
       "      <td>NON_FLOOD_ZONE</td>\n",
       "      <td>10532</td>\n",
       "      <td>NaN</td>\n",
       "      <td>NaN</td>\n",
       "      <td>NaN</td>\n",
       "      <td>NaN</td>\n",
       "      <td>NaN</td>\n",
       "      <td>NaN</td>\n",
       "      <td>NaN</td>\n",
       "    </tr>\n",
       "    <tr>\n",
       "      <th>HeatingType</th>\n",
       "      <td>13002</td>\n",
       "      <td>7</td>\n",
       "      <td>GAS</td>\n",
       "      <td>9569</td>\n",
       "      <td>NaN</td>\n",
       "      <td>NaN</td>\n",
       "      <td>NaN</td>\n",
       "      <td>NaN</td>\n",
       "      <td>NaN</td>\n",
       "      <td>NaN</td>\n",
       "      <td>NaN</td>\n",
       "    </tr>\n",
       "    <tr>\n",
       "      <th>IsDoubleGlaze</th>\n",
       "      <td>13580</td>\n",
       "      <td>1</td>\n",
       "      <td>True</td>\n",
       "      <td>13580</td>\n",
       "      <td>NaN</td>\n",
       "      <td>NaN</td>\n",
       "      <td>NaN</td>\n",
       "      <td>NaN</td>\n",
       "      <td>NaN</td>\n",
       "      <td>NaN</td>\n",
       "      <td>NaN</td>\n",
       "    </tr>\n",
       "    <tr>\n",
       "      <th>HasBalcony</th>\n",
       "      <td>0.0</td>\n",
       "      <td>NaN</td>\n",
       "      <td>NaN</td>\n",
       "      <td>NaN</td>\n",
       "      <td>NaN</td>\n",
       "      <td>NaN</td>\n",
       "      <td>NaN</td>\n",
       "      <td>NaN</td>\n",
       "      <td>NaN</td>\n",
       "      <td>NaN</td>\n",
       "      <td>NaN</td>\n",
       "    </tr>\n",
       "    <tr>\n",
       "      <th>HasGarden</th>\n",
       "      <td>6725</td>\n",
       "      <td>1</td>\n",
       "      <td>True</td>\n",
       "      <td>6725</td>\n",
       "      <td>NaN</td>\n",
       "      <td>NaN</td>\n",
       "      <td>NaN</td>\n",
       "      <td>NaN</td>\n",
       "      <td>NaN</td>\n",
       "      <td>NaN</td>\n",
       "      <td>NaN</td>\n",
       "    </tr>\n",
       "    <tr>\n",
       "      <th>GardenArea</th>\n",
       "      <td>4041.0</td>\n",
       "      <td>NaN</td>\n",
       "      <td>NaN</td>\n",
       "      <td>NaN</td>\n",
       "      <td>607.7268</td>\n",
       "      <td>2896.863416</td>\n",
       "      <td>1.0</td>\n",
       "      <td>60.0</td>\n",
       "      <td>150.0</td>\n",
       "      <td>461.0</td>\n",
       "      <td>87000.0</td>\n",
       "    </tr>\n",
       "    <tr>\n",
       "      <th>KitchekType</th>\n",
       "      <td>13027</td>\n",
       "      <td>8</td>\n",
       "      <td>INSTALLED</td>\n",
       "      <td>6205</td>\n",
       "      <td>NaN</td>\n",
       "      <td>NaN</td>\n",
       "      <td>NaN</td>\n",
       "      <td>NaN</td>\n",
       "      <td>NaN</td>\n",
       "      <td>NaN</td>\n",
       "      <td>NaN</td>\n",
       "    </tr>\n",
       "    <tr>\n",
       "      <th>LivingRoomArea</th>\n",
       "      <td>6542.0</td>\n",
       "      <td>NaN</td>\n",
       "      <td>NaN</td>\n",
       "      <td>NaN</td>\n",
       "      <td>14.570009</td>\n",
       "      <td>40.806421</td>\n",
       "      <td>1.0</td>\n",
       "      <td>9.0</td>\n",
       "      <td>12.0</td>\n",
       "      <td>16.0</td>\n",
       "      <td>2153.0</td>\n",
       "    </tr>\n",
       "  </tbody>\n",
       "</table>\n",
       "</div>"
      ],
      "text/plain": [
       "                            count unique               top   freq  \\\n",
       "ID                        21047.0    NaN               NaN    NaN   \n",
       "Type                        21047      2             HOUSE  11906   \n",
       "Sub type                    21047     24             HOUSE   9227   \n",
       "Price                     19434.0    NaN               NaN    NaN   \n",
       "NetHabitableSurface(msq)  18086.0    NaN               NaN    NaN   \n",
       "BedroomCount              20571.0    NaN               NaN    NaN   \n",
       "Province                    20264     11           Antwerp   4039   \n",
       "locality                    21047   2616              Gent    429   \n",
       "Region                      20264      3          Flanders  12565   \n",
       "PostCode                    21047   1305              9000    394   \n",
       "street                      16513   7767  Mechelsesteenweg    175   \n",
       "Floor                      6544.0    NaN               NaN    NaN   \n",
       "RegionCode                  20264      3          FLANDERS  12565   \n",
       "IsIsolated                   6131     10             URBAN   2564   \n",
       "HasSeaView                     13      1              True     13   \n",
       "SchoolDistance            16608.0    NaN               NaN    NaN   \n",
       "ShopDistance              16608.0    NaN               NaN    NaN   \n",
       "TransportDistance         16608.0    NaN               NaN    NaN   \n",
       "NetHabitableSurface       18086.0    NaN               NaN    NaN   \n",
       "TotalRoomCount             1355.0    NaN               NaN    NaN   \n",
       "HasAttic                     2699      1              True   2699   \n",
       "HasBasement                  8311      1              True   8311   \n",
       "HasDiningRoom                3417      1              True   3417   \n",
       "BuildingCondition           14006      6            AS_NEW   5341   \n",
       "ConstructionYear          11796.0    NaN               NaN    NaN   \n",
       "FacadeCount               13618.0    NaN               NaN    NaN   \n",
       "HasLift                      5384      1              True   5384   \n",
       "FloodZoneType               11118      9    NON_FLOOD_ZONE  10532   \n",
       "HeatingType                 13002      7               GAS   9569   \n",
       "IsDoubleGlaze               13580      1              True  13580   \n",
       "HasBalcony                    0.0    NaN               NaN    NaN   \n",
       "HasGarden                    6725      1              True   6725   \n",
       "GardenArea                 4041.0    NaN               NaN    NaN   \n",
       "KitchekType                 13027      8         INSTALLED   6205   \n",
       "LivingRoomArea             6542.0    NaN               NaN    NaN   \n",
       "\n",
       "                                     mean            std         min  \\\n",
       "ID                        10148845.939184   11541.858189  10128188.0   \n",
       "Type                                  NaN            NaN         NaN   \n",
       "Sub type                              NaN            NaN         NaN   \n",
       "Price                       396623.905166  403465.788486      1385.0   \n",
       "NetHabitableSurface(msq)       160.455103     222.093157        11.0   \n",
       "BedroomCount                     2.990229      13.456484         1.0   \n",
       "Province                              NaN            NaN         NaN   \n",
       "locality                              NaN            NaN         NaN   \n",
       "Region                                NaN            NaN         NaN   \n",
       "PostCode                              NaN            NaN         NaN   \n",
       "street                                NaN            NaN         NaN   \n",
       "Floor                            3.009169      17.840084         1.0   \n",
       "RegionCode                            NaN            NaN         NaN   \n",
       "IsIsolated                            NaN            NaN         NaN   \n",
       "HasSeaView                            NaN            NaN         NaN   \n",
       "SchoolDistance                 110.087006     369.944464         0.0   \n",
       "ShopDistance                    97.217124     572.958539         0.0   \n",
       "TransportDistance               27.124819     122.046176         0.0   \n",
       "NetHabitableSurface            160.455103     222.093157        11.0   \n",
       "TotalRoomCount                   6.740221       4.171947         1.0   \n",
       "HasAttic                              NaN            NaN         NaN   \n",
       "HasBasement                           NaN            NaN         NaN   \n",
       "HasDiningRoom                         NaN            NaN         NaN   \n",
       "BuildingCondition                     NaN            NaN         NaN   \n",
       "ConstructionYear              1984.584012     111.486192      1753.0   \n",
       "FacadeCount                      2.780291       0.860917         1.0   \n",
       "HasLift                               NaN            NaN         NaN   \n",
       "FloodZoneType                         NaN            NaN         NaN   \n",
       "HeatingType                           NaN            NaN         NaN   \n",
       "IsDoubleGlaze                         NaN            NaN         NaN   \n",
       "HasBalcony                            NaN            NaN         NaN   \n",
       "HasGarden                             NaN            NaN         NaN   \n",
       "GardenArea                       607.7268    2896.863416         1.0   \n",
       "KitchekType                           NaN            NaN         NaN   \n",
       "LivingRoomArea                  14.570009      40.806421         1.0   \n",
       "\n",
       "                                 25%         50%         75%         max  \n",
       "ID                        10139022.5  10149580.0  10157350.5  10168916.0  \n",
       "Type                             NaN         NaN         NaN         NaN  \n",
       "Sub type                         NaN         NaN         NaN         NaN  \n",
       "Price                       230000.0    315000.0    445000.0  29650000.0  \n",
       "NetHabitableSurface(msq)        93.0       130.0       186.0     17842.0  \n",
       "BedroomCount                     2.0         3.0         3.0      1919.0  \n",
       "Province                         NaN         NaN         NaN         NaN  \n",
       "locality                         NaN         NaN         NaN         NaN  \n",
       "Region                           NaN         NaN         NaN         NaN  \n",
       "PostCode                         NaN         NaN         NaN         NaN  \n",
       "street                           NaN         NaN         NaN         NaN  \n",
       "Floor                            1.0         2.0         3.0       999.0  \n",
       "RegionCode                       NaN         NaN         NaN         NaN  \n",
       "IsIsolated                       NaN         NaN         NaN         NaN  \n",
       "HasSeaView                       NaN         NaN         NaN         NaN  \n",
       "SchoolDistance                   0.0         0.0         0.0      9000.0  \n",
       "ShopDistance                     0.0         0.0         0.0     15000.0  \n",
       "TransportDistance                0.0         0.0         0.0      3700.0  \n",
       "NetHabitableSurface             93.0       130.0       186.0     17842.0  \n",
       "TotalRoomCount                   4.0         6.0         8.0        40.0  \n",
       "HasAttic                         NaN         NaN         NaN         NaN  \n",
       "HasBasement                      NaN         NaN         NaN         NaN  \n",
       "HasDiningRoom                    NaN         NaN         NaN         NaN  \n",
       "BuildingCondition                NaN         NaN         NaN         NaN  \n",
       "ConstructionYear              1961.0      1989.0      2021.0      9999.0  \n",
       "FacadeCount                      2.0         3.0         4.0         8.0  \n",
       "HasLift                          NaN         NaN         NaN         NaN  \n",
       "FloodZoneType                    NaN         NaN         NaN         NaN  \n",
       "HeatingType                      NaN         NaN         NaN         NaN  \n",
       "IsDoubleGlaze                    NaN         NaN         NaN         NaN  \n",
       "HasBalcony                       NaN         NaN         NaN         NaN  \n",
       "HasGarden                        NaN         NaN         NaN         NaN  \n",
       "GardenArea                      60.0       150.0       461.0     87000.0  \n",
       "KitchekType                      NaN         NaN         NaN         NaN  \n",
       "LivingRoomArea                   9.0        12.0        16.0      2153.0  "
      ]
     },
     "execution_count": 18,
     "metadata": {},
     "output_type": "execute_result"
    }
   ],
   "source": [
    "df.describe(include='all').T # Transpose the data frame so that it fits in a cell"
   ]
  },
  {
   "cell_type": "code",
   "execution_count": 19,
   "metadata": {},
   "outputs": [],
   "source": [
    "# renaming the header of the data\n",
    "df = df.rename(columns={\"KitchekType\":\"KitchenType\",\"Sub type\":\"SubType\",\"street\":\"Street\",\"locality\":\"Locality\"})"
   ]
  },
  {
   "cell_type": "markdown",
   "metadata": {},
   "source": [
    "## 3. Converting booleans to 1 and 0"
   ]
  },
  {
   "cell_type": "code",
   "execution_count": 20,
   "metadata": {},
   "outputs": [
    {
     "data": {
      "text/html": [
       "<div>\n",
       "<style scoped>\n",
       "    .dataframe tbody tr th:only-of-type {\n",
       "        vertical-align: middle;\n",
       "    }\n",
       "\n",
       "    .dataframe tbody tr th {\n",
       "        vertical-align: top;\n",
       "    }\n",
       "\n",
       "    .dataframe thead th {\n",
       "        text-align: right;\n",
       "    }\n",
       "</style>\n",
       "<table border=\"1\" class=\"dataframe\">\n",
       "  <thead>\n",
       "    <tr style=\"text-align: right;\">\n",
       "      <th></th>\n",
       "      <th>ID</th>\n",
       "      <th>Type</th>\n",
       "      <th>SubType</th>\n",
       "      <th>Price</th>\n",
       "      <th>NetHabitableSurface(msq)</th>\n",
       "      <th>BedroomCount</th>\n",
       "      <th>Province</th>\n",
       "      <th>Locality</th>\n",
       "      <th>Region</th>\n",
       "      <th>PostCode</th>\n",
       "      <th>...</th>\n",
       "      <th>FacadeCount</th>\n",
       "      <th>HasLift</th>\n",
       "      <th>FloodZoneType</th>\n",
       "      <th>HeatingType</th>\n",
       "      <th>IsDoubleGlaze</th>\n",
       "      <th>HasBalcony</th>\n",
       "      <th>HasGarden</th>\n",
       "      <th>GardenArea</th>\n",
       "      <th>KitchenType</th>\n",
       "      <th>LivingRoomArea</th>\n",
       "    </tr>\n",
       "  </thead>\n",
       "  <tbody>\n",
       "    <tr>\n",
       "      <th>0</th>\n",
       "      <td>10128188</td>\n",
       "      <td>HOUSE</td>\n",
       "      <td>HOUSE</td>\n",
       "      <td>328330.0</td>\n",
       "      <td>148.0</td>\n",
       "      <td>3.0</td>\n",
       "      <td>Limburg</td>\n",
       "      <td>Zonhoven</td>\n",
       "      <td>Flanders</td>\n",
       "      <td>3520</td>\n",
       "      <td>...</td>\n",
       "      <td>3.0</td>\n",
       "      <td>NaN</td>\n",
       "      <td>NaN</td>\n",
       "      <td>NaN</td>\n",
       "      <td>1.0</td>\n",
       "      <td>NaN</td>\n",
       "      <td>1.0</td>\n",
       "      <td>347.0</td>\n",
       "      <td>NaN</td>\n",
       "      <td>NaN</td>\n",
       "    </tr>\n",
       "    <tr>\n",
       "      <th>1</th>\n",
       "      <td>10128189</td>\n",
       "      <td>HOUSE</td>\n",
       "      <td>HOUSE</td>\n",
       "      <td>328330.0</td>\n",
       "      <td>148.0</td>\n",
       "      <td>3.0</td>\n",
       "      <td>Limburg</td>\n",
       "      <td>Zonhoven</td>\n",
       "      <td>Flanders</td>\n",
       "      <td>3520</td>\n",
       "      <td>...</td>\n",
       "      <td>3.0</td>\n",
       "      <td>NaN</td>\n",
       "      <td>NaN</td>\n",
       "      <td>NaN</td>\n",
       "      <td>1.0</td>\n",
       "      <td>NaN</td>\n",
       "      <td>1.0</td>\n",
       "      <td>347.0</td>\n",
       "      <td>NaN</td>\n",
       "      <td>NaN</td>\n",
       "    </tr>\n",
       "    <tr>\n",
       "      <th>2</th>\n",
       "      <td>10128190</td>\n",
       "      <td>HOUSE</td>\n",
       "      <td>HOUSE</td>\n",
       "      <td>327829.0</td>\n",
       "      <td>148.0</td>\n",
       "      <td>3.0</td>\n",
       "      <td>Limburg</td>\n",
       "      <td>Zonhoven</td>\n",
       "      <td>Flanders</td>\n",
       "      <td>3520</td>\n",
       "      <td>...</td>\n",
       "      <td>3.0</td>\n",
       "      <td>NaN</td>\n",
       "      <td>NaN</td>\n",
       "      <td>NaN</td>\n",
       "      <td>1.0</td>\n",
       "      <td>NaN</td>\n",
       "      <td>1.0</td>\n",
       "      <td>346.0</td>\n",
       "      <td>NaN</td>\n",
       "      <td>NaN</td>\n",
       "    </tr>\n",
       "    <tr>\n",
       "      <th>3</th>\n",
       "      <td>10128191</td>\n",
       "      <td>HOUSE</td>\n",
       "      <td>HOUSE</td>\n",
       "      <td>327829.0</td>\n",
       "      <td>148.0</td>\n",
       "      <td>3.0</td>\n",
       "      <td>Limburg</td>\n",
       "      <td>Zonhoven</td>\n",
       "      <td>Flanders</td>\n",
       "      <td>3520</td>\n",
       "      <td>...</td>\n",
       "      <td>3.0</td>\n",
       "      <td>NaN</td>\n",
       "      <td>NaN</td>\n",
       "      <td>NaN</td>\n",
       "      <td>1.0</td>\n",
       "      <td>NaN</td>\n",
       "      <td>1.0</td>\n",
       "      <td>346.0</td>\n",
       "      <td>NaN</td>\n",
       "      <td>NaN</td>\n",
       "    </tr>\n",
       "    <tr>\n",
       "      <th>4</th>\n",
       "      <td>10128192</td>\n",
       "      <td>HOUSE</td>\n",
       "      <td>HOUSE</td>\n",
       "      <td>378242.0</td>\n",
       "      <td>148.0</td>\n",
       "      <td>3.0</td>\n",
       "      <td>Limburg</td>\n",
       "      <td>Zonhoven</td>\n",
       "      <td>Flanders</td>\n",
       "      <td>3520</td>\n",
       "      <td>...</td>\n",
       "      <td>4.0</td>\n",
       "      <td>NaN</td>\n",
       "      <td>NaN</td>\n",
       "      <td>NaN</td>\n",
       "      <td>1.0</td>\n",
       "      <td>NaN</td>\n",
       "      <td>1.0</td>\n",
       "      <td>589.0</td>\n",
       "      <td>NaN</td>\n",
       "      <td>NaN</td>\n",
       "    </tr>\n",
       "  </tbody>\n",
       "</table>\n",
       "<p>5 rows × 35 columns</p>\n",
       "</div>"
      ],
      "text/plain": [
       "         ID   Type SubType     Price  NetHabitableSurface(msq)  BedroomCount  \\\n",
       "0  10128188  HOUSE   HOUSE  328330.0                     148.0           3.0   \n",
       "1  10128189  HOUSE   HOUSE  328330.0                     148.0           3.0   \n",
       "2  10128190  HOUSE   HOUSE  327829.0                     148.0           3.0   \n",
       "3  10128191  HOUSE   HOUSE  327829.0                     148.0           3.0   \n",
       "4  10128192  HOUSE   HOUSE  378242.0                     148.0           3.0   \n",
       "\n",
       "  Province  Locality    Region PostCode  ... FacadeCount  HasLift  \\\n",
       "0  Limburg  Zonhoven  Flanders     3520  ...         3.0      NaN   \n",
       "1  Limburg  Zonhoven  Flanders     3520  ...         3.0      NaN   \n",
       "2  Limburg  Zonhoven  Flanders     3520  ...         3.0      NaN   \n",
       "3  Limburg  Zonhoven  Flanders     3520  ...         3.0      NaN   \n",
       "4  Limburg  Zonhoven  Flanders     3520  ...         4.0      NaN   \n",
       "\n",
       "  FloodZoneType HeatingType  IsDoubleGlaze  HasBalcony  HasGarden  GardenArea  \\\n",
       "0           NaN         NaN            1.0         NaN        1.0       347.0   \n",
       "1           NaN         NaN            1.0         NaN        1.0       347.0   \n",
       "2           NaN         NaN            1.0         NaN        1.0       346.0   \n",
       "3           NaN         NaN            1.0         NaN        1.0       346.0   \n",
       "4           NaN         NaN            1.0         NaN        1.0       589.0   \n",
       "\n",
       "   KitchenType  LivingRoomArea  \n",
       "0          NaN             NaN  \n",
       "1          NaN             NaN  \n",
       "2          NaN             NaN  \n",
       "3          NaN             NaN  \n",
       "4          NaN             NaN  \n",
       "\n",
       "[5 rows x 35 columns]"
      ]
     },
     "execution_count": 20,
     "metadata": {},
     "output_type": "execute_result"
    }
   ],
   "source": [
    "# convert boolean false and True to o and 1\n",
    "df.replace({False: 0, True: 1}, inplace=True)\n",
    "df.head()"
   ]
  },
  {
   "cell_type": "markdown",
   "metadata": {},
   "source": [
    "## 4.  check and remove  duplication \n"
   ]
  },
  {
   "cell_type": "code",
   "execution_count": 21,
   "metadata": {},
   "outputs": [
    {
     "data": {
      "text/plain": [
       "False"
      ]
     },
     "execution_count": 21,
     "metadata": {},
     "output_type": "execute_result"
    }
   ],
   "source": [
    "# check if the ID column is unique\n",
    "df['ID'].is_unique\n"
   ]
  },
  {
   "cell_type": "code",
   "execution_count": 22,
   "metadata": {},
   "outputs": [
    {
     "name": "stdout",
     "output_type": "stream",
     "text": [
      "(1379, 35)\n"
     ]
    },
    {
     "data": {
      "text/html": [
       "<div>\n",
       "<style scoped>\n",
       "    .dataframe tbody tr th:only-of-type {\n",
       "        vertical-align: middle;\n",
       "    }\n",
       "\n",
       "    .dataframe tbody tr th {\n",
       "        vertical-align: top;\n",
       "    }\n",
       "\n",
       "    .dataframe thead th {\n",
       "        text-align: right;\n",
       "    }\n",
       "</style>\n",
       "<table border=\"1\" class=\"dataframe\">\n",
       "  <thead>\n",
       "    <tr style=\"text-align: right;\">\n",
       "      <th></th>\n",
       "      <th>ID</th>\n",
       "      <th>Type</th>\n",
       "      <th>SubType</th>\n",
       "      <th>Price</th>\n",
       "      <th>NetHabitableSurface(msq)</th>\n",
       "      <th>BedroomCount</th>\n",
       "      <th>Province</th>\n",
       "      <th>Locality</th>\n",
       "      <th>Region</th>\n",
       "      <th>PostCode</th>\n",
       "      <th>...</th>\n",
       "      <th>FacadeCount</th>\n",
       "      <th>HasLift</th>\n",
       "      <th>FloodZoneType</th>\n",
       "      <th>HeatingType</th>\n",
       "      <th>IsDoubleGlaze</th>\n",
       "      <th>HasBalcony</th>\n",
       "      <th>HasGarden</th>\n",
       "      <th>GardenArea</th>\n",
       "      <th>KitchenType</th>\n",
       "      <th>LivingRoomArea</th>\n",
       "    </tr>\n",
       "  </thead>\n",
       "  <tbody>\n",
       "    <tr>\n",
       "      <th>12602</th>\n",
       "      <td>10151467</td>\n",
       "      <td>APARTMENT</td>\n",
       "      <td>APARTMENT</td>\n",
       "      <td>235000.0</td>\n",
       "      <td>90.0</td>\n",
       "      <td>2.0</td>\n",
       "      <td>Antwerp</td>\n",
       "      <td>Mortsel</td>\n",
       "      <td>Flanders</td>\n",
       "      <td>2640</td>\n",
       "      <td>...</td>\n",
       "      <td>NaN</td>\n",
       "      <td>NaN</td>\n",
       "      <td>NaN</td>\n",
       "      <td>NaN</td>\n",
       "      <td>1.0</td>\n",
       "      <td>NaN</td>\n",
       "      <td>NaN</td>\n",
       "      <td>NaN</td>\n",
       "      <td>NaN</td>\n",
       "      <td>NaN</td>\n",
       "    </tr>\n",
       "    <tr>\n",
       "      <th>12603</th>\n",
       "      <td>10151468</td>\n",
       "      <td>HOUSE</td>\n",
       "      <td>HOUSE</td>\n",
       "      <td>320000.0</td>\n",
       "      <td>161.0</td>\n",
       "      <td>2.0</td>\n",
       "      <td>West Flanders</td>\n",
       "      <td>Oostkamp</td>\n",
       "      <td>Flanders</td>\n",
       "      <td>8020</td>\n",
       "      <td>...</td>\n",
       "      <td>NaN</td>\n",
       "      <td>NaN</td>\n",
       "      <td>NON_FLOOD_ZONE</td>\n",
       "      <td>GAS</td>\n",
       "      <td>NaN</td>\n",
       "      <td>NaN</td>\n",
       "      <td>NaN</td>\n",
       "      <td>NaN</td>\n",
       "      <td>NaN</td>\n",
       "      <td>NaN</td>\n",
       "    </tr>\n",
       "    <tr>\n",
       "      <th>12604</th>\n",
       "      <td>10151472</td>\n",
       "      <td>HOUSE</td>\n",
       "      <td>HOUSE</td>\n",
       "      <td>184000.0</td>\n",
       "      <td>181.0</td>\n",
       "      <td>2.0</td>\n",
       "      <td>Limburg</td>\n",
       "      <td>Genk</td>\n",
       "      <td>Flanders</td>\n",
       "      <td>3600</td>\n",
       "      <td>...</td>\n",
       "      <td>NaN</td>\n",
       "      <td>NaN</td>\n",
       "      <td>NON_FLOOD_ZONE</td>\n",
       "      <td>NaN</td>\n",
       "      <td>NaN</td>\n",
       "      <td>NaN</td>\n",
       "      <td>1.0</td>\n",
       "      <td>NaN</td>\n",
       "      <td>NaN</td>\n",
       "      <td>NaN</td>\n",
       "    </tr>\n",
       "    <tr>\n",
       "      <th>12605</th>\n",
       "      <td>10151474</td>\n",
       "      <td>HOUSE</td>\n",
       "      <td>HOUSE</td>\n",
       "      <td>200000.0</td>\n",
       "      <td>130.0</td>\n",
       "      <td>3.0</td>\n",
       "      <td>Antwerp</td>\n",
       "      <td>Westerlo</td>\n",
       "      <td>Flanders</td>\n",
       "      <td>2260</td>\n",
       "      <td>...</td>\n",
       "      <td>NaN</td>\n",
       "      <td>NaN</td>\n",
       "      <td>NON_FLOOD_ZONE</td>\n",
       "      <td>GAS</td>\n",
       "      <td>1.0</td>\n",
       "      <td>NaN</td>\n",
       "      <td>1.0</td>\n",
       "      <td>NaN</td>\n",
       "      <td>NaN</td>\n",
       "      <td>NaN</td>\n",
       "    </tr>\n",
       "    <tr>\n",
       "      <th>12606</th>\n",
       "      <td>10151476</td>\n",
       "      <td>HOUSE</td>\n",
       "      <td>HOUSE</td>\n",
       "      <td>482000.0</td>\n",
       "      <td>151.0</td>\n",
       "      <td>3.0</td>\n",
       "      <td>Flemish Brabant</td>\n",
       "      <td>Dilbeek</td>\n",
       "      <td>Flanders</td>\n",
       "      <td>1700</td>\n",
       "      <td>...</td>\n",
       "      <td>NaN</td>\n",
       "      <td>NaN</td>\n",
       "      <td>NON_FLOOD_ZONE</td>\n",
       "      <td>NaN</td>\n",
       "      <td>1.0</td>\n",
       "      <td>NaN</td>\n",
       "      <td>1.0</td>\n",
       "      <td>NaN</td>\n",
       "      <td>NaN</td>\n",
       "      <td>NaN</td>\n",
       "    </tr>\n",
       "  </tbody>\n",
       "</table>\n",
       "<p>5 rows × 35 columns</p>\n",
       "</div>"
      ],
      "text/plain": [
       "             ID       Type    SubType     Price  NetHabitableSurface(msq)  \\\n",
       "12602  10151467  APARTMENT  APARTMENT  235000.0                      90.0   \n",
       "12603  10151468      HOUSE      HOUSE  320000.0                     161.0   \n",
       "12604  10151472      HOUSE      HOUSE  184000.0                     181.0   \n",
       "12605  10151474      HOUSE      HOUSE  200000.0                     130.0   \n",
       "12606  10151476      HOUSE      HOUSE  482000.0                     151.0   \n",
       "\n",
       "       BedroomCount         Province  Locality    Region PostCode  ...  \\\n",
       "12602           2.0          Antwerp   Mortsel  Flanders     2640  ...   \n",
       "12603           2.0    West Flanders  Oostkamp  Flanders     8020  ...   \n",
       "12604           2.0          Limburg      Genk  Flanders     3600  ...   \n",
       "12605           3.0          Antwerp  Westerlo  Flanders     2260  ...   \n",
       "12606           3.0  Flemish Brabant   Dilbeek  Flanders     1700  ...   \n",
       "\n",
       "      FacadeCount  HasLift   FloodZoneType HeatingType  IsDoubleGlaze  \\\n",
       "12602         NaN      NaN             NaN         NaN            1.0   \n",
       "12603         NaN      NaN  NON_FLOOD_ZONE         GAS            NaN   \n",
       "12604         NaN      NaN  NON_FLOOD_ZONE         NaN            NaN   \n",
       "12605         NaN      NaN  NON_FLOOD_ZONE         GAS            1.0   \n",
       "12606         NaN      NaN  NON_FLOOD_ZONE         NaN            1.0   \n",
       "\n",
       "       HasBalcony  HasGarden  GardenArea  KitchenType  LivingRoomArea  \n",
       "12602         NaN        NaN         NaN          NaN             NaN  \n",
       "12603         NaN        NaN         NaN          NaN             NaN  \n",
       "12604         NaN        1.0         NaN          NaN             NaN  \n",
       "12605         NaN        1.0         NaN          NaN             NaN  \n",
       "12606         NaN        1.0         NaN          NaN             NaN  \n",
       "\n",
       "[5 rows x 35 columns]"
      ]
     },
     "execution_count": 22,
     "metadata": {},
     "output_type": "execute_result"
    }
   ],
   "source": [
    "# finding the deplicated rows(with same ID Number)\n",
    "from os import dup\n",
    "duplicateRows = df[df.duplicated('ID')]\n",
    "print(duplicateRows.shape)\n",
    "duplicateRows.head()"
   ]
  },
  {
   "cell_type": "code",
   "execution_count": 23,
   "metadata": {},
   "outputs": [],
   "source": [
    "df = df.drop_duplicates()"
   ]
  },
  {
   "cell_type": "code",
   "execution_count": 24,
   "metadata": {},
   "outputs": [
    {
     "name": "stdout",
     "output_type": "stream",
     "text": [
      "1379 rows are duplicates and removed\n",
      "(19668, 35)\n"
     ]
    }
   ],
   "source": [
    "size_after_removing_duplicates = df.shape\n",
    "removed_duplicates = initial_size[0] - size_after_removing_duplicates[0]\n",
    "print(f'{removed_duplicates} rows are duplicates and removed')\n",
    "print(size_after_removing_duplicates)\n"
   ]
  },
  {
   "cell_type": "code",
   "execution_count": 25,
   "metadata": {},
   "outputs": [
    {
     "data": {
      "text/plain": [
       "count    1.966800e+04\n",
       "mean     1.014858e+07\n",
       "std      1.189163e+04\n",
       "min      1.012819e+07\n",
       "25%      1.013843e+07\n",
       "50%      1.014825e+07\n",
       "75%      1.015789e+07\n",
       "max      1.016892e+07\n",
       "Name: ID, dtype: float64"
      ]
     },
     "execution_count": 25,
     "metadata": {},
     "output_type": "execute_result"
    }
   ],
   "source": [
    "df[\"ID\"].describe()"
   ]
  },
  {
   "cell_type": "code",
   "execution_count": 26,
   "metadata": {},
   "outputs": [
    {
     "data": {
      "text/html": [
       "<div>\n",
       "<style scoped>\n",
       "    .dataframe tbody tr th:only-of-type {\n",
       "        vertical-align: middle;\n",
       "    }\n",
       "\n",
       "    .dataframe tbody tr th {\n",
       "        vertical-align: top;\n",
       "    }\n",
       "\n",
       "    .dataframe thead th {\n",
       "        text-align: right;\n",
       "    }\n",
       "</style>\n",
       "<table border=\"1\" class=\"dataframe\">\n",
       "  <thead>\n",
       "    <tr style=\"text-align: right;\">\n",
       "      <th></th>\n",
       "      <th>ID</th>\n",
       "      <th>Type</th>\n",
       "      <th>SubType</th>\n",
       "      <th>Price</th>\n",
       "      <th>NetHabitableSurface(msq)</th>\n",
       "      <th>BedroomCount</th>\n",
       "      <th>Province</th>\n",
       "      <th>Locality</th>\n",
       "      <th>Region</th>\n",
       "      <th>PostCode</th>\n",
       "      <th>...</th>\n",
       "      <th>FacadeCount</th>\n",
       "      <th>HasLift</th>\n",
       "      <th>FloodZoneType</th>\n",
       "      <th>HeatingType</th>\n",
       "      <th>IsDoubleGlaze</th>\n",
       "      <th>HasBalcony</th>\n",
       "      <th>HasGarden</th>\n",
       "      <th>GardenArea</th>\n",
       "      <th>KitchenType</th>\n",
       "      <th>LivingRoomArea</th>\n",
       "    </tr>\n",
       "  </thead>\n",
       "  <tbody>\n",
       "    <tr>\n",
       "      <th>0</th>\n",
       "      <td>10128188</td>\n",
       "      <td>HOUSE</td>\n",
       "      <td>HOUSE</td>\n",
       "      <td>328330.0</td>\n",
       "      <td>148.0</td>\n",
       "      <td>3.0</td>\n",
       "      <td>Limburg</td>\n",
       "      <td>Zonhoven</td>\n",
       "      <td>Flanders</td>\n",
       "      <td>3520</td>\n",
       "      <td>...</td>\n",
       "      <td>3.0</td>\n",
       "      <td>NaN</td>\n",
       "      <td>NaN</td>\n",
       "      <td>NaN</td>\n",
       "      <td>1.0</td>\n",
       "      <td>NaN</td>\n",
       "      <td>1.0</td>\n",
       "      <td>347.0</td>\n",
       "      <td>NaN</td>\n",
       "      <td>NaN</td>\n",
       "    </tr>\n",
       "    <tr>\n",
       "      <th>1</th>\n",
       "      <td>10128189</td>\n",
       "      <td>HOUSE</td>\n",
       "      <td>HOUSE</td>\n",
       "      <td>328330.0</td>\n",
       "      <td>148.0</td>\n",
       "      <td>3.0</td>\n",
       "      <td>Limburg</td>\n",
       "      <td>Zonhoven</td>\n",
       "      <td>Flanders</td>\n",
       "      <td>3520</td>\n",
       "      <td>...</td>\n",
       "      <td>3.0</td>\n",
       "      <td>NaN</td>\n",
       "      <td>NaN</td>\n",
       "      <td>NaN</td>\n",
       "      <td>1.0</td>\n",
       "      <td>NaN</td>\n",
       "      <td>1.0</td>\n",
       "      <td>347.0</td>\n",
       "      <td>NaN</td>\n",
       "      <td>NaN</td>\n",
       "    </tr>\n",
       "    <tr>\n",
       "      <th>2</th>\n",
       "      <td>10128190</td>\n",
       "      <td>HOUSE</td>\n",
       "      <td>HOUSE</td>\n",
       "      <td>327829.0</td>\n",
       "      <td>148.0</td>\n",
       "      <td>3.0</td>\n",
       "      <td>Limburg</td>\n",
       "      <td>Zonhoven</td>\n",
       "      <td>Flanders</td>\n",
       "      <td>3520</td>\n",
       "      <td>...</td>\n",
       "      <td>3.0</td>\n",
       "      <td>NaN</td>\n",
       "      <td>NaN</td>\n",
       "      <td>NaN</td>\n",
       "      <td>1.0</td>\n",
       "      <td>NaN</td>\n",
       "      <td>1.0</td>\n",
       "      <td>346.0</td>\n",
       "      <td>NaN</td>\n",
       "      <td>NaN</td>\n",
       "    </tr>\n",
       "    <tr>\n",
       "      <th>3</th>\n",
       "      <td>10128191</td>\n",
       "      <td>HOUSE</td>\n",
       "      <td>HOUSE</td>\n",
       "      <td>327829.0</td>\n",
       "      <td>148.0</td>\n",
       "      <td>3.0</td>\n",
       "      <td>Limburg</td>\n",
       "      <td>Zonhoven</td>\n",
       "      <td>Flanders</td>\n",
       "      <td>3520</td>\n",
       "      <td>...</td>\n",
       "      <td>3.0</td>\n",
       "      <td>NaN</td>\n",
       "      <td>NaN</td>\n",
       "      <td>NaN</td>\n",
       "      <td>1.0</td>\n",
       "      <td>NaN</td>\n",
       "      <td>1.0</td>\n",
       "      <td>346.0</td>\n",
       "      <td>NaN</td>\n",
       "      <td>NaN</td>\n",
       "    </tr>\n",
       "    <tr>\n",
       "      <th>4</th>\n",
       "      <td>10128192</td>\n",
       "      <td>HOUSE</td>\n",
       "      <td>HOUSE</td>\n",
       "      <td>378242.0</td>\n",
       "      <td>148.0</td>\n",
       "      <td>3.0</td>\n",
       "      <td>Limburg</td>\n",
       "      <td>Zonhoven</td>\n",
       "      <td>Flanders</td>\n",
       "      <td>3520</td>\n",
       "      <td>...</td>\n",
       "      <td>4.0</td>\n",
       "      <td>NaN</td>\n",
       "      <td>NaN</td>\n",
       "      <td>NaN</td>\n",
       "      <td>1.0</td>\n",
       "      <td>NaN</td>\n",
       "      <td>1.0</td>\n",
       "      <td>589.0</td>\n",
       "      <td>NaN</td>\n",
       "      <td>NaN</td>\n",
       "    </tr>\n",
       "  </tbody>\n",
       "</table>\n",
       "<p>5 rows × 35 columns</p>\n",
       "</div>"
      ],
      "text/plain": [
       "         ID   Type SubType     Price  NetHabitableSurface(msq)  BedroomCount  \\\n",
       "0  10128188  HOUSE   HOUSE  328330.0                     148.0           3.0   \n",
       "1  10128189  HOUSE   HOUSE  328330.0                     148.0           3.0   \n",
       "2  10128190  HOUSE   HOUSE  327829.0                     148.0           3.0   \n",
       "3  10128191  HOUSE   HOUSE  327829.0                     148.0           3.0   \n",
       "4  10128192  HOUSE   HOUSE  378242.0                     148.0           3.0   \n",
       "\n",
       "  Province  Locality    Region PostCode  ... FacadeCount  HasLift  \\\n",
       "0  Limburg  Zonhoven  Flanders     3520  ...         3.0      NaN   \n",
       "1  Limburg  Zonhoven  Flanders     3520  ...         3.0      NaN   \n",
       "2  Limburg  Zonhoven  Flanders     3520  ...         3.0      NaN   \n",
       "3  Limburg  Zonhoven  Flanders     3520  ...         3.0      NaN   \n",
       "4  Limburg  Zonhoven  Flanders     3520  ...         4.0      NaN   \n",
       "\n",
       "  FloodZoneType HeatingType  IsDoubleGlaze  HasBalcony  HasGarden  GardenArea  \\\n",
       "0           NaN         NaN            1.0         NaN        1.0       347.0   \n",
       "1           NaN         NaN            1.0         NaN        1.0       347.0   \n",
       "2           NaN         NaN            1.0         NaN        1.0       346.0   \n",
       "3           NaN         NaN            1.0         NaN        1.0       346.0   \n",
       "4           NaN         NaN            1.0         NaN        1.0       589.0   \n",
       "\n",
       "   KitchenType  LivingRoomArea  \n",
       "0          NaN             NaN  \n",
       "1          NaN             NaN  \n",
       "2          NaN             NaN  \n",
       "3          NaN             NaN  \n",
       "4          NaN             NaN  \n",
       "\n",
       "[5 rows x 35 columns]"
      ]
     },
     "execution_count": 26,
     "metadata": {},
     "output_type": "execute_result"
    }
   ],
   "source": [
    "# Replace empty cells of the \"Price\" column by NaN\n",
    "df['Price'].replace('', np.nan, inplace=True)\n",
    "df.head()"
   ]
  },
  {
   "cell_type": "markdown",
   "metadata": {},
   "source": [
    "## 5. cleaning in the \"Price\" column "
   ]
  },
  {
   "cell_type": "code",
   "execution_count": 27,
   "metadata": {},
   "outputs": [
    {
     "data": {
      "text/plain": [
       "(18211, 35)"
      ]
     },
     "execution_count": 27,
     "metadata": {},
     "output_type": "execute_result"
    }
   ],
   "source": [
    "# drop the rows for those with empty price\n",
    "df.dropna(subset=['Price'], inplace=True)\n",
    "df.shape"
   ]
  },
  {
   "cell_type": "code",
   "execution_count": 28,
   "metadata": {},
   "outputs": [
    {
     "name": "stdout",
     "output_type": "stream",
     "text": [
      "1457 of 21047  data collected has no price\n",
      " Now we have data for 18211  proprties in Belgium \n"
     ]
    }
   ],
   "source": [
    "print(f'{size_after_removing_duplicates[0]-df.shape[0]} of {initial_size[0]}  data collected has no price' )\n",
    "print(f' Now we have data for {df.shape[0]}  proprties in Belgium ')"
   ]
  },
  {
   "cell_type": "code",
   "execution_count": 29,
   "metadata": {},
   "outputs": [
    {
     "data": {
      "text/plain": [
       "count    0.0\n",
       "mean     NaN\n",
       "std      NaN\n",
       "min      NaN\n",
       "25%      NaN\n",
       "50%      NaN\n",
       "75%      NaN\n",
       "max      NaN\n",
       "Name: HasBalcony, dtype: float64"
      ]
     },
     "execution_count": 29,
     "metadata": {},
     "output_type": "execute_result"
    }
   ],
   "source": [
    "# to be deleted\n",
    "df[\"HasBalcony\"].describe()"
   ]
  },
  {
   "cell_type": "code",
   "execution_count": 30,
   "metadata": {},
   "outputs": [
    {
     "data": {
      "text/html": [
       "<div>\n",
       "<style scoped>\n",
       "    .dataframe tbody tr th:only-of-type {\n",
       "        vertical-align: middle;\n",
       "    }\n",
       "\n",
       "    .dataframe tbody tr th {\n",
       "        vertical-align: top;\n",
       "    }\n",
       "\n",
       "    .dataframe thead th {\n",
       "        text-align: right;\n",
       "    }\n",
       "</style>\n",
       "<table border=\"1\" class=\"dataframe\">\n",
       "  <thead>\n",
       "    <tr style=\"text-align: right;\">\n",
       "      <th></th>\n",
       "      <th>ID</th>\n",
       "      <th>Price</th>\n",
       "      <th>NetHabitableSurface(msq)</th>\n",
       "      <th>BedroomCount</th>\n",
       "      <th>Floor</th>\n",
       "      <th>HasSeaView</th>\n",
       "      <th>SchoolDistance</th>\n",
       "      <th>ShopDistance</th>\n",
       "      <th>TransportDistance</th>\n",
       "      <th>NetHabitableSurface</th>\n",
       "      <th>...</th>\n",
       "      <th>HasBasement</th>\n",
       "      <th>HasDiningRoom</th>\n",
       "      <th>ConstructionYear</th>\n",
       "      <th>FacadeCount</th>\n",
       "      <th>HasLift</th>\n",
       "      <th>IsDoubleGlaze</th>\n",
       "      <th>HasBalcony</th>\n",
       "      <th>HasGarden</th>\n",
       "      <th>GardenArea</th>\n",
       "      <th>LivingRoomArea</th>\n",
       "    </tr>\n",
       "  </thead>\n",
       "  <tbody>\n",
       "    <tr>\n",
       "      <th>count</th>\n",
       "      <td>1.821100e+04</td>\n",
       "      <td>1.821100e+04</td>\n",
       "      <td>15550.000000</td>\n",
       "      <td>17810.000000</td>\n",
       "      <td>5277.000000</td>\n",
       "      <td>12.0</td>\n",
       "      <td>14458.000000</td>\n",
       "      <td>14458.000000</td>\n",
       "      <td>14458.000000</td>\n",
       "      <td>15550.000000</td>\n",
       "      <td>...</td>\n",
       "      <td>7254.0</td>\n",
       "      <td>3099.0</td>\n",
       "      <td>10277.000000</td>\n",
       "      <td>12258.000000</td>\n",
       "      <td>4326.0</td>\n",
       "      <td>11814.0</td>\n",
       "      <td>0.0</td>\n",
       "      <td>5935.0</td>\n",
       "      <td>3520.000000</td>\n",
       "      <td>5811.000000</td>\n",
       "    </tr>\n",
       "    <tr>\n",
       "      <th>mean</th>\n",
       "      <td>1.014851e+07</td>\n",
       "      <td>3.958509e+05</td>\n",
       "      <td>163.420900</td>\n",
       "      <td>3.050646</td>\n",
       "      <td>3.149896</td>\n",
       "      <td>1.0</td>\n",
       "      <td>107.950339</td>\n",
       "      <td>100.495020</td>\n",
       "      <td>26.413266</td>\n",
       "      <td>163.420900</td>\n",
       "      <td>...</td>\n",
       "      <td>1.0</td>\n",
       "      <td>1.0</td>\n",
       "      <td>1981.681425</td>\n",
       "      <td>2.777125</td>\n",
       "      <td>1.0</td>\n",
       "      <td>1.0</td>\n",
       "      <td>NaN</td>\n",
       "      <td>1.0</td>\n",
       "      <td>641.649716</td>\n",
       "      <td>14.961452</td>\n",
       "    </tr>\n",
       "    <tr>\n",
       "      <th>std</th>\n",
       "      <td>1.194431e+04</td>\n",
       "      <td>4.070204e+05</td>\n",
       "      <td>193.691889</td>\n",
       "      <td>14.453556</td>\n",
       "      <td>19.777805</td>\n",
       "      <td>0.0</td>\n",
       "      <td>368.895605</td>\n",
       "      <td>602.382276</td>\n",
       "      <td>123.721231</td>\n",
       "      <td>193.691889</td>\n",
       "      <td>...</td>\n",
       "      <td>0.0</td>\n",
       "      <td>0.0</td>\n",
       "      <td>88.244062</td>\n",
       "      <td>0.866607</td>\n",
       "      <td>0.0</td>\n",
       "      <td>0.0</td>\n",
       "      <td>NaN</td>\n",
       "      <td>0.0</td>\n",
       "      <td>3047.464076</td>\n",
       "      <td>43.223104</td>\n",
       "    </tr>\n",
       "    <tr>\n",
       "      <th>min</th>\n",
       "      <td>1.012819e+07</td>\n",
       "      <td>1.385000e+03</td>\n",
       "      <td>11.000000</td>\n",
       "      <td>1.000000</td>\n",
       "      <td>1.000000</td>\n",
       "      <td>1.0</td>\n",
       "      <td>0.000000</td>\n",
       "      <td>0.000000</td>\n",
       "      <td>0.000000</td>\n",
       "      <td>11.000000</td>\n",
       "      <td>...</td>\n",
       "      <td>1.0</td>\n",
       "      <td>1.0</td>\n",
       "      <td>1753.000000</td>\n",
       "      <td>1.000000</td>\n",
       "      <td>1.0</td>\n",
       "      <td>1.0</td>\n",
       "      <td>NaN</td>\n",
       "      <td>1.0</td>\n",
       "      <td>1.000000</td>\n",
       "      <td>1.000000</td>\n",
       "    </tr>\n",
       "    <tr>\n",
       "      <th>25%</th>\n",
       "      <td>1.013834e+07</td>\n",
       "      <td>2.300000e+05</td>\n",
       "      <td>94.000000</td>\n",
       "      <td>2.000000</td>\n",
       "      <td>1.000000</td>\n",
       "      <td>1.0</td>\n",
       "      <td>0.000000</td>\n",
       "      <td>0.000000</td>\n",
       "      <td>0.000000</td>\n",
       "      <td>94.000000</td>\n",
       "      <td>...</td>\n",
       "      <td>1.0</td>\n",
       "      <td>1.0</td>\n",
       "      <td>1960.000000</td>\n",
       "      <td>2.000000</td>\n",
       "      <td>1.0</td>\n",
       "      <td>1.0</td>\n",
       "      <td>NaN</td>\n",
       "      <td>1.0</td>\n",
       "      <td>60.000000</td>\n",
       "      <td>9.000000</td>\n",
       "    </tr>\n",
       "    <tr>\n",
       "      <th>50%</th>\n",
       "      <td>1.014813e+07</td>\n",
       "      <td>3.150000e+05</td>\n",
       "      <td>134.000000</td>\n",
       "      <td>3.000000</td>\n",
       "      <td>2.000000</td>\n",
       "      <td>1.0</td>\n",
       "      <td>0.000000</td>\n",
       "      <td>0.000000</td>\n",
       "      <td>0.000000</td>\n",
       "      <td>134.000000</td>\n",
       "      <td>...</td>\n",
       "      <td>1.0</td>\n",
       "      <td>1.0</td>\n",
       "      <td>1983.000000</td>\n",
       "      <td>3.000000</td>\n",
       "      <td>1.0</td>\n",
       "      <td>1.0</td>\n",
       "      <td>NaN</td>\n",
       "      <td>1.0</td>\n",
       "      <td>160.000000</td>\n",
       "      <td>12.000000</td>\n",
       "    </tr>\n",
       "    <tr>\n",
       "      <th>75%</th>\n",
       "      <td>1.015795e+07</td>\n",
       "      <td>4.438875e+05</td>\n",
       "      <td>190.750000</td>\n",
       "      <td>3.000000</td>\n",
       "      <td>3.000000</td>\n",
       "      <td>1.0</td>\n",
       "      <td>0.000000</td>\n",
       "      <td>0.000000</td>\n",
       "      <td>0.000000</td>\n",
       "      <td>190.750000</td>\n",
       "      <td>...</td>\n",
       "      <td>1.0</td>\n",
       "      <td>1.0</td>\n",
       "      <td>2020.000000</td>\n",
       "      <td>4.000000</td>\n",
       "      <td>1.0</td>\n",
       "      <td>1.0</td>\n",
       "      <td>NaN</td>\n",
       "      <td>1.0</td>\n",
       "      <td>500.000000</td>\n",
       "      <td>16.000000</td>\n",
       "    </tr>\n",
       "    <tr>\n",
       "      <th>max</th>\n",
       "      <td>1.016892e+07</td>\n",
       "      <td>2.965000e+07</td>\n",
       "      <td>17842.000000</td>\n",
       "      <td>1919.000000</td>\n",
       "      <td>999.000000</td>\n",
       "      <td>1.0</td>\n",
       "      <td>9000.000000</td>\n",
       "      <td>15000.000000</td>\n",
       "      <td>3700.000000</td>\n",
       "      <td>17842.000000</td>\n",
       "      <td>...</td>\n",
       "      <td>1.0</td>\n",
       "      <td>1.0</td>\n",
       "      <td>9999.000000</td>\n",
       "      <td>8.000000</td>\n",
       "      <td>1.0</td>\n",
       "      <td>1.0</td>\n",
       "      <td>NaN</td>\n",
       "      <td>1.0</td>\n",
       "      <td>87000.000000</td>\n",
       "      <td>2153.000000</td>\n",
       "    </tr>\n",
       "  </tbody>\n",
       "</table>\n",
       "<p>8 rows × 22 columns</p>\n",
       "</div>"
      ],
      "text/plain": [
       "                 ID         Price  NetHabitableSurface(msq)  BedroomCount  \\\n",
       "count  1.821100e+04  1.821100e+04              15550.000000  17810.000000   \n",
       "mean   1.014851e+07  3.958509e+05                163.420900      3.050646   \n",
       "std    1.194431e+04  4.070204e+05                193.691889     14.453556   \n",
       "min    1.012819e+07  1.385000e+03                 11.000000      1.000000   \n",
       "25%    1.013834e+07  2.300000e+05                 94.000000      2.000000   \n",
       "50%    1.014813e+07  3.150000e+05                134.000000      3.000000   \n",
       "75%    1.015795e+07  4.438875e+05                190.750000      3.000000   \n",
       "max    1.016892e+07  2.965000e+07              17842.000000   1919.000000   \n",
       "\n",
       "             Floor  HasSeaView  SchoolDistance  ShopDistance  \\\n",
       "count  5277.000000        12.0    14458.000000  14458.000000   \n",
       "mean      3.149896         1.0      107.950339    100.495020   \n",
       "std      19.777805         0.0      368.895605    602.382276   \n",
       "min       1.000000         1.0        0.000000      0.000000   \n",
       "25%       1.000000         1.0        0.000000      0.000000   \n",
       "50%       2.000000         1.0        0.000000      0.000000   \n",
       "75%       3.000000         1.0        0.000000      0.000000   \n",
       "max     999.000000         1.0     9000.000000  15000.000000   \n",
       "\n",
       "       TransportDistance  NetHabitableSurface  ...  HasBasement  \\\n",
       "count       14458.000000         15550.000000  ...       7254.0   \n",
       "mean           26.413266           163.420900  ...          1.0   \n",
       "std           123.721231           193.691889  ...          0.0   \n",
       "min             0.000000            11.000000  ...          1.0   \n",
       "25%             0.000000            94.000000  ...          1.0   \n",
       "50%             0.000000           134.000000  ...          1.0   \n",
       "75%             0.000000           190.750000  ...          1.0   \n",
       "max          3700.000000         17842.000000  ...          1.0   \n",
       "\n",
       "       HasDiningRoom  ConstructionYear   FacadeCount  HasLift  IsDoubleGlaze  \\\n",
       "count         3099.0      10277.000000  12258.000000   4326.0        11814.0   \n",
       "mean             1.0       1981.681425      2.777125      1.0            1.0   \n",
       "std              0.0         88.244062      0.866607      0.0            0.0   \n",
       "min              1.0       1753.000000      1.000000      1.0            1.0   \n",
       "25%              1.0       1960.000000      2.000000      1.0            1.0   \n",
       "50%              1.0       1983.000000      3.000000      1.0            1.0   \n",
       "75%              1.0       2020.000000      4.000000      1.0            1.0   \n",
       "max              1.0       9999.000000      8.000000      1.0            1.0   \n",
       "\n",
       "       HasBalcony  HasGarden    GardenArea  LivingRoomArea  \n",
       "count         0.0     5935.0   3520.000000     5811.000000  \n",
       "mean          NaN        1.0    641.649716       14.961452  \n",
       "std           NaN        0.0   3047.464076       43.223104  \n",
       "min           NaN        1.0      1.000000        1.000000  \n",
       "25%           NaN        1.0     60.000000        9.000000  \n",
       "50%           NaN        1.0    160.000000       12.000000  \n",
       "75%           NaN        1.0    500.000000       16.000000  \n",
       "max           NaN        1.0  87000.000000     2153.000000  \n",
       "\n",
       "[8 rows x 22 columns]"
      ]
     },
     "execution_count": 30,
     "metadata": {},
     "output_type": "execute_result"
    }
   ],
   "source": [
    "df.describe()"
   ]
  },
  {
   "cell_type": "code",
   "execution_count": 31,
   "metadata": {},
   "outputs": [
    {
     "data": {
      "text/html": [
       "<div>\n",
       "<style scoped>\n",
       "    .dataframe tbody tr th:only-of-type {\n",
       "        vertical-align: middle;\n",
       "    }\n",
       "\n",
       "    .dataframe tbody tr th {\n",
       "        vertical-align: top;\n",
       "    }\n",
       "\n",
       "    .dataframe thead th {\n",
       "        text-align: right;\n",
       "    }\n",
       "</style>\n",
       "<table border=\"1\" class=\"dataframe\">\n",
       "  <thead>\n",
       "    <tr style=\"text-align: right;\">\n",
       "      <th></th>\n",
       "      <th>count</th>\n",
       "      <th>unique</th>\n",
       "      <th>top</th>\n",
       "      <th>freq</th>\n",
       "      <th>mean</th>\n",
       "      <th>std</th>\n",
       "      <th>min</th>\n",
       "      <th>25%</th>\n",
       "      <th>50%</th>\n",
       "      <th>75%</th>\n",
       "      <th>max</th>\n",
       "    </tr>\n",
       "  </thead>\n",
       "  <tbody>\n",
       "    <tr>\n",
       "      <th>ID</th>\n",
       "      <td>18211.0</td>\n",
       "      <td>NaN</td>\n",
       "      <td>NaN</td>\n",
       "      <td>NaN</td>\n",
       "      <td>10148510.587832</td>\n",
       "      <td>11944.308767</td>\n",
       "      <td>10128188.0</td>\n",
       "      <td>10138337.5</td>\n",
       "      <td>10148134.0</td>\n",
       "      <td>10157954.5</td>\n",
       "      <td>10168916.0</td>\n",
       "    </tr>\n",
       "    <tr>\n",
       "      <th>Type</th>\n",
       "      <td>18211</td>\n",
       "      <td>2</td>\n",
       "      <td>HOUSE</td>\n",
       "      <td>10818</td>\n",
       "      <td>NaN</td>\n",
       "      <td>NaN</td>\n",
       "      <td>NaN</td>\n",
       "      <td>NaN</td>\n",
       "      <td>NaN</td>\n",
       "      <td>NaN</td>\n",
       "      <td>NaN</td>\n",
       "    </tr>\n",
       "    <tr>\n",
       "      <th>SubType</th>\n",
       "      <td>18211</td>\n",
       "      <td>24</td>\n",
       "      <td>HOUSE</td>\n",
       "      <td>8344</td>\n",
       "      <td>NaN</td>\n",
       "      <td>NaN</td>\n",
       "      <td>NaN</td>\n",
       "      <td>NaN</td>\n",
       "      <td>NaN</td>\n",
       "      <td>NaN</td>\n",
       "      <td>NaN</td>\n",
       "    </tr>\n",
       "    <tr>\n",
       "      <th>Price</th>\n",
       "      <td>18211.0</td>\n",
       "      <td>NaN</td>\n",
       "      <td>NaN</td>\n",
       "      <td>NaN</td>\n",
       "      <td>395850.930811</td>\n",
       "      <td>407020.425225</td>\n",
       "      <td>1385.0</td>\n",
       "      <td>230000.0</td>\n",
       "      <td>315000.0</td>\n",
       "      <td>443887.5</td>\n",
       "      <td>29650000.0</td>\n",
       "    </tr>\n",
       "    <tr>\n",
       "      <th>NetHabitableSurface(msq)</th>\n",
       "      <td>15550.0</td>\n",
       "      <td>NaN</td>\n",
       "      <td>NaN</td>\n",
       "      <td>NaN</td>\n",
       "      <td>163.4209</td>\n",
       "      <td>193.691889</td>\n",
       "      <td>11.0</td>\n",
       "      <td>94.0</td>\n",
       "      <td>134.0</td>\n",
       "      <td>190.75</td>\n",
       "      <td>17842.0</td>\n",
       "    </tr>\n",
       "    <tr>\n",
       "      <th>BedroomCount</th>\n",
       "      <td>17810.0</td>\n",
       "      <td>NaN</td>\n",
       "      <td>NaN</td>\n",
       "      <td>NaN</td>\n",
       "      <td>3.050646</td>\n",
       "      <td>14.453556</td>\n",
       "      <td>1.0</td>\n",
       "      <td>2.0</td>\n",
       "      <td>3.0</td>\n",
       "      <td>3.0</td>\n",
       "      <td>1919.0</td>\n",
       "    </tr>\n",
       "    <tr>\n",
       "      <th>Province</th>\n",
       "      <td>17514</td>\n",
       "      <td>11</td>\n",
       "      <td>Antwerp</td>\n",
       "      <td>3295</td>\n",
       "      <td>NaN</td>\n",
       "      <td>NaN</td>\n",
       "      <td>NaN</td>\n",
       "      <td>NaN</td>\n",
       "      <td>NaN</td>\n",
       "      <td>NaN</td>\n",
       "      <td>NaN</td>\n",
       "    </tr>\n",
       "    <tr>\n",
       "      <th>Locality</th>\n",
       "      <td>18211</td>\n",
       "      <td>2609</td>\n",
       "      <td>Gent</td>\n",
       "      <td>394</td>\n",
       "      <td>NaN</td>\n",
       "      <td>NaN</td>\n",
       "      <td>NaN</td>\n",
       "      <td>NaN</td>\n",
       "      <td>NaN</td>\n",
       "      <td>NaN</td>\n",
       "      <td>NaN</td>\n",
       "    </tr>\n",
       "    <tr>\n",
       "      <th>Region</th>\n",
       "      <td>17514</td>\n",
       "      <td>3</td>\n",
       "      <td>Flanders</td>\n",
       "      <td>10980</td>\n",
       "      <td>NaN</td>\n",
       "      <td>NaN</td>\n",
       "      <td>NaN</td>\n",
       "      <td>NaN</td>\n",
       "      <td>NaN</td>\n",
       "      <td>NaN</td>\n",
       "      <td>NaN</td>\n",
       "    </tr>\n",
       "    <tr>\n",
       "      <th>PostCode</th>\n",
       "      <td>18211</td>\n",
       "      <td>1304</td>\n",
       "      <td>9000</td>\n",
       "      <td>363</td>\n",
       "      <td>NaN</td>\n",
       "      <td>NaN</td>\n",
       "      <td>NaN</td>\n",
       "      <td>NaN</td>\n",
       "      <td>NaN</td>\n",
       "      <td>NaN</td>\n",
       "      <td>NaN</td>\n",
       "    </tr>\n",
       "    <tr>\n",
       "      <th>Street</th>\n",
       "      <td>14372</td>\n",
       "      <td>7704</td>\n",
       "      <td>Mechelsesteenweg</td>\n",
       "      <td>118</td>\n",
       "      <td>NaN</td>\n",
       "      <td>NaN</td>\n",
       "      <td>NaN</td>\n",
       "      <td>NaN</td>\n",
       "      <td>NaN</td>\n",
       "      <td>NaN</td>\n",
       "      <td>NaN</td>\n",
       "    </tr>\n",
       "    <tr>\n",
       "      <th>Floor</th>\n",
       "      <td>5277.0</td>\n",
       "      <td>NaN</td>\n",
       "      <td>NaN</td>\n",
       "      <td>NaN</td>\n",
       "      <td>3.149896</td>\n",
       "      <td>19.777805</td>\n",
       "      <td>1.0</td>\n",
       "      <td>1.0</td>\n",
       "      <td>2.0</td>\n",
       "      <td>3.0</td>\n",
       "      <td>999.0</td>\n",
       "    </tr>\n",
       "    <tr>\n",
       "      <th>RegionCode</th>\n",
       "      <td>17514</td>\n",
       "      <td>3</td>\n",
       "      <td>FLANDERS</td>\n",
       "      <td>10980</td>\n",
       "      <td>NaN</td>\n",
       "      <td>NaN</td>\n",
       "      <td>NaN</td>\n",
       "      <td>NaN</td>\n",
       "      <td>NaN</td>\n",
       "      <td>NaN</td>\n",
       "      <td>NaN</td>\n",
       "    </tr>\n",
       "    <tr>\n",
       "      <th>IsIsolated</th>\n",
       "      <td>5522</td>\n",
       "      <td>10</td>\n",
       "      <td>URBAN</td>\n",
       "      <td>2297</td>\n",
       "      <td>NaN</td>\n",
       "      <td>NaN</td>\n",
       "      <td>NaN</td>\n",
       "      <td>NaN</td>\n",
       "      <td>NaN</td>\n",
       "      <td>NaN</td>\n",
       "      <td>NaN</td>\n",
       "    </tr>\n",
       "    <tr>\n",
       "      <th>HasSeaView</th>\n",
       "      <td>12.0</td>\n",
       "      <td>NaN</td>\n",
       "      <td>NaN</td>\n",
       "      <td>NaN</td>\n",
       "      <td>1.0</td>\n",
       "      <td>0.0</td>\n",
       "      <td>1.0</td>\n",
       "      <td>1.0</td>\n",
       "      <td>1.0</td>\n",
       "      <td>1.0</td>\n",
       "      <td>1.0</td>\n",
       "    </tr>\n",
       "    <tr>\n",
       "      <th>SchoolDistance</th>\n",
       "      <td>14458.0</td>\n",
       "      <td>NaN</td>\n",
       "      <td>NaN</td>\n",
       "      <td>NaN</td>\n",
       "      <td>107.950339</td>\n",
       "      <td>368.895605</td>\n",
       "      <td>0.0</td>\n",
       "      <td>0.0</td>\n",
       "      <td>0.0</td>\n",
       "      <td>0.0</td>\n",
       "      <td>9000.0</td>\n",
       "    </tr>\n",
       "    <tr>\n",
       "      <th>ShopDistance</th>\n",
       "      <td>14458.0</td>\n",
       "      <td>NaN</td>\n",
       "      <td>NaN</td>\n",
       "      <td>NaN</td>\n",
       "      <td>100.49502</td>\n",
       "      <td>602.382276</td>\n",
       "      <td>0.0</td>\n",
       "      <td>0.0</td>\n",
       "      <td>0.0</td>\n",
       "      <td>0.0</td>\n",
       "      <td>15000.0</td>\n",
       "    </tr>\n",
       "    <tr>\n",
       "      <th>TransportDistance</th>\n",
       "      <td>14458.0</td>\n",
       "      <td>NaN</td>\n",
       "      <td>NaN</td>\n",
       "      <td>NaN</td>\n",
       "      <td>26.413266</td>\n",
       "      <td>123.721231</td>\n",
       "      <td>0.0</td>\n",
       "      <td>0.0</td>\n",
       "      <td>0.0</td>\n",
       "      <td>0.0</td>\n",
       "      <td>3700.0</td>\n",
       "    </tr>\n",
       "    <tr>\n",
       "      <th>NetHabitableSurface</th>\n",
       "      <td>15550.0</td>\n",
       "      <td>NaN</td>\n",
       "      <td>NaN</td>\n",
       "      <td>NaN</td>\n",
       "      <td>163.4209</td>\n",
       "      <td>193.691889</td>\n",
       "      <td>11.0</td>\n",
       "      <td>94.0</td>\n",
       "      <td>134.0</td>\n",
       "      <td>190.75</td>\n",
       "      <td>17842.0</td>\n",
       "    </tr>\n",
       "    <tr>\n",
       "      <th>TotalRoomCount</th>\n",
       "      <td>1226.0</td>\n",
       "      <td>NaN</td>\n",
       "      <td>NaN</td>\n",
       "      <td>NaN</td>\n",
       "      <td>6.601142</td>\n",
       "      <td>3.997546</td>\n",
       "      <td>1.0</td>\n",
       "      <td>4.0</td>\n",
       "      <td>6.0</td>\n",
       "      <td>8.0</td>\n",
       "      <td>40.0</td>\n",
       "    </tr>\n",
       "    <tr>\n",
       "      <th>HasAttic</th>\n",
       "      <td>2478.0</td>\n",
       "      <td>NaN</td>\n",
       "      <td>NaN</td>\n",
       "      <td>NaN</td>\n",
       "      <td>1.0</td>\n",
       "      <td>0.0</td>\n",
       "      <td>1.0</td>\n",
       "      <td>1.0</td>\n",
       "      <td>1.0</td>\n",
       "      <td>1.0</td>\n",
       "      <td>1.0</td>\n",
       "    </tr>\n",
       "    <tr>\n",
       "      <th>HasBasement</th>\n",
       "      <td>7254.0</td>\n",
       "      <td>NaN</td>\n",
       "      <td>NaN</td>\n",
       "      <td>NaN</td>\n",
       "      <td>1.0</td>\n",
       "      <td>0.0</td>\n",
       "      <td>1.0</td>\n",
       "      <td>1.0</td>\n",
       "      <td>1.0</td>\n",
       "      <td>1.0</td>\n",
       "      <td>1.0</td>\n",
       "    </tr>\n",
       "    <tr>\n",
       "      <th>HasDiningRoom</th>\n",
       "      <td>3099.0</td>\n",
       "      <td>NaN</td>\n",
       "      <td>NaN</td>\n",
       "      <td>NaN</td>\n",
       "      <td>1.0</td>\n",
       "      <td>0.0</td>\n",
       "      <td>1.0</td>\n",
       "      <td>1.0</td>\n",
       "      <td>1.0</td>\n",
       "      <td>1.0</td>\n",
       "      <td>1.0</td>\n",
       "    </tr>\n",
       "    <tr>\n",
       "      <th>BuildingCondition</th>\n",
       "      <td>12234</td>\n",
       "      <td>6</td>\n",
       "      <td>GOOD</td>\n",
       "      <td>4408</td>\n",
       "      <td>NaN</td>\n",
       "      <td>NaN</td>\n",
       "      <td>NaN</td>\n",
       "      <td>NaN</td>\n",
       "      <td>NaN</td>\n",
       "      <td>NaN</td>\n",
       "      <td>NaN</td>\n",
       "    </tr>\n",
       "    <tr>\n",
       "      <th>ConstructionYear</th>\n",
       "      <td>10277.0</td>\n",
       "      <td>NaN</td>\n",
       "      <td>NaN</td>\n",
       "      <td>NaN</td>\n",
       "      <td>1981.681425</td>\n",
       "      <td>88.244062</td>\n",
       "      <td>1753.0</td>\n",
       "      <td>1960.0</td>\n",
       "      <td>1983.0</td>\n",
       "      <td>2020.0</td>\n",
       "      <td>9999.0</td>\n",
       "    </tr>\n",
       "    <tr>\n",
       "      <th>FacadeCount</th>\n",
       "      <td>12258.0</td>\n",
       "      <td>NaN</td>\n",
       "      <td>NaN</td>\n",
       "      <td>NaN</td>\n",
       "      <td>2.777125</td>\n",
       "      <td>0.866607</td>\n",
       "      <td>1.0</td>\n",
       "      <td>2.0</td>\n",
       "      <td>3.0</td>\n",
       "      <td>4.0</td>\n",
       "      <td>8.0</td>\n",
       "    </tr>\n",
       "    <tr>\n",
       "      <th>HasLift</th>\n",
       "      <td>4326.0</td>\n",
       "      <td>NaN</td>\n",
       "      <td>NaN</td>\n",
       "      <td>NaN</td>\n",
       "      <td>1.0</td>\n",
       "      <td>0.0</td>\n",
       "      <td>1.0</td>\n",
       "      <td>1.0</td>\n",
       "      <td>1.0</td>\n",
       "      <td>1.0</td>\n",
       "      <td>1.0</td>\n",
       "    </tr>\n",
       "    <tr>\n",
       "      <th>FloodZoneType</th>\n",
       "      <td>9685</td>\n",
       "      <td>9</td>\n",
       "      <td>NON_FLOOD_ZONE</td>\n",
       "      <td>9133</td>\n",
       "      <td>NaN</td>\n",
       "      <td>NaN</td>\n",
       "      <td>NaN</td>\n",
       "      <td>NaN</td>\n",
       "      <td>NaN</td>\n",
       "      <td>NaN</td>\n",
       "      <td>NaN</td>\n",
       "    </tr>\n",
       "    <tr>\n",
       "      <th>HeatingType</th>\n",
       "      <td>11489</td>\n",
       "      <td>7</td>\n",
       "      <td>GAS</td>\n",
       "      <td>8353</td>\n",
       "      <td>NaN</td>\n",
       "      <td>NaN</td>\n",
       "      <td>NaN</td>\n",
       "      <td>NaN</td>\n",
       "      <td>NaN</td>\n",
       "      <td>NaN</td>\n",
       "      <td>NaN</td>\n",
       "    </tr>\n",
       "    <tr>\n",
       "      <th>IsDoubleGlaze</th>\n",
       "      <td>11814.0</td>\n",
       "      <td>NaN</td>\n",
       "      <td>NaN</td>\n",
       "      <td>NaN</td>\n",
       "      <td>1.0</td>\n",
       "      <td>0.0</td>\n",
       "      <td>1.0</td>\n",
       "      <td>1.0</td>\n",
       "      <td>1.0</td>\n",
       "      <td>1.0</td>\n",
       "      <td>1.0</td>\n",
       "    </tr>\n",
       "    <tr>\n",
       "      <th>HasBalcony</th>\n",
       "      <td>0.0</td>\n",
       "      <td>NaN</td>\n",
       "      <td>NaN</td>\n",
       "      <td>NaN</td>\n",
       "      <td>NaN</td>\n",
       "      <td>NaN</td>\n",
       "      <td>NaN</td>\n",
       "      <td>NaN</td>\n",
       "      <td>NaN</td>\n",
       "      <td>NaN</td>\n",
       "      <td>NaN</td>\n",
       "    </tr>\n",
       "    <tr>\n",
       "      <th>HasGarden</th>\n",
       "      <td>5935.0</td>\n",
       "      <td>NaN</td>\n",
       "      <td>NaN</td>\n",
       "      <td>NaN</td>\n",
       "      <td>1.0</td>\n",
       "      <td>0.0</td>\n",
       "      <td>1.0</td>\n",
       "      <td>1.0</td>\n",
       "      <td>1.0</td>\n",
       "      <td>1.0</td>\n",
       "      <td>1.0</td>\n",
       "    </tr>\n",
       "    <tr>\n",
       "      <th>GardenArea</th>\n",
       "      <td>3520.0</td>\n",
       "      <td>NaN</td>\n",
       "      <td>NaN</td>\n",
       "      <td>NaN</td>\n",
       "      <td>641.649716</td>\n",
       "      <td>3047.464076</td>\n",
       "      <td>1.0</td>\n",
       "      <td>60.0</td>\n",
       "      <td>160.0</td>\n",
       "      <td>500.0</td>\n",
       "      <td>87000.0</td>\n",
       "    </tr>\n",
       "    <tr>\n",
       "      <th>KitchenType</th>\n",
       "      <td>11171</td>\n",
       "      <td>8</td>\n",
       "      <td>INSTALLED</td>\n",
       "      <td>5575</td>\n",
       "      <td>NaN</td>\n",
       "      <td>NaN</td>\n",
       "      <td>NaN</td>\n",
       "      <td>NaN</td>\n",
       "      <td>NaN</td>\n",
       "      <td>NaN</td>\n",
       "      <td>NaN</td>\n",
       "    </tr>\n",
       "    <tr>\n",
       "      <th>LivingRoomArea</th>\n",
       "      <td>5811.0</td>\n",
       "      <td>NaN</td>\n",
       "      <td>NaN</td>\n",
       "      <td>NaN</td>\n",
       "      <td>14.961452</td>\n",
       "      <td>43.223104</td>\n",
       "      <td>1.0</td>\n",
       "      <td>9.0</td>\n",
       "      <td>12.0</td>\n",
       "      <td>16.0</td>\n",
       "      <td>2153.0</td>\n",
       "    </tr>\n",
       "  </tbody>\n",
       "</table>\n",
       "</div>"
      ],
      "text/plain": [
       "                            count unique               top   freq  \\\n",
       "ID                        18211.0    NaN               NaN    NaN   \n",
       "Type                        18211      2             HOUSE  10818   \n",
       "SubType                     18211     24             HOUSE   8344   \n",
       "Price                     18211.0    NaN               NaN    NaN   \n",
       "NetHabitableSurface(msq)  15550.0    NaN               NaN    NaN   \n",
       "BedroomCount              17810.0    NaN               NaN    NaN   \n",
       "Province                    17514     11           Antwerp   3295   \n",
       "Locality                    18211   2609              Gent    394   \n",
       "Region                      17514      3          Flanders  10980   \n",
       "PostCode                    18211   1304              9000    363   \n",
       "Street                      14372   7704  Mechelsesteenweg    118   \n",
       "Floor                      5277.0    NaN               NaN    NaN   \n",
       "RegionCode                  17514      3          FLANDERS  10980   \n",
       "IsIsolated                   5522     10             URBAN   2297   \n",
       "HasSeaView                   12.0    NaN               NaN    NaN   \n",
       "SchoolDistance            14458.0    NaN               NaN    NaN   \n",
       "ShopDistance              14458.0    NaN               NaN    NaN   \n",
       "TransportDistance         14458.0    NaN               NaN    NaN   \n",
       "NetHabitableSurface       15550.0    NaN               NaN    NaN   \n",
       "TotalRoomCount             1226.0    NaN               NaN    NaN   \n",
       "HasAttic                   2478.0    NaN               NaN    NaN   \n",
       "HasBasement                7254.0    NaN               NaN    NaN   \n",
       "HasDiningRoom              3099.0    NaN               NaN    NaN   \n",
       "BuildingCondition           12234      6              GOOD   4408   \n",
       "ConstructionYear          10277.0    NaN               NaN    NaN   \n",
       "FacadeCount               12258.0    NaN               NaN    NaN   \n",
       "HasLift                    4326.0    NaN               NaN    NaN   \n",
       "FloodZoneType                9685      9    NON_FLOOD_ZONE   9133   \n",
       "HeatingType                 11489      7               GAS   8353   \n",
       "IsDoubleGlaze             11814.0    NaN               NaN    NaN   \n",
       "HasBalcony                    0.0    NaN               NaN    NaN   \n",
       "HasGarden                  5935.0    NaN               NaN    NaN   \n",
       "GardenArea                 3520.0    NaN               NaN    NaN   \n",
       "KitchenType                 11171      8         INSTALLED   5575   \n",
       "LivingRoomArea             5811.0    NaN               NaN    NaN   \n",
       "\n",
       "                                     mean            std         min  \\\n",
       "ID                        10148510.587832   11944.308767  10128188.0   \n",
       "Type                                  NaN            NaN         NaN   \n",
       "SubType                               NaN            NaN         NaN   \n",
       "Price                       395850.930811  407020.425225      1385.0   \n",
       "NetHabitableSurface(msq)         163.4209     193.691889        11.0   \n",
       "BedroomCount                     3.050646      14.453556         1.0   \n",
       "Province                              NaN            NaN         NaN   \n",
       "Locality                              NaN            NaN         NaN   \n",
       "Region                                NaN            NaN         NaN   \n",
       "PostCode                              NaN            NaN         NaN   \n",
       "Street                                NaN            NaN         NaN   \n",
       "Floor                            3.149896      19.777805         1.0   \n",
       "RegionCode                            NaN            NaN         NaN   \n",
       "IsIsolated                            NaN            NaN         NaN   \n",
       "HasSeaView                            1.0            0.0         1.0   \n",
       "SchoolDistance                 107.950339     368.895605         0.0   \n",
       "ShopDistance                    100.49502     602.382276         0.0   \n",
       "TransportDistance               26.413266     123.721231         0.0   \n",
       "NetHabitableSurface              163.4209     193.691889        11.0   \n",
       "TotalRoomCount                   6.601142       3.997546         1.0   \n",
       "HasAttic                              1.0            0.0         1.0   \n",
       "HasBasement                           1.0            0.0         1.0   \n",
       "HasDiningRoom                         1.0            0.0         1.0   \n",
       "BuildingCondition                     NaN            NaN         NaN   \n",
       "ConstructionYear              1981.681425      88.244062      1753.0   \n",
       "FacadeCount                      2.777125       0.866607         1.0   \n",
       "HasLift                               1.0            0.0         1.0   \n",
       "FloodZoneType                         NaN            NaN         NaN   \n",
       "HeatingType                           NaN            NaN         NaN   \n",
       "IsDoubleGlaze                         1.0            0.0         1.0   \n",
       "HasBalcony                            NaN            NaN         NaN   \n",
       "HasGarden                             1.0            0.0         1.0   \n",
       "GardenArea                     641.649716    3047.464076         1.0   \n",
       "KitchenType                           NaN            NaN         NaN   \n",
       "LivingRoomArea                  14.961452      43.223104         1.0   \n",
       "\n",
       "                                 25%         50%         75%         max  \n",
       "ID                        10138337.5  10148134.0  10157954.5  10168916.0  \n",
       "Type                             NaN         NaN         NaN         NaN  \n",
       "SubType                          NaN         NaN         NaN         NaN  \n",
       "Price                       230000.0    315000.0    443887.5  29650000.0  \n",
       "NetHabitableSurface(msq)        94.0       134.0      190.75     17842.0  \n",
       "BedroomCount                     2.0         3.0         3.0      1919.0  \n",
       "Province                         NaN         NaN         NaN         NaN  \n",
       "Locality                         NaN         NaN         NaN         NaN  \n",
       "Region                           NaN         NaN         NaN         NaN  \n",
       "PostCode                         NaN         NaN         NaN         NaN  \n",
       "Street                           NaN         NaN         NaN         NaN  \n",
       "Floor                            1.0         2.0         3.0       999.0  \n",
       "RegionCode                       NaN         NaN         NaN         NaN  \n",
       "IsIsolated                       NaN         NaN         NaN         NaN  \n",
       "HasSeaView                       1.0         1.0         1.0         1.0  \n",
       "SchoolDistance                   0.0         0.0         0.0      9000.0  \n",
       "ShopDistance                     0.0         0.0         0.0     15000.0  \n",
       "TransportDistance                0.0         0.0         0.0      3700.0  \n",
       "NetHabitableSurface             94.0       134.0      190.75     17842.0  \n",
       "TotalRoomCount                   4.0         6.0         8.0        40.0  \n",
       "HasAttic                         1.0         1.0         1.0         1.0  \n",
       "HasBasement                      1.0         1.0         1.0         1.0  \n",
       "HasDiningRoom                    1.0         1.0         1.0         1.0  \n",
       "BuildingCondition                NaN         NaN         NaN         NaN  \n",
       "ConstructionYear              1960.0      1983.0      2020.0      9999.0  \n",
       "FacadeCount                      2.0         3.0         4.0         8.0  \n",
       "HasLift                          1.0         1.0         1.0         1.0  \n",
       "FloodZoneType                    NaN         NaN         NaN         NaN  \n",
       "HeatingType                      NaN         NaN         NaN         NaN  \n",
       "IsDoubleGlaze                    1.0         1.0         1.0         1.0  \n",
       "HasBalcony                       NaN         NaN         NaN         NaN  \n",
       "HasGarden                        1.0         1.0         1.0         1.0  \n",
       "GardenArea                      60.0       160.0       500.0     87000.0  \n",
       "KitchenType                      NaN         NaN         NaN         NaN  \n",
       "LivingRoomArea                   9.0        12.0        16.0      2153.0  "
      ]
     },
     "execution_count": 31,
     "metadata": {},
     "output_type": "execute_result"
    }
   ],
   "source": [
    "df.describe(include='all').T "
   ]
  },
  {
   "cell_type": "markdown",
   "metadata": {},
   "source": [
    "## 6. cleaning NetHabitableSurface(msq)  column"
   ]
  },
  {
   "cell_type": "code",
   "execution_count": 32,
   "metadata": {},
   "outputs": [],
   "source": [
    "df.dropna(subset=['NetHabitableSurface(msq)'], inplace=True)\n"
   ]
  },
  {
   "cell_type": "code",
   "execution_count": 33,
   "metadata": {},
   "outputs": [
    {
     "data": {
      "text/plain": [
       "(15550, 35)"
      ]
     },
     "execution_count": 33,
     "metadata": {},
     "output_type": "execute_result"
    }
   ],
   "source": [
    "df.shape"
   ]
  },
  {
   "cell_type": "markdown",
   "metadata": {},
   "source": [
    "## 7.  Removing columns with many NaN and have no significant impact"
   ]
  },
  {
   "cell_type": "code",
   "execution_count": 34,
   "metadata": {},
   "outputs": [
    {
     "data": {
      "text/plain": [
       "ID                              0\n",
       "Type                            0\n",
       "SubType                         0\n",
       "Price                           0\n",
       "NetHabitableSurface(msq)        0\n",
       "BedroomCount                  301\n",
       "Province                      673\n",
       "Locality                        0\n",
       "Region                        673\n",
       "PostCode                        0\n",
       "Street                       3476\n",
       "Floor                       10586\n",
       "RegionCode                    673\n",
       "IsIsolated                  10717\n",
       "HasSeaView                  15540\n",
       "SchoolDistance               3436\n",
       "ShopDistance                 3436\n",
       "TransportDistance            3436\n",
       "NetHabitableSurface             0\n",
       "TotalRoomCount              14420\n",
       "HasAttic                    13601\n",
       "HasBasement                  9149\n",
       "HasDiningRoom               12987\n",
       "BuildingCondition            4840\n",
       "ConstructionYear             6331\n",
       "FacadeCount                  4909\n",
       "HasLift                     11479\n",
       "FloodZoneType                7071\n",
       "HeatingType                  5389\n",
       "IsDoubleGlaze                5022\n",
       "HasBalcony                  15550\n",
       "HasGarden                   10278\n",
       "GardenArea                  12397\n",
       "KitchenType                  5399\n",
       "LivingRoomArea              10175\n",
       "dtype: int64"
      ]
     },
     "execution_count": 34,
     "metadata": {},
     "output_type": "execute_result"
    }
   ],
   "source": [
    "# check the nan values again\n",
    "df.isna().sum()"
   ]
  },
  {
   "cell_type": "code",
   "execution_count": 35,
   "metadata": {},
   "outputs": [],
   "source": [
    "df = df.drop(['NetHabitableSurface','HasSeaView', 'SchoolDistance',\\\n",
    "       'ShopDistance', 'TransportDistance','TotalRoomCount', 'HasAttic','IsIsolated',\\\n",
    "       'HasBasement', 'HasDiningRoom', 'HasLift','FloodZoneType', 'HeatingType', 'IsDoubleGlaze',\\\n",
    "       'LivingRoomArea', 'GardenArea','Street'], axis=1)"
   ]
  },
  {
   "cell_type": "code",
   "execution_count": 36,
   "metadata": {},
   "outputs": [
    {
     "data": {
      "text/plain": [
       "Index(['ID', 'Type', 'SubType', 'Price', 'NetHabitableSurface(msq)',\n",
       "       'BedroomCount', 'Province', 'Locality', 'Region', 'PostCode', 'Floor',\n",
       "       'RegionCode', 'BuildingCondition', 'ConstructionYear', 'FacadeCount',\n",
       "       'HasBalcony', 'HasGarden', 'KitchenType'],\n",
       "      dtype='object')"
      ]
     },
     "execution_count": 36,
     "metadata": {},
     "output_type": "execute_result"
    }
   ],
   "source": [
    "df.columns"
   ]
  },
  {
   "cell_type": "markdown",
   "metadata": {},
   "source": [
    "## 8. cleaning bedroomCount column "
   ]
  },
  {
   "cell_type": "code",
   "execution_count": 37,
   "metadata": {},
   "outputs": [
    {
     "data": {
      "text/plain": [
       "301"
      ]
     },
     "execution_count": 37,
     "metadata": {},
     "output_type": "execute_result"
    }
   ],
   "source": [
    "# first check the number of NaN value\n",
    "df['BedroomCount'].isna().sum()"
   ]
  },
  {
   "cell_type": "code",
   "execution_count": 38,
   "metadata": {},
   "outputs": [
    {
     "data": {
      "text/plain": [
       "0        False\n",
       "1        False\n",
       "2        False\n",
       "3        False\n",
       "4        False\n",
       "         ...  \n",
       "21041    False\n",
       "21042    False\n",
       "21043    False\n",
       "21044    False\n",
       "21046    False\n",
       "Name: BedroomCount, Length: 15550, dtype: bool"
      ]
     },
     "execution_count": 38,
     "metadata": {},
     "output_type": "execute_result"
    }
   ],
   "source": [
    "df['BedroomCount'].isna()"
   ]
  },
  {
   "cell_type": "code",
   "execution_count": 40,
   "metadata": {},
   "outputs": [
    {
     "data": {
      "text/plain": [
       "Int64Index([    0,     1,     2,     3,     4,     5,     6,     7,     8,\n",
       "                9,\n",
       "            ...\n",
       "            21035, 21036, 21038, 21039, 21040, 21041, 21042, 21043, 21044,\n",
       "            21046],\n",
       "           dtype='int64', length=15550)"
      ]
     },
     "execution_count": 40,
     "metadata": {},
     "output_type": "execute_result"
    }
   ],
   "source": [
    "df.index"
   ]
  },
  {
   "cell_type": "code",
   "execution_count": 41,
   "metadata": {},
   "outputs": [],
   "source": [
    "bedroom_count_mean = {\"APARTMENT\":2.0,\"DUPLEX\": 2.0,\"FLAT_STUDIO\": 1.0,\"GROUND_FLOOR\" :2,\"KOT\":1.0,\"LOFT\": 3.0,\n",
    "\"PENTHOUSE\": 3,\"SERVICE_FLAT\": 1, \"PENTHOUSE\": 3.0,\"SERVICE_FLAT\":1.0,\"TRIPLEX\":3.0,\"APARTMENT_BLOCK\":7.0,\n",
    "    \"BUNGALOW\":3.0,\"CASTLE\": 9.0, \"CHALET \":3.0,\"COUNTRY_COTTAGE\":6,\"EXCEPTIONAL_PROPERTY\":5,\"FARMHOUSE\":5,\n",
    "           \"MANOR_HOUSE\":6,\"MANSION\":5,\"MIXED_USE_BUILDING\":5.0,'OTHER_PROPERTY':7.0,'TOWN_HOUSE':3.0,\"VILLA\":3.0}\n",
    "           \n",
    "           "
   ]
  },
  {
   "cell_type": "code",
   "execution_count": 45,
   "metadata": {},
   "outputs": [
    {
     "data": {
      "text/plain": [
       "(15249, 18)"
      ]
     },
     "execution_count": 45,
     "metadata": {},
     "output_type": "execute_result"
    }
   ],
   "source": [
    "df.dropna(subset=['BedroomCount'], inplace=True)\n",
    "df.shape"
   ]
  },
  {
   "cell_type": "code",
   "execution_count": 46,
   "metadata": {},
   "outputs": [
    {
     "data": {
      "text/plain": [
       "Index(['ID', 'Type', 'SubType', 'Price', 'NetHabitableSurface(msq)',\n",
       "       'BedroomCount', 'Province', 'Locality', 'Region', 'PostCode', 'Floor',\n",
       "       'RegionCode', 'BuildingCondition', 'ConstructionYear', 'FacadeCount',\n",
       "       'HasBalcony', 'HasGarden', 'KitchenType'],\n",
       "      dtype='object')"
      ]
     },
     "execution_count": 46,
     "metadata": {},
     "output_type": "execute_result"
    }
   ],
   "source": [
    "df.columns"
   ]
  },
  {
   "cell_type": "markdown",
   "metadata": {},
   "source": [
    "## 9. cleaning province,region and locality \n"
   ]
  },
  {
   "cell_type": "markdown",
   "metadata": {},
   "source": [
    "Belgium is made up of three regions, each having considerable autonomy. The Walloon Region is the largest, followed by Flemish Region. The Brussels Capital Region is the smallest."
   ]
  },
  {
   "cell_type": "code",
   "execution_count": 47,
   "metadata": {},
   "outputs": [
    {
     "data": {
      "text/plain": [
       "0"
      ]
     },
     "execution_count": 47,
     "metadata": {},
     "output_type": "execute_result"
    }
   ],
   "source": [
    "df[\"PostCode\"].isna().sum()"
   ]
  },
  {
   "cell_type": "code",
   "execution_count": 48,
   "metadata": {},
   "outputs": [
    {
     "name": "stdout",
     "output_type": "stream",
     "text": [
      "number of rows with nan values for Region:  647\n",
      "number of rows with nan values for Province:  647\n",
      "number of rows with nan values for Locality:  0\n",
      "number of rows with nan values for postcode:  0\n"
     ]
    }
   ],
   "source": [
    "\n",
    "print(\"number of rows with nan values for Region: \",df['Region'].isna().sum())\n",
    "print(\"number of rows with nan values for Province: \",df['Province'].isna().sum())\n",
    "print(\"number of rows with nan values for Locality: \",df['Locality'].isna().sum())\n",
    "print('number of rows with nan values for postcode: ',df['PostCode'].isna().sum())"
   ]
  },
  {
   "cell_type": "code",
   "execution_count": 49,
   "metadata": {},
   "outputs": [
    {
     "name": "stdout",
     "output_type": "stream",
     "text": [
      "Regions in Belgium:  ['Flanders' 'Wallonie' 'Brussels' nan]\n",
      "Provinces in Belgium:  ['Limburg' 'Antwerp' 'Liège' 'Brussels' 'East Flanders' 'Namur' nan\n",
      " 'Flemish Brabant' 'Hainaut' 'West Flanders' 'Walloon Brabant'\n",
      " 'Luxembourg']\n",
      "Locality in Belgium:  ['Zonhoven' 'Berlaar' 'Merksplas' ... 'Erpe' 'Gijzelbrechtegem' 'Beerst']\n"
     ]
    }
   ],
   "source": [
    "\n",
    "print('Regions in Belgium: ',df['Region'].unique())\n",
    "print(\"Provinces in Belgium: \",df[\"Province\"].unique())\n",
    "print(\"Locality in Belgium: \",df[\"Locality\"].unique())\n"
   ]
  },
  {
   "cell_type": "code",
   "execution_count": 50,
   "metadata": {},
   "outputs": [],
   "source": [
    "df.dropna(subset=['Region','Province'], inplace=True)"
   ]
  },
  {
   "cell_type": "markdown",
   "metadata": {},
   "source": [
    "## 10. HasBalcony and HasGarden \n",
    "for HasBalcony& HasGarden convert boolean(T/F) -----> 0/1\n"
   ]
  },
  {
   "cell_type": "code",
   "execution_count": 51,
   "metadata": {},
   "outputs": [],
   "source": [
    "df.HasBalcony = df.HasBalcony.replace({True: 1, False: 0})\n",
    "df.HasGarden = df.HasGarden.replace({True:1,False:0})"
   ]
  },
  {
   "cell_type": "code",
   "execution_count": 52,
   "metadata": {},
   "outputs": [],
   "source": [
    "df[['HasBalcony', 'HasGarden']] = df[['HasBalcony', 'HasGarden']].fillna(0) "
   ]
  },
  {
   "cell_type": "code",
   "execution_count": 53,
   "metadata": {},
   "outputs": [
    {
     "data": {
      "text/plain": [
       "0.0    9540\n",
       "1.0    5062\n",
       "Name: HasGarden, dtype: int64"
      ]
     },
     "execution_count": 53,
     "metadata": {},
     "output_type": "execute_result"
    }
   ],
   "source": [
    "df[\"HasGarden\"].value_counts()"
   ]
  },
  {
   "cell_type": "markdown",
   "metadata": {},
   "source": [
    "## 11. categorizing data  "
   ]
  },
  {
   "cell_type": "markdown",
   "metadata": {},
   "source": [
    "categroizing kitchen types   ### 11.1        "
   ]
  },
  {
   "cell_type": "code",
   "execution_count": 54,
   "metadata": {},
   "outputs": [
    {
     "data": {
      "text/plain": [
       "Index(['ID', 'Type', 'SubType', 'Price', 'NetHabitableSurface(msq)',\n",
       "       'BedroomCount', 'Province', 'Locality', 'Region', 'PostCode', 'Floor',\n",
       "       'RegionCode', 'BuildingCondition', 'ConstructionYear', 'FacadeCount',\n",
       "       'HasBalcony', 'HasGarden', 'KitchenType'],\n",
       "      dtype='object')"
      ]
     },
     "execution_count": 54,
     "metadata": {},
     "output_type": "execute_result"
    }
   ],
   "source": [
    "df.columns"
   ]
  },
  {
   "cell_type": "code",
   "execution_count": 55,
   "metadata": {},
   "outputs": [
    {
     "data": {
      "text/plain": [
       "INSTALLED             4829\n",
       "HYPER_EQUIPPED        1942\n",
       "SEMI_EQUIPPED         1227\n",
       "USA_HYPER_EQUIPPED     894\n",
       "NOT_INSTALLED          549\n",
       "USA_INSTALLED          338\n",
       "USA_SEMI_EQUIPPED       77\n",
       "USA_UNINSTALLED          5\n",
       "Name: KitchenType, dtype: int64"
      ]
     },
     "execution_count": 55,
     "metadata": {},
     "output_type": "execute_result"
    }
   ],
   "source": [
    "df['KitchenType'].value_counts()\n",
    "\n"
   ]
  },
  {
   "cell_type": "markdown",
   "metadata": {},
   "source": [
    "maping values to  labels\n",
    "NOT_INSTALLED  --- 0\n",
    "USA_UNINSTALLE --- 0\n",
    "INSTALLED -------- 1\n",
    "USA_INSTALLED ---- 1\n",
    "SEMI_EQUIPPED ---- 2\n",
    "USA_SEMI_EQUIPPED  2             \n",
    "HYPER_EQUIPPED     3  \n",
    "missed value ----- 0"
   ]
  },
  {
   "cell_type": "code",
   "execution_count": 56,
   "metadata": {},
   "outputs": [
    {
     "data": {
      "text/plain": [
       "0         True\n",
       "1         True\n",
       "2         True\n",
       "3         True\n",
       "4         True\n",
       "         ...  \n",
       "21041    False\n",
       "21042    False\n",
       "21043     True\n",
       "21044    False\n",
       "21046     True\n",
       "Name: KitchenType, Length: 14602, dtype: bool"
      ]
     },
     "execution_count": 56,
     "metadata": {},
     "output_type": "execute_result"
    }
   ],
   "source": [
    "df['KitchenType'].isnull()\n"
   ]
  },
  {
   "cell_type": "code",
   "execution_count": 57,
   "metadata": {},
   "outputs": [],
   "source": [
    "df.loc[df['KitchenType'] == \"NOT_INSTALLED\", 'KitchenType'] = 0\n",
    "df.loc[df['KitchenType'] == \"USA_UNINSTALLED\", 'KitchenType'] = 0\n",
    "df.loc[df['KitchenType'] == \"INSTALLED\", 'KitchenType'] = 1\n",
    "df.loc[df['KitchenType'] == \"USA_INSTALLED\", 'KitchenType'] = 1\n",
    "df.loc[df['KitchenType'] == \"SEMI_EQUIPPED\", 'KitchenType'] = 2\n",
    "df.loc[df['KitchenType'] == \"USA_SEMI_EQUIPPED\", 'KitchenType'] = 2\n",
    "df.loc[df['KitchenType'] == \"HYPER_EQUIPPED\", 'KitchenType'] = 3\n",
    "df.loc[df['KitchenType'] == \"USA_HYPER_EQUIPPED\", 'KitchenType'] = 3\n",
    "df.loc[df['KitchenType'].isna(), 'KitchenType'] = 0"
   ]
  },
  {
   "cell_type": "code",
   "execution_count": 58,
   "metadata": {},
   "outputs": [
    {
     "data": {
      "text/plain": [
       "0    5295\n",
       "1    5167\n",
       "3    2836\n",
       "2    1304\n",
       "Name: KitchenType, dtype: int64"
      ]
     },
     "execution_count": 58,
     "metadata": {},
     "output_type": "execute_result"
    }
   ],
   "source": [
    "df['KitchenType'].value_counts()"
   ]
  },
  {
   "cell_type": "markdown",
   "metadata": {},
   "source": [
    "### 11.2  catgorizing construction year    \n",
    "catgorizing data for construction year\n",
    "house built: before 2000 --> old = 0,after 2000 --> new = 1,  missing is --> old = 0\n"
   ]
  },
  {
   "cell_type": "code",
   "execution_count": 59,
   "metadata": {},
   "outputs": [],
   "source": [
    "\n",
    "\n",
    "df['Status'] = np.where(df['ConstructionYear']>= 2010, 1, 0)\n",
    "\n"
   ]
  },
  {
   "cell_type": "code",
   "execution_count": 60,
   "metadata": {},
   "outputs": [
    {
     "data": {
      "text/plain": [
       "2022.0    1150\n",
       "2021.0     426\n",
       "2023.0     421\n",
       "1930.0     201\n",
       "1970.0     174\n",
       "          ... \n",
       "1832.0       1\n",
       "1824.0       1\n",
       "1852.0       1\n",
       "1916.0       1\n",
       "1775.0       1\n",
       "Name: ConstructionYear, Length: 170, dtype: int64"
      ]
     },
     "execution_count": 60,
     "metadata": {},
     "output_type": "execute_result"
    }
   ],
   "source": [
    "df['ConstructionYear'].value_counts()"
   ]
  },
  {
   "cell_type": "markdown",
   "metadata": {},
   "source": [
    "## 12 Removing outliers \n",
    "1. checking  and removing outlier for price\n",
    "2. checking and removing outlier for bedroomCount\n",
    "3. checking and removing outlier for facadecount"
   ]
  },
  {
   "cell_type": "markdown",
   "metadata": {},
   "source": [
    "1. checking  and removing outlier for price"
   ]
  },
  {
   "cell_type": "code",
   "execution_count": 61,
   "metadata": {},
   "outputs": [
    {
     "data": {
      "text/plain": [
       "count    1.460200e+04\n",
       "mean     4.030106e+05\n",
       "std      3.356672e+05\n",
       "min      1.385000e+03\n",
       "25%      2.450000e+05\n",
       "50%      3.250000e+05\n",
       "75%      4.490000e+05\n",
       "max      8.100000e+06\n",
       "Name: Price, dtype: float64"
      ]
     },
     "execution_count": 61,
     "metadata": {},
     "output_type": "execute_result"
    }
   ],
   "source": [
    "df[\"Price\"].describe()"
   ]
  },
  {
   "cell_type": "code",
   "execution_count": 62,
   "metadata": {},
   "outputs": [
    {
     "data": {
      "text/plain": [
       "(14575, 19)"
      ]
     },
     "execution_count": 62,
     "metadata": {},
     "output_type": "execute_result"
    }
   ],
   "source": [
    "df = df[df['Price'] > 50000]\n",
    "df.shape"
   ]
  },
  {
   "cell_type": "code",
   "execution_count": 63,
   "metadata": {},
   "outputs": [
    {
     "data": {
      "text/plain": [
       "count    1.457500e+04\n",
       "mean     4.036870e+05\n",
       "std      3.356091e+05\n",
       "min      5.500000e+04\n",
       "25%      2.450000e+05\n",
       "50%      3.250000e+05\n",
       "75%      4.490000e+05\n",
       "max      8.100000e+06\n",
       "Name: Price, dtype: float64"
      ]
     },
     "execution_count": 63,
     "metadata": {},
     "output_type": "execute_result"
    }
   ],
   "source": [
    "df['Price'].describe()"
   ]
  },
  {
   "cell_type": "code",
   "execution_count": 64,
   "metadata": {},
   "outputs": [],
   "source": [
    "import seaborn as sns\n",
    "from scipy import stats"
   ]
  },
  {
   "cell_type": "code",
   "execution_count": 65,
   "metadata": {},
   "outputs": [
    {
     "data": {
      "text/plain": [
       "<AxesSubplot:title={'center':'price scatter diagram'}, xlabel='ID', ylabel='Price'>"
      ]
     },
     "execution_count": 65,
     "metadata": {},
     "output_type": "execute_result"
    },
    {
     "data": {
      "image/png": "[encoded data removed]",
      "text/plain": [
       "<Figure size 432x288 with 1 Axes>"
      ]
     },
     "metadata": {
      "needs_background": "light"
     },
     "output_type": "display_data"
    }
   ],
   "source": [
    "df.plot.scatter(x='ID', y='Price', title= 'price scatter diagram')"
   ]
  },
  {
   "cell_type": "code",
   "execution_count": 66,
   "metadata": {},
   "outputs": [
    {
     "data": {
      "text/plain": [
       "<AxesSubplot:xlabel='Price'>"
      ]
     },
     "execution_count": 66,
     "metadata": {},
     "output_type": "execute_result"
    },
    {
     "data": {
      "image/png": "[encoded data removed]",
      "text/plain": [
       "<Figure size 432x288 with 1 Axes>"
      ]
     },
     "metadata": {
      "needs_background": "light"
     },
     "output_type": "display_data"
    }
   ],
   "source": [
    "# checking outliers for price\n",
    "sns.boxplot(x=df['Price'])\n"
   ]
  },
  {
   "cell_type": "markdown",
   "metadata": {},
   "source": [
    "# Standard deviation\n",
    "Standard deviation is the measure of how far a data point lies from the mean value. Generally, it is common practice to use 3 standard deviations for the detection and removal of outliers."
   ]
  },
  {
   "cell_type": "code",
   "execution_count": 67,
   "metadata": {},
   "outputs": [
    {
     "name": "stdout",
     "output_type": "stream",
     "text": [
      "#########Starting ############\n"
     ]
    }
   ],
   "source": [
    "upper_limit = 0\n",
    "lower_limit = 0\n",
    "print('#########Starting ############')\n",
    "def outlier_removal(df, variable):\n",
    "    upper_limit = df[variable].mean() + 3 * df[variable].std()\n",
    "    lower_limit = df[variable].mean() - 3 * df[variable].std()\n",
    "    return upper_limit, lower_limit\n",
    "\n",
    "\n",
    "def call_outlier_removal(upper_limit,lower_limit,variable,df):\n",
    "    print(f\" ***** removing outlier for {variable} column  ****\")\n",
    "    upper_limit, lower_limit = outlier_removal(df, variable)\n",
    "\n",
    "\n",
    "    \n",
    "    i_upper_limit = upper_limit\n",
    "    i_lower_limit = lower_limit\n",
    "    print('i_upper_limit',upper_limit)\n",
    "    print('i_lower_limit: ',lower_limit)\n",
    "    \n",
    "    \n",
    "    while(True):\n",
    "        df = df[(df[variable]> lower_limit)& (df[variable]<upper_limit)]\n",
    "        upper_limit,lower_limit = outlier_removal(df,variable)\n",
    "        if (upper_limit - i_upper_limit)== 0 and (lower_limit - i_lower_limit)==0:\n",
    "            df = df[(df[variable]> lower_limit)& (df[variable]<upper_limit)]\n",
    "            print(\"#upper_limit: \",upper_limit)\n",
    "            print(\"#lower_limit: \",lower_limit)\n",
    "            break\n",
    "        i_lower_limit = lower_limit\n",
    "        i_upper_limit = upper_limit\n",
    "    return df\n"
   ]
  },
  {
   "cell_type": "code",
   "execution_count": 68,
   "metadata": {},
   "outputs": [
    {
     "data": {
      "text/plain": [
       "(14575, 19)"
      ]
     },
     "execution_count": 68,
     "metadata": {},
     "output_type": "execute_result"
    }
   ],
   "source": [
    "df.shape"
   ]
  },
  {
   "cell_type": "code",
   "execution_count": 69,
   "metadata": {},
   "outputs": [
    {
     "name": "stdout",
     "output_type": "stream",
     "text": [
      " ***** removing outlier for Price column  ****\n",
      "i_upper_limit 1410514.2005288454\n",
      "i_lower_limit:  -603140.2404602349\n",
      "#upper_limit:  758973.0372702662\n",
      "#lower_limit:  -85455.04214939685\n"
     ]
    }
   ],
   "source": [
    "df =call_outlier_removal(upper_limit,lower_limit,'Price',df)"
   ]
  },
  {
   "cell_type": "code",
   "execution_count": 70,
   "metadata": {},
   "outputs": [
    {
     "data": {
      "text/plain": [
       "(13527, 19)"
      ]
     },
     "execution_count": 70,
     "metadata": {},
     "output_type": "execute_result"
    }
   ],
   "source": [
    "df.shape"
   ]
  },
  {
   "cell_type": "code",
   "execution_count": 71,
   "metadata": {},
   "outputs": [
    {
     "data": {
      "text/plain": [
       "<AxesSubplot:xlabel='Price'>"
      ]
     },
     "execution_count": 71,
     "metadata": {},
     "output_type": "execute_result"
    },
    {
     "data": {
      "image/png": "[encoded data removed]",
      "text/plain": [
       "<Figure size 432x288 with 1 Axes>"
      ]
     },
     "metadata": {
      "needs_background": "light"
     },
     "output_type": "display_data"
    }
   ],
   "source": [
    "sns.boxplot(x=df['Price'])"
   ]
  },
  {
   "cell_type": "code",
   "execution_count": 72,
   "metadata": {},
   "outputs": [
    {
     "data": {
      "text/plain": [
       "count     13527.000000\n",
       "mean     336758.997560\n",
       "std      140738.013237\n",
       "min       55000.000000\n",
       "25%      237000.000000\n",
       "50%      310000.000000\n",
       "75%      410000.000000\n",
       "max      755717.000000\n",
       "Name: Price, dtype: float64"
      ]
     },
     "execution_count": 72,
     "metadata": {},
     "output_type": "execute_result"
    }
   ],
   "source": [
    "df[\"Price\"].describe()"
   ]
  },
  {
   "cell_type": "markdown",
   "metadata": {},
   "source": [
    "# InterQuartile Range:\n",
    "interquartile range is a difference between the third quartile(Q3) and the first quartile(Q1). In this method, anything lying above  Q3 + 1.5 * IQR and Q1 – 1.5 * IQR  is considered an outlier.\n",
    "\n",
    "<!-- def outliers(df, feature):\n",
    "def outliers(df, feature):\n",
    "    Q1= df[feature].quantile(0.25)\n",
    "    Q3 = df[feature].quantile(0.75)\n",
    "    IQR = Q3 - Q1\n",
    "    upper_limit = Q3 + 1.5 * IQR\n",
    "    lower_limit = Q1 - 1.5 * IQR\n",
    "    return upper_limit, lower_limit\n",
    "upper, lower = outliers(df, \"Price\")\n",
    "print(\"Upper whisker: \", upper)\n",
    "print(\"Lower Whisker: \", lower) -->"
   ]
  },
  {
   "cell_type": "markdown",
   "metadata": {},
   "source": [
    "2. checking and removing outlier for bedroomCount"
   ]
  },
  {
   "cell_type": "code",
   "execution_count": 73,
   "metadata": {},
   "outputs": [
    {
     "data": {
      "text/plain": [
       "count    13527.000000\n",
       "mean         2.758335\n",
       "std          1.184920\n",
       "min          1.000000\n",
       "25%          2.000000\n",
       "50%          3.000000\n",
       "75%          3.000000\n",
       "max         16.000000\n",
       "Name: BedroomCount, dtype: float64"
      ]
     },
     "execution_count": 73,
     "metadata": {},
     "output_type": "execute_result"
    }
   ],
   "source": [
    "df['BedroomCount'].describe()"
   ]
  },
  {
   "cell_type": "code",
   "execution_count": 74,
   "metadata": {},
   "outputs": [
    {
     "data": {
      "text/plain": [
       "<AxesSubplot:title={'center':'bedroomcount scatter diagram'}, xlabel='ID', ylabel='BedroomCount'>"
      ]
     },
     "execution_count": 74,
     "metadata": {},
     "output_type": "execute_result"
    },
    {
     "data": {
      "image/png": "[encoded data removed]",
      "text/plain": [
       "<Figure size 432x288 with 1 Axes>"
      ]
     },
     "metadata": {
      "needs_background": "light"
     },
     "output_type": "display_data"
    }
   ],
   "source": [
    "df.plot.scatter(x='ID', y='BedroomCount', title= 'bedroomcount scatter diagram')"
   ]
  },
  {
   "cell_type": "code",
   "execution_count": 75,
   "metadata": {},
   "outputs": [
    {
     "data": {
      "text/plain": [
       "<AxesSubplot:xlabel='BedroomCount'>"
      ]
     },
     "execution_count": 75,
     "metadata": {},
     "output_type": "execute_result"
    },
    {
     "data": {
      "image/png": "[encoded data removed]",
      "text/plain": [
       "<Figure size 432x288 with 1 Axes>"
      ]
     },
     "metadata": {
      "needs_background": "light"
     },
     "output_type": "display_data"
    }
   ],
   "source": [
    "sns.boxplot(x=df['BedroomCount'])"
   ]
  },
  {
   "cell_type": "code",
   "execution_count": 76,
   "metadata": {},
   "outputs": [
    {
     "name": "stdout",
     "output_type": "stream",
     "text": [
      " ***** removing outlier for BedroomCount column  ****\n",
      "i_upper_limit 6.313096566755123\n",
      "i_lower_limit:  -0.7964262037773753\n",
      "#upper_limit:  5.671571994150904\n",
      "#lower_limit:  -0.34212284160853157\n"
     ]
    }
   ],
   "source": [
    "df = call_outlier_removal(upper_limit,lower_limit,'BedroomCount',df)"
   ]
  },
  {
   "cell_type": "code",
   "execution_count": 77,
   "metadata": {},
   "outputs": [
    {
     "data": {
      "text/plain": [
       "count    13216.000000\n",
       "mean         2.664725\n",
       "std          1.002282\n",
       "min          1.000000\n",
       "25%          2.000000\n",
       "50%          3.000000\n",
       "75%          3.000000\n",
       "max          5.000000\n",
       "Name: BedroomCount, dtype: float64"
      ]
     },
     "execution_count": 77,
     "metadata": {},
     "output_type": "execute_result"
    }
   ],
   "source": [
    "\n",
    "df[\"BedroomCount\"].describe()"
   ]
  },
  {
   "cell_type": "code",
   "execution_count": 78,
   "metadata": {},
   "outputs": [
    {
     "data": {
      "text/plain": [
       "<AxesSubplot:xlabel='BedroomCount'>"
      ]
     },
     "execution_count": 78,
     "metadata": {},
     "output_type": "execute_result"
    },
    {
     "data": {
      "image/png": "[encoded data removed]",
      "text/plain": [
       "<Figure size 432x288 with 1 Axes>"
      ]
     },
     "metadata": {
      "needs_background": "light"
     },
     "output_type": "display_data"
    }
   ],
   "source": [
    "sns.boxplot(x=df['BedroomCount'])\n"
   ]
  },
  {
   "cell_type": "markdown",
   "metadata": {},
   "source": [
    "3. checking and removing outlier for facadecount"
   ]
  },
  {
   "cell_type": "code",
   "execution_count": 79,
   "metadata": {},
   "outputs": [
    {
     "data": {
      "text/plain": [
       "(13216, 19)"
      ]
     },
     "execution_count": 79,
     "metadata": {},
     "output_type": "execute_result"
    }
   ],
   "source": [
    "df.shape"
   ]
  },
  {
   "cell_type": "code",
   "execution_count": 80,
   "metadata": {},
   "outputs": [
    {
     "name": "stdout",
     "output_type": "stream",
     "text": [
      "null value sum:  3910\n",
      "count    9306.000000\n",
      "mean        2.739630\n",
      "std         0.832322\n",
      "min         1.000000\n",
      "25%         2.000000\n",
      "50%         3.000000\n",
      "75%         3.000000\n",
      "max         6.000000\n",
      "Name: FacadeCount, dtype: float64\n",
      "2.0    4570\n",
      "3.0    2419\n",
      "4.0    2257\n",
      "1.0      58\n",
      "6.0       2\n",
      "Name: FacadeCount, dtype: int64\n"
     ]
    }
   ],
   "source": [
    "print('null value sum: ', df[\"FacadeCount\"].isna().sum())\n",
    "print(df[\"FacadeCount\"].describe())\n",
    "print(df[\"FacadeCount\"].value_counts())\n",
    "\n"
   ]
  },
  {
   "cell_type": "code",
   "execution_count": 81,
   "metadata": {},
   "outputs": [],
   "source": [
    "# normally  a house has atleast....and clients stress out if their property has more. so if they have more than one \n",
    "# they tend to mention ---------> facacdcount = 0 for NaN\n",
    "df['FacadeCount'] = df['FacadeCount'].fillna(1)\n",
    "\n"
   ]
  },
  {
   "cell_type": "code",
   "execution_count": 82,
   "metadata": {},
   "outputs": [
    {
     "data": {
      "text/plain": [
       "<AxesSubplot:title={'center':'FacadeCount scatter diagram'}, xlabel='ID', ylabel='FacadeCount'>"
      ]
     },
     "execution_count": 82,
     "metadata": {},
     "output_type": "execute_result"
    },
    {
     "data": {
      "image/png": "[encoded data removed]",
      "text/plain": [
       "<Figure size 432x288 with 1 Axes>"
      ]
     },
     "metadata": {
      "needs_background": "light"
     },
     "output_type": "display_data"
    }
   ],
   "source": [
    "df.plot.scatter(x='ID', y='FacadeCount', title= 'FacadeCount scatter diagram')"
   ]
  },
  {
   "cell_type": "code",
   "execution_count": 83,
   "metadata": {},
   "outputs": [
    {
     "data": {
      "text/plain": [
       "<AxesSubplot:xlabel='FacadeCount'>"
      ]
     },
     "execution_count": 83,
     "metadata": {},
     "output_type": "execute_result"
    },
    {
     "data": {
      "image/png": "[encoded data removed]",
      "text/plain": [
       "<Figure size 432x288 with 1 Axes>"
      ]
     },
     "metadata": {
      "needs_background": "light"
     },
     "output_type": "display_data"
    }
   ],
   "source": [
    "sns.boxplot(x=df['FacadeCount'])"
   ]
  },
  {
   "cell_type": "code",
   "execution_count": 84,
   "metadata": {},
   "outputs": [
    {
     "name": "stdout",
     "output_type": "stream",
     "text": [
      " ***** removing outlier for FacadeCount column  ****\n",
      "i_upper_limit 5.397432368954523\n",
      "i_lower_limit:  -0.9475231679860006\n",
      "#upper_limit:  5.39403962711739\n",
      "#lower_limit:  -0.9452731673020427\n"
     ]
    }
   ],
   "source": [
    "df = call_outlier_removal(upper_limit,lower_limit,'FacadeCount',df)"
   ]
  },
  {
   "cell_type": "code",
   "execution_count": 85,
   "metadata": {},
   "outputs": [
    {
     "data": {
      "text/plain": [
       "<AxesSubplot:xlabel='FacadeCount'>"
      ]
     },
     "execution_count": 85,
     "metadata": {},
     "output_type": "execute_result"
    },
    {
     "data": {
      "image/png": "[encoded data removed]",
      "text/plain": [
       "<Figure size 432x288 with 1 Axes>"
      ]
     },
     "metadata": {
      "needs_background": "light"
     },
     "output_type": "display_data"
    }
   ],
   "source": [
    "sns.boxplot(x=df['FacadeCount'])"
   ]
  },
  {
   "cell_type": "code",
   "execution_count": 86,
   "metadata": {},
   "outputs": [
    {
     "data": {
      "text/plain": [
       "array([3., 4., 2., 1.])"
      ]
     },
     "execution_count": 86,
     "metadata": {},
     "output_type": "execute_result"
    }
   ],
   "source": [
    "df[\"FacadeCount\"].unique()"
   ]
  },
  {
   "cell_type": "markdown",
   "metadata": {},
   "source": [
    "## 4 removing outliers for NetHabitableSurface(msq)"
   ]
  },
  {
   "cell_type": "code",
   "execution_count": 87,
   "metadata": {},
   "outputs": [
    {
     "data": {
      "text/plain": [
       "count    13214.000000\n",
       "mean       145.126457\n",
       "std        175.072929\n",
       "min         12.000000\n",
       "25%         93.000000\n",
       "50%        128.000000\n",
       "75%        175.000000\n",
       "max      17842.000000\n",
       "Name: NetHabitableSurface(msq), dtype: float64"
      ]
     },
     "execution_count": 87,
     "metadata": {},
     "output_type": "execute_result"
    }
   ],
   "source": [
    "df['NetHabitableSurface(msq)'].describe()\n"
   ]
  },
  {
   "cell_type": "code",
   "execution_count": 88,
   "metadata": {},
   "outputs": [
    {
     "data": {
      "text/plain": [
       "<AxesSubplot:xlabel='NetHabitableSurface(msq)'>"
      ]
     },
     "execution_count": 88,
     "metadata": {},
     "output_type": "execute_result"
    },
    {
     "data": {
      "image/png": "[encoded data removed]",
      "text/plain": [
       "<Figure size 432x288 with 1 Axes>"
      ]
     },
     "metadata": {
      "needs_background": "light"
     },
     "output_type": "display_data"
    }
   ],
   "source": [
    "sns.boxplot(x=df['NetHabitableSurface(msq)'])"
   ]
  },
  {
   "cell_type": "code",
   "execution_count": 89,
   "metadata": {},
   "outputs": [
    {
     "name": "stdout",
     "output_type": "stream",
     "text": [
      " ***** removing outlier for NetHabitableSurface(msq) column  ****\n",
      "i_upper_limit 670.3452441828813\n",
      "i_lower_limit:  -380.0923306063715\n",
      "#upper_limit:  301.74710043718926\n",
      "#lower_limit:  -31.080902044931435\n"
     ]
    }
   ],
   "source": [
    "df = call_outlier_removal(upper_limit,lower_limit,'NetHabitableSurface(msq)',df)"
   ]
  },
  {
   "cell_type": "code",
   "execution_count": 90,
   "metadata": {},
   "outputs": [
    {
     "data": {
      "text/plain": [
       "<AxesSubplot:xlabel='NetHabitableSurface(msq)'>"
      ]
     },
     "execution_count": 90,
     "metadata": {},
     "output_type": "execute_result"
    },
    {
     "data": {
      "image/png": "[encoded data removed]",
      "text/plain": [
       "<Figure size 432x288 with 1 Axes>"
      ]
     },
     "metadata": {
      "needs_background": "light"
     },
     "output_type": "display_data"
    }
   ],
   "source": [
    "sns.boxplot(x=df['NetHabitableSurface(msq)'])"
   ]
  },
  {
   "cell_type": "markdown",
   "metadata": {},
   "source": [
    "## 13. Cleaning floor columns"
   ]
  },
  {
   "cell_type": "markdown",
   "metadata": {},
   "source": [
    "1. first check the unique floor numbers for apartment and house type of sales\n",
    "  *  for house types the floor number should be all NaN\n",
    "  *  for apartment it should be small positive integer\n",
    "2. replace the NaN values of Floor number for the Apartment type of sales by mean value"
   ]
  },
  {
   "cell_type": "code",
   "execution_count": 91,
   "metadata": {},
   "outputs": [
    {
     "name": "stdout",
     "output_type": "stream",
     "text": [
      "unique values of floor number for type APARTMENT :  2.0\n",
      "unique values of floor number for type house:  [nan]\n",
      "median of  floor for apartments:  2.0\n"
     ]
    }
   ],
   "source": [
    "\n",
    "print(\"unique values of floor number for type APARTMENT : \",df['Floor'].where(df['Type']== \"APARTMENT\").median())\n",
    "print(\"unique values of floor number for type house: \",df['Floor'].where(df['Type']== \"HOUSE\").unique())\n",
    "apartment_floor_median = df['Floor'].where(df['Type']== \"APARTMENT\").median()\n",
    "print(\"median of  floor for apartments: \",apartment_floor_median)"
   ]
  },
  {
   "cell_type": "code",
   "execution_count": 92,
   "metadata": {},
   "outputs": [],
   "source": [
    "df[\"Floor\"] = df['Floor'].where(df['Type']== \"APARTMENT\").fillna(apartment_floor_median)"
   ]
  },
  {
   "cell_type": "markdown",
   "metadata": {},
   "source": [
    "# b. Data analysis and visualization"
   ]
  },
  {
   "cell_type": "markdown",
   "metadata": {},
   "source": [
    "# 1. Questions\n",
    "  * what is the average cost of house and apartment in Belgium?\n",
    "  * What is the average cost of house and apartment in Ghent?\n",
    "  * which (region,province,locality) is cheapest|expensive?\n",
    "  * what is the correlation?\n",
    "    * between price and bedroomcount\n",
    "    * between price and facadecount\n",
    "    * between price and floor\n",
    "    * between price and constructionyear\n",
    "  "
   ]
  },
  {
   "cell_type": "markdown",
   "metadata": {},
   "source": [
    "What is the average cost of house and apartment in Belgium?"
   ]
  },
  {
   "cell_type": "code",
   "execution_count": 93,
   "metadata": {},
   "outputs": [
    {
     "name": "stdout",
     "output_type": "stream",
     "text": [
      "The average cost of House in Belgium is :  343939\n",
      "The average cost of Apartment in Belgium is:  309541\n"
     ]
    }
   ],
   "source": [
    "print(\"The average cost of House in Belgium is : \",int(df[\"Price\"].where(df[\"Type\"] == \"HOUSE\").mean()))\n",
    "print(\"The average cost of Apartment in Belgium is: \",int(df[\"Price\"].where(df[\"Type\"]== \"APARTMENT\").mean()))"
   ]
  },
  {
   "cell_type": "markdown",
   "metadata": {},
   "source": [
    "What is the average cost of house and apartment in Ghent?"
   ]
  },
  {
   "cell_type": "code",
   "execution_count": 94,
   "metadata": {},
   "outputs": [
    {
     "name": "stdout",
     "output_type": "stream",
     "text": [
      "The average cost of Apartment in Ghent is :  366185.0\n",
      "The average cost of House in Ghent is :  400301.06382978725\n"
     ]
    }
   ],
   "source": [
    "print(\"The average cost of Apartment in Ghent is : \",\\\n",
    "     df[\"Price\"].where((df[\"Locality\"] == \"Gent\")&(df[\"Type\"] == \"APARTMENT\")).mean())\n",
    "print(\"The average cost of House in Ghent is : \",\\\n",
    "     df[\"Price\"].where((df[\"Locality\"] == \"Gent\")&(df[\"Type\"] == \"HOUSE\")).mean())"
   ]
  },
  {
   "cell_type": "markdown",
   "metadata": {},
   "source": [
    "scatter diagram of the properties\n"
   ]
  },
  {
   "cell_type": "code",
   "execution_count": 95,
   "metadata": {},
   "outputs": [
    {
     "data": {
      "image/png": "[encoded data removed]",
      "text/plain": [
       "<Figure size 432x288 with 1 Axes>"
      ]
     },
     "metadata": {
      "needs_background": "light"
     },
     "output_type": "display_data"
    }
   ],
   "source": [
    "\n",
    "\n",
    "sns.scatterplot(data=df, x='NetHabitableSurface(msq)', y='Price', hue='Type')\n",
    "plt.show()"
   ]
  },
  {
   "cell_type": "markdown",
   "metadata": {},
   "source": [
    "Which province is cheapest|expensive?"
   ]
  },
  {
   "cell_type": "code",
   "execution_count": 96,
   "metadata": {},
   "outputs": [
    {
     "data": {
      "text/plain": [
       "pandas.core.frame.DataFrame"
      ]
     },
     "execution_count": 96,
     "metadata": {},
     "output_type": "execute_result"
    }
   ],
   "source": [
    "df_apartment_groupedby_province = df.groupby(['Province','Type'])['Price'].mean().unstack()\n",
    "df_apartment_groupedby_province.sort_values(by=['HOUSE','APARTMENT'], inplace=True, ascending=False)\n",
    "\n",
    "type(df_apartment_groupedby_province)"
   ]
  },
  {
   "cell_type": "code",
   "execution_count": 97,
   "metadata": {},
   "outputs": [
    {
     "data": {
      "image/png": "[encoded data removed]",
      "text/plain": [
       "<Figure size 720x432 with 1 Axes>"
      ]
     },
     "metadata": {
      "needs_background": "light"
     },
     "output_type": "display_data"
    }
   ],
   "source": [
    "ax= df_apartment_groupedby_province.plot(kind='bar', title='Average price by Province',\n",
    "               ylabel='Price', xlabel='Province', figsize=(10, 6))\n",
    "\n",
    "ax.yaxis.set_units(\"Euro\")"
   ]
  },
  {
   "cell_type": "markdown",
   "metadata": {},
   "source": [
    "In which region it is more affordable to buy a house?"
   ]
  },
  {
   "cell_type": "code",
   "execution_count": 98,
   "metadata": {},
   "outputs": [
    {
     "data": {
      "text/plain": [
       "<AxesSubplot:title={'center':'Average price by Region'}, xlabel='Region', ylabel='Price in Euro'>"
      ]
     },
     "execution_count": 98,
     "metadata": {},
     "output_type": "execute_result"
    },
    {
     "data": {
      "image/png": "[encoded data removed]",
      "text/plain": [
       "<Figure size 432x288 with 2 Axes>"
      ]
     },
     "metadata": {
      "needs_background": "light"
     },
     "output_type": "display_data"
    },
    {
     "data": {
      "image/png": "[encoded data removed]",
      "text/plain": [
       "<Figure size 360x360 with 1 Axes>"
      ]
     },
     "metadata": {},
     "output_type": "display_data"
    },
    {
     "data": {
      "image/png": "[encoded data removed]",
      "text/plain": [
       "<Figure size 720x432 with 1 Axes>"
      ]
     },
     "metadata": {
      "needs_background": "light"
     },
     "output_type": "display_data"
    },
    {
     "data": {
      "image/png": "[encoded data removed]",
      "text/plain": [
       "<Figure size 720x432 with 1 Axes>"
      ]
     },
     "metadata": {
      "needs_background": "light"
     },
     "output_type": "display_data"
    }
   ],
   "source": [
    "df.plot.scatter(x='ID',\n",
    "                      y='Type',\n",
    "                      c='Price',\n",
    "                      colormap='viridis')\n",
    "df.groupby(['Region','Type'])['Price'].mean().unstack().plot(kind = 'pie', y= \"HOUSE\",figsize = (5,5), title='Average price by Region',wedgeprops={'linewidth': 3.0, 'edgecolor': 'white'})\n",
    "df.groupby(['Region','Type'])['Price'].mean().unstack().plot(kind='bar', title='Average price by Region',\n",
    "               ylabel='Price in Euro', xlabel='Region', figsize=(10, 6))\n",
    "df.groupby(['Region','Type'])['Price'].mean().unstack().plot(kind='area', title='Average price by Region',\n",
    "               ylabel='Price in Euro', xlabel='Region', figsize=(10, 6))\n"
   ]
  },
  {
   "cell_type": "markdown",
   "metadata": {},
   "source": [
    "In which locality in East flanders province, is the price for apartment|house the highest?"
   ]
  },
  {
   "cell_type": "code",
   "execution_count": 99,
   "metadata": {},
   "outputs": [
    {
     "data": {
      "text/plain": [
       "Index(['ID', 'Type', 'SubType', 'Price', 'NetHabitableSurface(msq)',\n",
       "       'BedroomCount', 'Province', 'Locality', 'Region', 'PostCode', 'Floor',\n",
       "       'RegionCode', 'BuildingCondition', 'ConstructionYear', 'FacadeCount',\n",
       "       'HasBalcony', 'HasGarden', 'KitchenType', 'Status'],\n",
       "      dtype='object')"
      ]
     },
     "execution_count": 99,
     "metadata": {},
     "output_type": "execute_result"
    }
   ],
   "source": [
    "df.columns"
   ]
  },
  {
   "cell_type": "code",
   "execution_count": 100,
   "metadata": {},
   "outputs": [
    {
     "data": {
      "text/plain": [
       "<AxesSubplot:title={'center':'Average price of East Flanders localities'}, xlabel='Locality', ylabel='Price in Euro'>"
      ]
     },
     "execution_count": 100,
     "metadata": {},
     "output_type": "execute_result"
    },
    {
     "data": {
      "image/png": "[encoded data removed]",
      "text/plain": [
       "<Figure size 1008x576 with 1 Axes>"
      ]
     },
     "metadata": {
      "needs_background": "light"
     },
     "output_type": "display_data"
    }
   ],
   "source": [
    "df1 = df.where(df['Province']==\"East Flanders\")\n",
    "\n",
    "df2 = df1.groupby(['PostCode','Type'])['Price'].mean().unstack()\n",
    "\n",
    "df2['APARTMENT'] = df2['APARTMENT'].fillna(int(df2['APARTMENT'].mean()))\n",
    "df2['HOUSE'] = df2['HOUSE'].fillna(int(df2['HOUSE'].mean()))\n",
    "df2.sort_values(by=['HOUSE','APARTMENT'], inplace=True, ascending=False)\n",
    "\n",
    "df2.head(12).plot(kind='bar',color={\"HOUSE\": \"c\", \"APARTMENT\": \"orange\"},\n",
    "title='Average price of East Flanders localities',ylabel='Price in Euro', xlabel='Locality', figsize=(14, 8))"
   ]
  },
  {
   "cell_type": "code",
   "execution_count": 101,
   "metadata": {},
   "outputs": [
    {
     "data": {
      "text/plain": [
       "<AxesSubplot:title={'center':'Average price of Brussels localities'}, ylabel='Locality'>"
      ]
     },
     "execution_count": 101,
     "metadata": {},
     "output_type": "execute_result"
    },
    {
     "data": {
      "image/png": "[encoded data removed]",
      "text/plain": [
       "<Figure size 1008x864 with 1 Axes>"
      ]
     },
     "metadata": {
      "needs_background": "light"
     },
     "output_type": "display_data"
    }
   ],
   "source": [
    "df1 = df.where(df['Province']==\"Brussels\")\n",
    "\n",
    "df2 = df1.groupby(['Locality','Type'])['Price'].mean().unstack()\n",
    "\n",
    "df2['APARTMENT'] = df2['APARTMENT'].fillna(int(df2['APARTMENT'].mean()))\n",
    "df2['HOUSE'] = df2['HOUSE'].fillna(int(df2['HOUSE'].mean()))\n",
    "df2.sort_values(by=['HOUSE','APARTMENT'], inplace=True, ascending=False)\n",
    "\n",
    "df2.head(12).plot(kind='barh',color={\"HOUSE\": \"c\", \"APARTMENT\": \"orange\"},\n",
    "title='Average price of Brussels localities',ylabel='Price in Euro', xlabel='Locality', figsize=(14, 12))"
   ]
  },
  {
   "cell_type": "code",
   "execution_count": 102,
   "metadata": {},
   "outputs": [
    {
     "data": {
      "text/plain": [
       "Locality              Price   \n",
       "ANDERLECHT            160000.0    1\n",
       "                      185000.0    1\n",
       "                      205000.0    1\n",
       "                      220000.0    1\n",
       "AUDERGHEM             390000.0    1\n",
       "                                 ..\n",
       "Woluwe-St-Pierre      445000.0    1\n",
       "                      447500.0    1\n",
       "Woluwe-saint-lambert  235000.0    1\n",
       "                      375000.0    1\n",
       "                      495000.0    1\n",
       "Name: Price, Length: 1015, dtype: int64"
      ]
     },
     "execution_count": 102,
     "metadata": {},
     "output_type": "execute_result"
    }
   ],
   "source": [
    "a= df[df['Province']== \"Brussels\"]\n",
    "a.groupby('Locality')[\"Price\"].value_counts()"
   ]
  },
  {
   "cell_type": "code",
   "execution_count": 103,
   "metadata": {},
   "outputs": [
    {
     "data": {
      "text/html": [
       "<div>\n",
       "<style scoped>\n",
       "    .dataframe tbody tr th:only-of-type {\n",
       "        vertical-align: middle;\n",
       "    }\n",
       "\n",
       "    .dataframe tbody tr th {\n",
       "        vertical-align: top;\n",
       "    }\n",
       "\n",
       "    .dataframe thead th {\n",
       "        text-align: right;\n",
       "    }\n",
       "</style>\n",
       "<table border=\"1\" class=\"dataframe\">\n",
       "  <thead>\n",
       "    <tr style=\"text-align: right;\">\n",
       "      <th></th>\n",
       "      <th>ID</th>\n",
       "      <th>Type</th>\n",
       "      <th>SubType</th>\n",
       "      <th>Price</th>\n",
       "      <th>NetHabitableSurface(msq)</th>\n",
       "      <th>BedroomCount</th>\n",
       "      <th>Province</th>\n",
       "      <th>Locality</th>\n",
       "      <th>Region</th>\n",
       "      <th>PostCode</th>\n",
       "      <th>Floor</th>\n",
       "      <th>RegionCode</th>\n",
       "      <th>BuildingCondition</th>\n",
       "      <th>ConstructionYear</th>\n",
       "      <th>FacadeCount</th>\n",
       "      <th>HasBalcony</th>\n",
       "      <th>HasGarden</th>\n",
       "      <th>KitchenType</th>\n",
       "      <th>Status</th>\n",
       "    </tr>\n",
       "  </thead>\n",
       "  <tbody>\n",
       "    <tr>\n",
       "      <th>6873</th>\n",
       "      <td>10142453</td>\n",
       "      <td>HOUSE</td>\n",
       "      <td>HOUSE</td>\n",
       "      <td>595000.0</td>\n",
       "      <td>200.0</td>\n",
       "      <td>4.0</td>\n",
       "      <td>East Flanders</td>\n",
       "      <td>Gand</td>\n",
       "      <td>Flanders</td>\n",
       "      <td>9032</td>\n",
       "      <td>2.0</td>\n",
       "      <td>FLANDERS</td>\n",
       "      <td>AS_NEW</td>\n",
       "      <td>2012.0</td>\n",
       "      <td>3.0</td>\n",
       "      <td>0.0</td>\n",
       "      <td>1.0</td>\n",
       "      <td>3</td>\n",
       "      <td>1</td>\n",
       "    </tr>\n",
       "  </tbody>\n",
       "</table>\n",
       "</div>"
      ],
      "text/plain": [
       "            ID   Type SubType     Price  NetHabitableSurface(msq)  \\\n",
       "6873  10142453  HOUSE   HOUSE  595000.0                     200.0   \n",
       "\n",
       "      BedroomCount       Province Locality    Region PostCode  Floor  \\\n",
       "6873           4.0  East Flanders     Gand  Flanders     9032    2.0   \n",
       "\n",
       "     RegionCode BuildingCondition  ConstructionYear  FacadeCount  HasBalcony  \\\n",
       "6873   FLANDERS            AS_NEW            2012.0          3.0         0.0   \n",
       "\n",
       "      HasGarden KitchenType  Status  \n",
       "6873        1.0           3       1  "
      ]
     },
     "execution_count": 103,
     "metadata": {},
     "output_type": "execute_result"
    }
   ],
   "source": [
    "df[df['Locality']=='Gand']"
   ]
  },
  {
   "cell_type": "markdown",
   "metadata": {},
   "source": []
  },
  {
   "cell_type": "code",
   "execution_count": 104,
   "metadata": {},
   "outputs": [
    {
     "data": {
      "image/png": "[encoded data removed]",
      "text/plain": [
       "<Figure size 720x432 with 1 Axes>"
      ]
     },
     "metadata": {
      "needs_background": "light"
     },
     "output_type": "display_data"
    },
    {
     "data": {
      "image/png": "[encoded data removed]",
      "text/plain": [
       "<Figure size 720x432 with 1 Axes>"
      ]
     },
     "metadata": {
      "needs_background": "light"
     },
     "output_type": "display_data"
    },
    {
     "data": {
      "image/png": "[encoded data removed]",
      "text/plain": [
       "<Figure size 720x432 with 1 Axes>"
      ]
     },
     "metadata": {
      "needs_background": "light"
     },
     "output_type": "display_data"
    }
   ],
   "source": [
    "\n",
    "for region in df.groupby('Region').groups:\n",
    "    df1 = df.where(df['Region']== region)\n",
    "    df1.groupby(['Province','Type'])['Price'].mean().unstack().plot(kind='bar', title=f'Average price for provinces in {region}',\n",
    "               ylabel='Price(euro)', xlabel='provinces', figsize=(10, 6),stacked =True)\n"
   ]
  },
  {
   "cell_type": "markdown",
   "metadata": {},
   "source": [
    "How the number of bedrooms affect the price?\n"
   ]
  },
  {
   "cell_type": "code",
   "execution_count": 105,
   "metadata": {},
   "outputs": [
    {
     "data": {
      "text/plain": [
       "3.0    4557\n",
       "2.0    4517\n",
       "4.0    1793\n",
       "1.0    1492\n",
       "5.0     454\n",
       "Name: BedroomCount, dtype: int64"
      ]
     },
     "execution_count": 105,
     "metadata": {},
     "output_type": "execute_result"
    }
   ],
   "source": [
    "df[\"BedroomCount\"].value_counts()"
   ]
  },
  {
   "cell_type": "code",
   "execution_count": 106,
   "metadata": {},
   "outputs": [
    {
     "data": {
      "image/png": "[encoded data removed]",
      "text/plain": [
       "<Figure size 1008x576 with 1 Axes>"
      ]
     },
     "metadata": {
      "needs_background": "light"
     },
     "output_type": "display_data"
    }
   ],
   "source": [
    "\n",
    "df_bedroom = df.groupby(['Region','BedroomCount'])['Price'].mean().unstack()\n",
    "fig =df_bedroom.plot(kind='area', title=f'Price vs Bedroom count',\n",
    "               ylabel='Price(euro)', xlabel='Regions', figsize=(14, 8),stacked =True)\n",
    "\n",
    "\n",
    "\n"
   ]
  },
  {
   "cell_type": "markdown",
   "metadata": {},
   "source": [
    "How the floor number affect the price of an appartment?"
   ]
  },
  {
   "cell_type": "code",
   "execution_count": 107,
   "metadata": {},
   "outputs": [
    {
     "data": {
      "text/plain": [
       "<AxesSubplot:title={'center':'Average Price vs Age of Building'}, xlabel='Building status', ylabel='Price(euro)'>"
      ]
     },
     "execution_count": 107,
     "metadata": {},
     "output_type": "execute_result"
    },
    {
     "data": {
      "image/png": "[encoded data removed]",
      "text/plain": [
       "<Figure size 720x432 with 1 Axes>"
      ]
     },
     "metadata": {
      "needs_background": "light"
     },
     "output_type": "display_data"
    }
   ],
   "source": [
    "\n",
    "\n",
    "\n",
    "df.groupby(['Status','Type'])['Price'].mean().unstack().plot(kind='bar',color={\"HOUSE\": \"c\", \"APARTMENT\": \"orange\"},\n",
    "title='Average Price vs Age of Building',ylabel='Price(euro)', xlabel='Building status', figsize=(10,6))\n"
   ]
  },
  {
   "cell_type": "markdown",
   "metadata": {},
   "source": [
    "# Correlation\n",
    "Correlation refers to the statistical relationship between two entities. In other words, it's how two variables move in relation to one another. Correlation can be used for various data sets, as well. In some cases, you might have predicted how things will correlate, while in others, the relationship will be a surprise to you. It's important to understand that correlation does not mean the relationship is causal.\n",
    "\n",
    "To understand how correlation works, it's important to understand the following terms:\n",
    "1. Positive correlation: A positive correlation would be 1. This means the two variables moved either up or down in the   same direction together.\n",
    "2. Negative correlation: A negative correlation is -1. This means the two variables moved in opposite directions.\n",
    "3. Zero or no correlation: A correlation of zero means there is no relationship between the two variables. In other words, as one variable moves one way, the other moved in another unrelated direction.\n",
    "\n",
    "Types of Correlation\n",
    "\n",
    "* Pearson correlation: The Pearson correlation is the most commonly used measurement for a linear relationship between two variables. The stronger the correlation between these two datasets, the closer it'll be to +1 or -1.\n",
    "* Spearman correlation: This type of correlation is used to determine the monotonic relationship or association between two datasets. Unlike the Pearson correlation coefficient, it's based on the ranked values for each dataset and uses skewed or ordinal variables rather than normally distributed ones.\n",
    "* Kendall correlation: This type of correlation measures the strength of dependence between two datasets."
   ]
  },
  {
   "cell_type": "code",
   "execution_count": 109,
   "metadata": {},
   "outputs": [
    {
     "data": {
      "image/png": "[encoded data removed]",
      "text/plain": [
       "<Figure size 1800x1080 with 2 Axes>"
      ]
     },
     "metadata": {
      "needs_background": "light"
     },
     "output_type": "display_data"
    }
   ],
   "source": [
    "plt.figure(figsize=(25, 15))\n",
    "sns.heatmap(df.corr(),\n",
    "            vmin=-1,\n",
    "            cmap='coolwarm',\n",
    "            annot=True);"
   ]
  },
  {
   "cell_type": "code",
   "execution_count": 110,
   "metadata": {},
   "outputs": [
    {
     "name": "stdout",
     "output_type": "stream",
     "text": [
      "pearson: 0.3710915176160662\n",
      "kendall: 0.29890344145362313\n",
      "spearman: 0.38755681200555425\n"
     ]
    }
   ],
   "source": [
    "# correlation between price and bedroom  count\n",
    "print(\"pearson:\",df[\"Price\"].corr(df[\"BedroomCount\"], method=\"pearson\"))\n",
    "print(\"kendall:\",df[\"Price\"].corr(df[\"BedroomCount\"], method=\"kendall\"))\n",
    "print(\"spearman:\",df[\"Price\"].corr(df[\"BedroomCount\"], method=\"spearman\"))\n"
   ]
  },
  {
   "cell_type": "code",
   "execution_count": null,
   "metadata": {},
   "outputs": [],
   "source": [
    "df.to_csv(r\"real-estate-price-prediction\\assets\\data.csv\", header=True, index=False)"
   ]
  }
 ],
 "metadata": {
  "kernelspec": {
   "display_name": "Python 3.8.13 ('real_estate_prediction')",
   "language": "python",
   "name": "python3"
  },
  "language_info": {
   "codemirror_mode": {
    "name": "ipython",
    "version": 3
   },
   "file_extension": ".py",
   "mimetype": "text/x-python",
   "name": "python",
   "nbconvert_exporter": "python",
   "pygments_lexer": "ipython3",
   "version": "3.8.13"
  },
  "orig_nbformat": 4,
  "vscode": {
   "interpreter": {
    "hash": "9228d34919f745069d3ef84d5d121bbcb666b039c72f040aacee9f3bccaf6b85"
   }
  }
 },
 "nbformat": 4,
 "nbformat_minor": 2
}
