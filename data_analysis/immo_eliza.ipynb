{
 "cells": [
  {
   "cell_type": "markdown",
   "metadata": {},
   "source": []
  },
  {
   "cell_type": "markdown",
   "metadata": {},
   "source": [
    "# immo_eliza data analysis\n",
    "I. Data cleaning\n",
    "  1. Importing necessary libraries and Loading the dataset\n",
    "  2. Explorint the dataset and renaming the headers\n",
    "  3. Converting booleans to 1 and 0\n",
    "  4. checking and removing duplication \n",
    "  5. check and remove  duplication \n",
    "  6. cleaning in the \"Price\" column  \n",
    "  7.  Removing columns with many NaN and have no significant impact\n",
    "  8. cleaning bedroomCount column \n",
    "  9. cleaning province,region and locality column\n",
    "  10. cleaning HasBalcony and HasGarden column\n",
    "  11. categorizing data\n",
    "   *  categroizing kitchen types   \n",
    "   *  catgorizing construction year    \n",
    "\n",
    "  \n",
    "  12. Removing outliers \n",
    "  13. cleaning floor columns\n",
    "\n",
    "II. Analyzing and visualizing the data\n",
    "1. Questions\n",
    "  * what is the average cost of house and apartment in Belgium?\n",
    "  * What is the average cost of house and apartment in Ghent?\n",
    "  * which (region,province,locality) is cheapest|expensive?\n",
    "  * what is the correlation?\n",
    "    * between price and bedroomcount\n",
    "    * between price and facadecount\n",
    "    * between price and floor\n",
    "    * between price and constructionyear\n",
    "  "
   ]
  },
  {
   "cell_type": "code",
   "execution_count": 246,
   "metadata": {},
   "outputs": [
    {
     "data": {
      "text/html": [
       "<style type='text/css'>\n",
       ".CodeMirror{\n",
       "font-size: 17px;\n",
       "</style>\n"
      ],
      "text/plain": [
       "<IPython.core.display.HTML object>"
      ]
     },
     "metadata": {},
     "output_type": "display_data"
    }
   ],
   "source": [
    "%%html\n",
    "<style type='text/css'>\n",
    ".CodeMirror{\n",
    "font-size: 17px;\n",
    "</style>"
   ]
  },
  {
   "cell_type": "markdown",
   "metadata": {},
   "source": [
    "## 1. Importing necessary Libraries and Loading the dataset"
   ]
  },
  {
   "cell_type": "code",
   "execution_count": 247,
   "metadata": {},
   "outputs": [],
   "source": [
    "import pandas as pd \n",
    "import numpy as np\n",
    "import matplotlib.pyplot as plt\n",
    "import seaborn as sns"
   ]
  },
  {
   "cell_type": "code",
   "execution_count": 248,
   "metadata": {},
   "outputs": [],
   "source": [
    "df = pd.read_csv('data/data_3.csv')"
   ]
  },
  {
   "cell_type": "code",
   "execution_count": 249,
   "metadata": {},
   "outputs": [],
   "source": [
    "# save to csv file data.csv\n",
    "df.to_csv('data/data.csv', header=False, index=False)"
   ]
  },
  {
   "cell_type": "markdown",
   "metadata": {},
   "source": [
    "# 2. Exploring the dataset and renaming the headers"
   ]
  },
  {
   "cell_type": "code",
   "execution_count": 250,
   "metadata": {},
   "outputs": [
    {
     "data": {
      "text/plain": [
       "(21047, 35)"
      ]
     },
     "execution_count": 250,
     "metadata": {},
     "output_type": "execute_result"
    }
   ],
   "source": [
    "initial_size = df.shape\n",
    "initial_size"
   ]
  },
  {
   "cell_type": "code",
   "execution_count": 251,
   "metadata": {},
   "outputs": [
    {
     "data": {
      "text/html": [
       "<div>\n",
       "<style scoped>\n",
       "    .dataframe tbody tr th:only-of-type {\n",
       "        vertical-align: middle;\n",
       "    }\n",
       "\n",
       "    .dataframe tbody tr th {\n",
       "        vertical-align: top;\n",
       "    }\n",
       "\n",
       "    .dataframe thead th {\n",
       "        text-align: right;\n",
       "    }\n",
       "</style>\n",
       "<table border=\"1\" class=\"dataframe\">\n",
       "  <thead>\n",
       "    <tr style=\"text-align: right;\">\n",
       "      <th></th>\n",
       "      <th>ID</th>\n",
       "      <th>Type</th>\n",
       "      <th>Sub type</th>\n",
       "      <th>Price</th>\n",
       "      <th>NetHabitableSurface(msq)</th>\n",
       "      <th>BedroomCount</th>\n",
       "      <th>Province</th>\n",
       "      <th>locality</th>\n",
       "      <th>Region</th>\n",
       "      <th>PostCode</th>\n",
       "      <th>...</th>\n",
       "      <th>FacadeCount</th>\n",
       "      <th>HasLift</th>\n",
       "      <th>FloodZoneType</th>\n",
       "      <th>HeatingType</th>\n",
       "      <th>IsDoubleGlaze</th>\n",
       "      <th>HasBalcony</th>\n",
       "      <th>HasGarden</th>\n",
       "      <th>GardenArea</th>\n",
       "      <th>KitchekType</th>\n",
       "      <th>LivingRoomArea</th>\n",
       "    </tr>\n",
       "  </thead>\n",
       "  <tbody>\n",
       "    <tr>\n",
       "      <th>0</th>\n",
       "      <td>10128188</td>\n",
       "      <td>HOUSE</td>\n",
       "      <td>HOUSE</td>\n",
       "      <td>328330.0</td>\n",
       "      <td>148.0</td>\n",
       "      <td>3.0</td>\n",
       "      <td>Limburg</td>\n",
       "      <td>Zonhoven</td>\n",
       "      <td>Flanders</td>\n",
       "      <td>3520</td>\n",
       "      <td>...</td>\n",
       "      <td>3.0</td>\n",
       "      <td>NaN</td>\n",
       "      <td>NaN</td>\n",
       "      <td>NaN</td>\n",
       "      <td>True</td>\n",
       "      <td>NaN</td>\n",
       "      <td>True</td>\n",
       "      <td>347.0</td>\n",
       "      <td>NaN</td>\n",
       "      <td>NaN</td>\n",
       "    </tr>\n",
       "    <tr>\n",
       "      <th>1</th>\n",
       "      <td>10128189</td>\n",
       "      <td>HOUSE</td>\n",
       "      <td>HOUSE</td>\n",
       "      <td>328330.0</td>\n",
       "      <td>148.0</td>\n",
       "      <td>3.0</td>\n",
       "      <td>Limburg</td>\n",
       "      <td>Zonhoven</td>\n",
       "      <td>Flanders</td>\n",
       "      <td>3520</td>\n",
       "      <td>...</td>\n",
       "      <td>3.0</td>\n",
       "      <td>NaN</td>\n",
       "      <td>NaN</td>\n",
       "      <td>NaN</td>\n",
       "      <td>True</td>\n",
       "      <td>NaN</td>\n",
       "      <td>True</td>\n",
       "      <td>347.0</td>\n",
       "      <td>NaN</td>\n",
       "      <td>NaN</td>\n",
       "    </tr>\n",
       "    <tr>\n",
       "      <th>2</th>\n",
       "      <td>10128190</td>\n",
       "      <td>HOUSE</td>\n",
       "      <td>HOUSE</td>\n",
       "      <td>327829.0</td>\n",
       "      <td>148.0</td>\n",
       "      <td>3.0</td>\n",
       "      <td>Limburg</td>\n",
       "      <td>Zonhoven</td>\n",
       "      <td>Flanders</td>\n",
       "      <td>3520</td>\n",
       "      <td>...</td>\n",
       "      <td>3.0</td>\n",
       "      <td>NaN</td>\n",
       "      <td>NaN</td>\n",
       "      <td>NaN</td>\n",
       "      <td>True</td>\n",
       "      <td>NaN</td>\n",
       "      <td>True</td>\n",
       "      <td>346.0</td>\n",
       "      <td>NaN</td>\n",
       "      <td>NaN</td>\n",
       "    </tr>\n",
       "    <tr>\n",
       "      <th>3</th>\n",
       "      <td>10128191</td>\n",
       "      <td>HOUSE</td>\n",
       "      <td>HOUSE</td>\n",
       "      <td>327829.0</td>\n",
       "      <td>148.0</td>\n",
       "      <td>3.0</td>\n",
       "      <td>Limburg</td>\n",
       "      <td>Zonhoven</td>\n",
       "      <td>Flanders</td>\n",
       "      <td>3520</td>\n",
       "      <td>...</td>\n",
       "      <td>3.0</td>\n",
       "      <td>NaN</td>\n",
       "      <td>NaN</td>\n",
       "      <td>NaN</td>\n",
       "      <td>True</td>\n",
       "      <td>NaN</td>\n",
       "      <td>True</td>\n",
       "      <td>346.0</td>\n",
       "      <td>NaN</td>\n",
       "      <td>NaN</td>\n",
       "    </tr>\n",
       "    <tr>\n",
       "      <th>4</th>\n",
       "      <td>10128192</td>\n",
       "      <td>HOUSE</td>\n",
       "      <td>HOUSE</td>\n",
       "      <td>378242.0</td>\n",
       "      <td>148.0</td>\n",
       "      <td>3.0</td>\n",
       "      <td>Limburg</td>\n",
       "      <td>Zonhoven</td>\n",
       "      <td>Flanders</td>\n",
       "      <td>3520</td>\n",
       "      <td>...</td>\n",
       "      <td>4.0</td>\n",
       "      <td>NaN</td>\n",
       "      <td>NaN</td>\n",
       "      <td>NaN</td>\n",
       "      <td>True</td>\n",
       "      <td>NaN</td>\n",
       "      <td>True</td>\n",
       "      <td>589.0</td>\n",
       "      <td>NaN</td>\n",
       "      <td>NaN</td>\n",
       "    </tr>\n",
       "  </tbody>\n",
       "</table>\n",
       "<p>5 rows × 35 columns</p>\n",
       "</div>"
      ],
      "text/plain": [
       "         ID   Type Sub type     Price  NetHabitableSurface(msq)  BedroomCount  \\\n",
       "0  10128188  HOUSE    HOUSE  328330.0                     148.0           3.0   \n",
       "1  10128189  HOUSE    HOUSE  328330.0                     148.0           3.0   \n",
       "2  10128190  HOUSE    HOUSE  327829.0                     148.0           3.0   \n",
       "3  10128191  HOUSE    HOUSE  327829.0                     148.0           3.0   \n",
       "4  10128192  HOUSE    HOUSE  378242.0                     148.0           3.0   \n",
       "\n",
       "  Province  locality    Region PostCode  ... FacadeCount  HasLift  \\\n",
       "0  Limburg  Zonhoven  Flanders     3520  ...         3.0      NaN   \n",
       "1  Limburg  Zonhoven  Flanders     3520  ...         3.0      NaN   \n",
       "2  Limburg  Zonhoven  Flanders     3520  ...         3.0      NaN   \n",
       "3  Limburg  Zonhoven  Flanders     3520  ...         3.0      NaN   \n",
       "4  Limburg  Zonhoven  Flanders     3520  ...         4.0      NaN   \n",
       "\n",
       "  FloodZoneType HeatingType IsDoubleGlaze  HasBalcony  HasGarden  GardenArea  \\\n",
       "0           NaN         NaN          True         NaN       True       347.0   \n",
       "1           NaN         NaN          True         NaN       True       347.0   \n",
       "2           NaN         NaN          True         NaN       True       346.0   \n",
       "3           NaN         NaN          True         NaN       True       346.0   \n",
       "4           NaN         NaN          True         NaN       True       589.0   \n",
       "\n",
       "   KitchekType  LivingRoomArea  \n",
       "0          NaN             NaN  \n",
       "1          NaN             NaN  \n",
       "2          NaN             NaN  \n",
       "3          NaN             NaN  \n",
       "4          NaN             NaN  \n",
       "\n",
       "[5 rows x 35 columns]"
      ]
     },
     "execution_count": 251,
     "metadata": {},
     "output_type": "execute_result"
    }
   ],
   "source": [
    "df.head()\n"
   ]
  },
  {
   "cell_type": "code",
   "execution_count": 252,
   "metadata": {},
   "outputs": [
    {
     "data": {
      "text/plain": [
       "Index(['ID', 'Type', 'Sub type', 'Price', 'NetHabitableSurface(msq)',\n",
       "       'BedroomCount', 'Province', 'locality', 'Region', 'PostCode', 'street',\n",
       "       'Floor', 'RegionCode', 'IsIsolated', 'HasSeaView', 'SchoolDistance',\n",
       "       'ShopDistance', 'TransportDistance', 'NetHabitableSurface',\n",
       "       'TotalRoomCount', 'HasAttic', 'HasBasement', 'HasDiningRoom',\n",
       "       'BuildingCondition', 'ConstructionYear', 'FacadeCount', 'HasLift',\n",
       "       'FloodZoneType', 'HeatingType', 'IsDoubleGlaze', 'HasBalcony',\n",
       "       'HasGarden', 'GardenArea', 'KitchekType', 'LivingRoomArea'],\n",
       "      dtype='object')"
      ]
     },
     "execution_count": 252,
     "metadata": {},
     "output_type": "execute_result"
    }
   ],
   "source": [
    "df.columns"
   ]
  },
  {
   "cell_type": "code",
   "execution_count": 253,
   "metadata": {},
   "outputs": [],
   "source": [
    "# renaming the header of the data\n",
    "df = df.rename(columns={\"KitchekType\":\"KitchenType\",\"Sub type\":\"SubType\",\"street\":\"Street\",\"locality\":\"Locality\"})"
   ]
  },
  {
   "cell_type": "markdown",
   "metadata": {},
   "source": [
    "## 3. Converting booleans to 1 and 0"
   ]
  },
  {
   "cell_type": "code",
   "execution_count": 254,
   "metadata": {},
   "outputs": [
    {
     "data": {
      "text/html": [
       "<div>\n",
       "<style scoped>\n",
       "    .dataframe tbody tr th:only-of-type {\n",
       "        vertical-align: middle;\n",
       "    }\n",
       "\n",
       "    .dataframe tbody tr th {\n",
       "        vertical-align: top;\n",
       "    }\n",
       "\n",
       "    .dataframe thead th {\n",
       "        text-align: right;\n",
       "    }\n",
       "</style>\n",
       "<table border=\"1\" class=\"dataframe\">\n",
       "  <thead>\n",
       "    <tr style=\"text-align: right;\">\n",
       "      <th></th>\n",
       "      <th>ID</th>\n",
       "      <th>Type</th>\n",
       "      <th>SubType</th>\n",
       "      <th>Price</th>\n",
       "      <th>NetHabitableSurface(msq)</th>\n",
       "      <th>BedroomCount</th>\n",
       "      <th>Province</th>\n",
       "      <th>Locality</th>\n",
       "      <th>Region</th>\n",
       "      <th>PostCode</th>\n",
       "      <th>...</th>\n",
       "      <th>FacadeCount</th>\n",
       "      <th>HasLift</th>\n",
       "      <th>FloodZoneType</th>\n",
       "      <th>HeatingType</th>\n",
       "      <th>IsDoubleGlaze</th>\n",
       "      <th>HasBalcony</th>\n",
       "      <th>HasGarden</th>\n",
       "      <th>GardenArea</th>\n",
       "      <th>KitchenType</th>\n",
       "      <th>LivingRoomArea</th>\n",
       "    </tr>\n",
       "  </thead>\n",
       "  <tbody>\n",
       "    <tr>\n",
       "      <th>0</th>\n",
       "      <td>10128188</td>\n",
       "      <td>HOUSE</td>\n",
       "      <td>HOUSE</td>\n",
       "      <td>328330.0</td>\n",
       "      <td>148.0</td>\n",
       "      <td>3.0</td>\n",
       "      <td>Limburg</td>\n",
       "      <td>Zonhoven</td>\n",
       "      <td>Flanders</td>\n",
       "      <td>3520</td>\n",
       "      <td>...</td>\n",
       "      <td>3.0</td>\n",
       "      <td>NaN</td>\n",
       "      <td>NaN</td>\n",
       "      <td>NaN</td>\n",
       "      <td>1.0</td>\n",
       "      <td>NaN</td>\n",
       "      <td>1.0</td>\n",
       "      <td>347.0</td>\n",
       "      <td>NaN</td>\n",
       "      <td>NaN</td>\n",
       "    </tr>\n",
       "    <tr>\n",
       "      <th>1</th>\n",
       "      <td>10128189</td>\n",
       "      <td>HOUSE</td>\n",
       "      <td>HOUSE</td>\n",
       "      <td>328330.0</td>\n",
       "      <td>148.0</td>\n",
       "      <td>3.0</td>\n",
       "      <td>Limburg</td>\n",
       "      <td>Zonhoven</td>\n",
       "      <td>Flanders</td>\n",
       "      <td>3520</td>\n",
       "      <td>...</td>\n",
       "      <td>3.0</td>\n",
       "      <td>NaN</td>\n",
       "      <td>NaN</td>\n",
       "      <td>NaN</td>\n",
       "      <td>1.0</td>\n",
       "      <td>NaN</td>\n",
       "      <td>1.0</td>\n",
       "      <td>347.0</td>\n",
       "      <td>NaN</td>\n",
       "      <td>NaN</td>\n",
       "    </tr>\n",
       "    <tr>\n",
       "      <th>2</th>\n",
       "      <td>10128190</td>\n",
       "      <td>HOUSE</td>\n",
       "      <td>HOUSE</td>\n",
       "      <td>327829.0</td>\n",
       "      <td>148.0</td>\n",
       "      <td>3.0</td>\n",
       "      <td>Limburg</td>\n",
       "      <td>Zonhoven</td>\n",
       "      <td>Flanders</td>\n",
       "      <td>3520</td>\n",
       "      <td>...</td>\n",
       "      <td>3.0</td>\n",
       "      <td>NaN</td>\n",
       "      <td>NaN</td>\n",
       "      <td>NaN</td>\n",
       "      <td>1.0</td>\n",
       "      <td>NaN</td>\n",
       "      <td>1.0</td>\n",
       "      <td>346.0</td>\n",
       "      <td>NaN</td>\n",
       "      <td>NaN</td>\n",
       "    </tr>\n",
       "    <tr>\n",
       "      <th>3</th>\n",
       "      <td>10128191</td>\n",
       "      <td>HOUSE</td>\n",
       "      <td>HOUSE</td>\n",
       "      <td>327829.0</td>\n",
       "      <td>148.0</td>\n",
       "      <td>3.0</td>\n",
       "      <td>Limburg</td>\n",
       "      <td>Zonhoven</td>\n",
       "      <td>Flanders</td>\n",
       "      <td>3520</td>\n",
       "      <td>...</td>\n",
       "      <td>3.0</td>\n",
       "      <td>NaN</td>\n",
       "      <td>NaN</td>\n",
       "      <td>NaN</td>\n",
       "      <td>1.0</td>\n",
       "      <td>NaN</td>\n",
       "      <td>1.0</td>\n",
       "      <td>346.0</td>\n",
       "      <td>NaN</td>\n",
       "      <td>NaN</td>\n",
       "    </tr>\n",
       "    <tr>\n",
       "      <th>4</th>\n",
       "      <td>10128192</td>\n",
       "      <td>HOUSE</td>\n",
       "      <td>HOUSE</td>\n",
       "      <td>378242.0</td>\n",
       "      <td>148.0</td>\n",
       "      <td>3.0</td>\n",
       "      <td>Limburg</td>\n",
       "      <td>Zonhoven</td>\n",
       "      <td>Flanders</td>\n",
       "      <td>3520</td>\n",
       "      <td>...</td>\n",
       "      <td>4.0</td>\n",
       "      <td>NaN</td>\n",
       "      <td>NaN</td>\n",
       "      <td>NaN</td>\n",
       "      <td>1.0</td>\n",
       "      <td>NaN</td>\n",
       "      <td>1.0</td>\n",
       "      <td>589.0</td>\n",
       "      <td>NaN</td>\n",
       "      <td>NaN</td>\n",
       "    </tr>\n",
       "  </tbody>\n",
       "</table>\n",
       "<p>5 rows × 35 columns</p>\n",
       "</div>"
      ],
      "text/plain": [
       "         ID   Type SubType     Price  NetHabitableSurface(msq)  BedroomCount  \\\n",
       "0  10128188  HOUSE   HOUSE  328330.0                     148.0           3.0   \n",
       "1  10128189  HOUSE   HOUSE  328330.0                     148.0           3.0   \n",
       "2  10128190  HOUSE   HOUSE  327829.0                     148.0           3.0   \n",
       "3  10128191  HOUSE   HOUSE  327829.0                     148.0           3.0   \n",
       "4  10128192  HOUSE   HOUSE  378242.0                     148.0           3.0   \n",
       "\n",
       "  Province  Locality    Region PostCode  ... FacadeCount  HasLift  \\\n",
       "0  Limburg  Zonhoven  Flanders     3520  ...         3.0      NaN   \n",
       "1  Limburg  Zonhoven  Flanders     3520  ...         3.0      NaN   \n",
       "2  Limburg  Zonhoven  Flanders     3520  ...         3.0      NaN   \n",
       "3  Limburg  Zonhoven  Flanders     3520  ...         3.0      NaN   \n",
       "4  Limburg  Zonhoven  Flanders     3520  ...         4.0      NaN   \n",
       "\n",
       "  FloodZoneType HeatingType  IsDoubleGlaze  HasBalcony  HasGarden  GardenArea  \\\n",
       "0           NaN         NaN            1.0         NaN        1.0       347.0   \n",
       "1           NaN         NaN            1.0         NaN        1.0       347.0   \n",
       "2           NaN         NaN            1.0         NaN        1.0       346.0   \n",
       "3           NaN         NaN            1.0         NaN        1.0       346.0   \n",
       "4           NaN         NaN            1.0         NaN        1.0       589.0   \n",
       "\n",
       "   KitchenType  LivingRoomArea  \n",
       "0          NaN             NaN  \n",
       "1          NaN             NaN  \n",
       "2          NaN             NaN  \n",
       "3          NaN             NaN  \n",
       "4          NaN             NaN  \n",
       "\n",
       "[5 rows x 35 columns]"
      ]
     },
     "execution_count": 254,
     "metadata": {},
     "output_type": "execute_result"
    }
   ],
   "source": [
    "# convert boolean false and True to o and 1\n",
    "df.replace({False: 0, True: 1}, inplace=True)\n",
    "df.head()"
   ]
  },
  {
   "cell_type": "markdown",
   "metadata": {},
   "source": [
    "## 5.  check and remove  duplication \n"
   ]
  },
  {
   "cell_type": "code",
   "execution_count": 255,
   "metadata": {},
   "outputs": [
    {
     "data": {
      "text/plain": [
       "False"
      ]
     },
     "execution_count": 255,
     "metadata": {},
     "output_type": "execute_result"
    }
   ],
   "source": [
    "# check if the ID column is unique\n",
    "df['ID'].is_unique\n"
   ]
  },
  {
   "cell_type": "code",
   "execution_count": 256,
   "metadata": {},
   "outputs": [
    {
     "name": "stdout",
     "output_type": "stream",
     "text": [
      "(1379, 35)\n"
     ]
    },
    {
     "data": {
      "text/html": [
       "<div>\n",
       "<style scoped>\n",
       "    .dataframe tbody tr th:only-of-type {\n",
       "        vertical-align: middle;\n",
       "    }\n",
       "\n",
       "    .dataframe tbody tr th {\n",
       "        vertical-align: top;\n",
       "    }\n",
       "\n",
       "    .dataframe thead th {\n",
       "        text-align: right;\n",
       "    }\n",
       "</style>\n",
       "<table border=\"1\" class=\"dataframe\">\n",
       "  <thead>\n",
       "    <tr style=\"text-align: right;\">\n",
       "      <th></th>\n",
       "      <th>ID</th>\n",
       "      <th>Type</th>\n",
       "      <th>SubType</th>\n",
       "      <th>Price</th>\n",
       "      <th>NetHabitableSurface(msq)</th>\n",
       "      <th>BedroomCount</th>\n",
       "      <th>Province</th>\n",
       "      <th>Locality</th>\n",
       "      <th>Region</th>\n",
       "      <th>PostCode</th>\n",
       "      <th>...</th>\n",
       "      <th>FacadeCount</th>\n",
       "      <th>HasLift</th>\n",
       "      <th>FloodZoneType</th>\n",
       "      <th>HeatingType</th>\n",
       "      <th>IsDoubleGlaze</th>\n",
       "      <th>HasBalcony</th>\n",
       "      <th>HasGarden</th>\n",
       "      <th>GardenArea</th>\n",
       "      <th>KitchenType</th>\n",
       "      <th>LivingRoomArea</th>\n",
       "    </tr>\n",
       "  </thead>\n",
       "  <tbody>\n",
       "    <tr>\n",
       "      <th>12602</th>\n",
       "      <td>10151467</td>\n",
       "      <td>APARTMENT</td>\n",
       "      <td>APARTMENT</td>\n",
       "      <td>235000.0</td>\n",
       "      <td>90.0</td>\n",
       "      <td>2.0</td>\n",
       "      <td>Antwerp</td>\n",
       "      <td>Mortsel</td>\n",
       "      <td>Flanders</td>\n",
       "      <td>2640</td>\n",
       "      <td>...</td>\n",
       "      <td>NaN</td>\n",
       "      <td>NaN</td>\n",
       "      <td>NaN</td>\n",
       "      <td>NaN</td>\n",
       "      <td>1.0</td>\n",
       "      <td>NaN</td>\n",
       "      <td>NaN</td>\n",
       "      <td>NaN</td>\n",
       "      <td>NaN</td>\n",
       "      <td>NaN</td>\n",
       "    </tr>\n",
       "    <tr>\n",
       "      <th>12603</th>\n",
       "      <td>10151468</td>\n",
       "      <td>HOUSE</td>\n",
       "      <td>HOUSE</td>\n",
       "      <td>320000.0</td>\n",
       "      <td>161.0</td>\n",
       "      <td>2.0</td>\n",
       "      <td>West Flanders</td>\n",
       "      <td>Oostkamp</td>\n",
       "      <td>Flanders</td>\n",
       "      <td>8020</td>\n",
       "      <td>...</td>\n",
       "      <td>NaN</td>\n",
       "      <td>NaN</td>\n",
       "      <td>NON_FLOOD_ZONE</td>\n",
       "      <td>GAS</td>\n",
       "      <td>NaN</td>\n",
       "      <td>NaN</td>\n",
       "      <td>NaN</td>\n",
       "      <td>NaN</td>\n",
       "      <td>NaN</td>\n",
       "      <td>NaN</td>\n",
       "    </tr>\n",
       "    <tr>\n",
       "      <th>12604</th>\n",
       "      <td>10151472</td>\n",
       "      <td>HOUSE</td>\n",
       "      <td>HOUSE</td>\n",
       "      <td>184000.0</td>\n",
       "      <td>181.0</td>\n",
       "      <td>2.0</td>\n",
       "      <td>Limburg</td>\n",
       "      <td>Genk</td>\n",
       "      <td>Flanders</td>\n",
       "      <td>3600</td>\n",
       "      <td>...</td>\n",
       "      <td>NaN</td>\n",
       "      <td>NaN</td>\n",
       "      <td>NON_FLOOD_ZONE</td>\n",
       "      <td>NaN</td>\n",
       "      <td>NaN</td>\n",
       "      <td>NaN</td>\n",
       "      <td>1.0</td>\n",
       "      <td>NaN</td>\n",
       "      <td>NaN</td>\n",
       "      <td>NaN</td>\n",
       "    </tr>\n",
       "    <tr>\n",
       "      <th>12605</th>\n",
       "      <td>10151474</td>\n",
       "      <td>HOUSE</td>\n",
       "      <td>HOUSE</td>\n",
       "      <td>200000.0</td>\n",
       "      <td>130.0</td>\n",
       "      <td>3.0</td>\n",
       "      <td>Antwerp</td>\n",
       "      <td>Westerlo</td>\n",
       "      <td>Flanders</td>\n",
       "      <td>2260</td>\n",
       "      <td>...</td>\n",
       "      <td>NaN</td>\n",
       "      <td>NaN</td>\n",
       "      <td>NON_FLOOD_ZONE</td>\n",
       "      <td>GAS</td>\n",
       "      <td>1.0</td>\n",
       "      <td>NaN</td>\n",
       "      <td>1.0</td>\n",
       "      <td>NaN</td>\n",
       "      <td>NaN</td>\n",
       "      <td>NaN</td>\n",
       "    </tr>\n",
       "    <tr>\n",
       "      <th>12606</th>\n",
       "      <td>10151476</td>\n",
       "      <td>HOUSE</td>\n",
       "      <td>HOUSE</td>\n",
       "      <td>482000.0</td>\n",
       "      <td>151.0</td>\n",
       "      <td>3.0</td>\n",
       "      <td>Flemish Brabant</td>\n",
       "      <td>Dilbeek</td>\n",
       "      <td>Flanders</td>\n",
       "      <td>1700</td>\n",
       "      <td>...</td>\n",
       "      <td>NaN</td>\n",
       "      <td>NaN</td>\n",
       "      <td>NON_FLOOD_ZONE</td>\n",
       "      <td>NaN</td>\n",
       "      <td>1.0</td>\n",
       "      <td>NaN</td>\n",
       "      <td>1.0</td>\n",
       "      <td>NaN</td>\n",
       "      <td>NaN</td>\n",
       "      <td>NaN</td>\n",
       "    </tr>\n",
       "  </tbody>\n",
       "</table>\n",
       "<p>5 rows × 35 columns</p>\n",
       "</div>"
      ],
      "text/plain": [
       "             ID       Type    SubType     Price  NetHabitableSurface(msq)  \\\n",
       "12602  10151467  APARTMENT  APARTMENT  235000.0                      90.0   \n",
       "12603  10151468      HOUSE      HOUSE  320000.0                     161.0   \n",
       "12604  10151472      HOUSE      HOUSE  184000.0                     181.0   \n",
       "12605  10151474      HOUSE      HOUSE  200000.0                     130.0   \n",
       "12606  10151476      HOUSE      HOUSE  482000.0                     151.0   \n",
       "\n",
       "       BedroomCount         Province  Locality    Region PostCode  ...  \\\n",
       "12602           2.0          Antwerp   Mortsel  Flanders     2640  ...   \n",
       "12603           2.0    West Flanders  Oostkamp  Flanders     8020  ...   \n",
       "12604           2.0          Limburg      Genk  Flanders     3600  ...   \n",
       "12605           3.0          Antwerp  Westerlo  Flanders     2260  ...   \n",
       "12606           3.0  Flemish Brabant   Dilbeek  Flanders     1700  ...   \n",
       "\n",
       "      FacadeCount  HasLift   FloodZoneType HeatingType  IsDoubleGlaze  \\\n",
       "12602         NaN      NaN             NaN         NaN            1.0   \n",
       "12603         NaN      NaN  NON_FLOOD_ZONE         GAS            NaN   \n",
       "12604         NaN      NaN  NON_FLOOD_ZONE         NaN            NaN   \n",
       "12605         NaN      NaN  NON_FLOOD_ZONE         GAS            1.0   \n",
       "12606         NaN      NaN  NON_FLOOD_ZONE         NaN            1.0   \n",
       "\n",
       "       HasBalcony  HasGarden  GardenArea  KitchenType  LivingRoomArea  \n",
       "12602         NaN        NaN         NaN          NaN             NaN  \n",
       "12603         NaN        NaN         NaN          NaN             NaN  \n",
       "12604         NaN        1.0         NaN          NaN             NaN  \n",
       "12605         NaN        1.0         NaN          NaN             NaN  \n",
       "12606         NaN        1.0         NaN          NaN             NaN  \n",
       "\n",
       "[5 rows x 35 columns]"
      ]
     },
     "execution_count": 256,
     "metadata": {},
     "output_type": "execute_result"
    }
   ],
   "source": [
    "# finding the deplicated rows(with same ID Number)\n",
    "from os import dup\n",
    "duplicateRows = df[df.duplicated('ID')]\n",
    "print(duplicateRows.shape)\n",
    "duplicateRows.head()"
   ]
  },
  {
   "cell_type": "code",
   "execution_count": 257,
   "metadata": {},
   "outputs": [],
   "source": [
    "df = df.drop_duplicates()"
   ]
  },
  {
   "cell_type": "code",
   "execution_count": 258,
   "metadata": {},
   "outputs": [
    {
     "name": "stdout",
     "output_type": "stream",
     "text": [
      "1379 rows are duplicates and removed\n",
      "(19668, 35)\n"
     ]
    }
   ],
   "source": [
    "size_after_removing_duplicates = df.shape\n",
    "removed_duplicates = initial_size[0] - size_after_removing_duplicates[0]\n",
    "print(f'{removed_duplicates} rows are duplicates and removed')\n",
    "print(size_after_removing_duplicates)\n"
   ]
  },
  {
   "cell_type": "code",
   "execution_count": 259,
   "metadata": {},
   "outputs": [
    {
     "data": {
      "text/plain": [
       "count    1.966800e+04\n",
       "mean     1.014858e+07\n",
       "std      1.189163e+04\n",
       "min      1.012819e+07\n",
       "25%      1.013843e+07\n",
       "50%      1.014825e+07\n",
       "75%      1.015789e+07\n",
       "max      1.016892e+07\n",
       "Name: ID, dtype: float64"
      ]
     },
     "execution_count": 259,
     "metadata": {},
     "output_type": "execute_result"
    }
   ],
   "source": [
    "df[\"ID\"].describe()"
   ]
  },
  {
   "cell_type": "code",
   "execution_count": 260,
   "metadata": {},
   "outputs": [
    {
     "data": {
      "text/html": [
       "<div>\n",
       "<style scoped>\n",
       "    .dataframe tbody tr th:only-of-type {\n",
       "        vertical-align: middle;\n",
       "    }\n",
       "\n",
       "    .dataframe tbody tr th {\n",
       "        vertical-align: top;\n",
       "    }\n",
       "\n",
       "    .dataframe thead th {\n",
       "        text-align: right;\n",
       "    }\n",
       "</style>\n",
       "<table border=\"1\" class=\"dataframe\">\n",
       "  <thead>\n",
       "    <tr style=\"text-align: right;\">\n",
       "      <th></th>\n",
       "      <th>ID</th>\n",
       "      <th>Type</th>\n",
       "      <th>SubType</th>\n",
       "      <th>Price</th>\n",
       "      <th>NetHabitableSurface(msq)</th>\n",
       "      <th>BedroomCount</th>\n",
       "      <th>Province</th>\n",
       "      <th>Locality</th>\n",
       "      <th>Region</th>\n",
       "      <th>PostCode</th>\n",
       "      <th>...</th>\n",
       "      <th>FacadeCount</th>\n",
       "      <th>HasLift</th>\n",
       "      <th>FloodZoneType</th>\n",
       "      <th>HeatingType</th>\n",
       "      <th>IsDoubleGlaze</th>\n",
       "      <th>HasBalcony</th>\n",
       "      <th>HasGarden</th>\n",
       "      <th>GardenArea</th>\n",
       "      <th>KitchenType</th>\n",
       "      <th>LivingRoomArea</th>\n",
       "    </tr>\n",
       "  </thead>\n",
       "  <tbody>\n",
       "    <tr>\n",
       "      <th>0</th>\n",
       "      <td>10128188</td>\n",
       "      <td>HOUSE</td>\n",
       "      <td>HOUSE</td>\n",
       "      <td>328330.0</td>\n",
       "      <td>148.0</td>\n",
       "      <td>3.0</td>\n",
       "      <td>Limburg</td>\n",
       "      <td>Zonhoven</td>\n",
       "      <td>Flanders</td>\n",
       "      <td>3520</td>\n",
       "      <td>...</td>\n",
       "      <td>3.0</td>\n",
       "      <td>NaN</td>\n",
       "      <td>NaN</td>\n",
       "      <td>NaN</td>\n",
       "      <td>1.0</td>\n",
       "      <td>NaN</td>\n",
       "      <td>1.0</td>\n",
       "      <td>347.0</td>\n",
       "      <td>NaN</td>\n",
       "      <td>NaN</td>\n",
       "    </tr>\n",
       "    <tr>\n",
       "      <th>1</th>\n",
       "      <td>10128189</td>\n",
       "      <td>HOUSE</td>\n",
       "      <td>HOUSE</td>\n",
       "      <td>328330.0</td>\n",
       "      <td>148.0</td>\n",
       "      <td>3.0</td>\n",
       "      <td>Limburg</td>\n",
       "      <td>Zonhoven</td>\n",
       "      <td>Flanders</td>\n",
       "      <td>3520</td>\n",
       "      <td>...</td>\n",
       "      <td>3.0</td>\n",
       "      <td>NaN</td>\n",
       "      <td>NaN</td>\n",
       "      <td>NaN</td>\n",
       "      <td>1.0</td>\n",
       "      <td>NaN</td>\n",
       "      <td>1.0</td>\n",
       "      <td>347.0</td>\n",
       "      <td>NaN</td>\n",
       "      <td>NaN</td>\n",
       "    </tr>\n",
       "    <tr>\n",
       "      <th>2</th>\n",
       "      <td>10128190</td>\n",
       "      <td>HOUSE</td>\n",
       "      <td>HOUSE</td>\n",
       "      <td>327829.0</td>\n",
       "      <td>148.0</td>\n",
       "      <td>3.0</td>\n",
       "      <td>Limburg</td>\n",
       "      <td>Zonhoven</td>\n",
       "      <td>Flanders</td>\n",
       "      <td>3520</td>\n",
       "      <td>...</td>\n",
       "      <td>3.0</td>\n",
       "      <td>NaN</td>\n",
       "      <td>NaN</td>\n",
       "      <td>NaN</td>\n",
       "      <td>1.0</td>\n",
       "      <td>NaN</td>\n",
       "      <td>1.0</td>\n",
       "      <td>346.0</td>\n",
       "      <td>NaN</td>\n",
       "      <td>NaN</td>\n",
       "    </tr>\n",
       "    <tr>\n",
       "      <th>3</th>\n",
       "      <td>10128191</td>\n",
       "      <td>HOUSE</td>\n",
       "      <td>HOUSE</td>\n",
       "      <td>327829.0</td>\n",
       "      <td>148.0</td>\n",
       "      <td>3.0</td>\n",
       "      <td>Limburg</td>\n",
       "      <td>Zonhoven</td>\n",
       "      <td>Flanders</td>\n",
       "      <td>3520</td>\n",
       "      <td>...</td>\n",
       "      <td>3.0</td>\n",
       "      <td>NaN</td>\n",
       "      <td>NaN</td>\n",
       "      <td>NaN</td>\n",
       "      <td>1.0</td>\n",
       "      <td>NaN</td>\n",
       "      <td>1.0</td>\n",
       "      <td>346.0</td>\n",
       "      <td>NaN</td>\n",
       "      <td>NaN</td>\n",
       "    </tr>\n",
       "    <tr>\n",
       "      <th>4</th>\n",
       "      <td>10128192</td>\n",
       "      <td>HOUSE</td>\n",
       "      <td>HOUSE</td>\n",
       "      <td>378242.0</td>\n",
       "      <td>148.0</td>\n",
       "      <td>3.0</td>\n",
       "      <td>Limburg</td>\n",
       "      <td>Zonhoven</td>\n",
       "      <td>Flanders</td>\n",
       "      <td>3520</td>\n",
       "      <td>...</td>\n",
       "      <td>4.0</td>\n",
       "      <td>NaN</td>\n",
       "      <td>NaN</td>\n",
       "      <td>NaN</td>\n",
       "      <td>1.0</td>\n",
       "      <td>NaN</td>\n",
       "      <td>1.0</td>\n",
       "      <td>589.0</td>\n",
       "      <td>NaN</td>\n",
       "      <td>NaN</td>\n",
       "    </tr>\n",
       "    <tr>\n",
       "      <th>5</th>\n",
       "      <td>10128193</td>\n",
       "      <td>HOUSE</td>\n",
       "      <td>HOUSE</td>\n",
       "      <td>1295000.0</td>\n",
       "      <td>650.0</td>\n",
       "      <td>5.0</td>\n",
       "      <td>Antwerp</td>\n",
       "      <td>Berlaar</td>\n",
       "      <td>Flanders</td>\n",
       "      <td>2590</td>\n",
       "      <td>...</td>\n",
       "      <td>3.0</td>\n",
       "      <td>NaN</td>\n",
       "      <td>NON_FLOOD_ZONE</td>\n",
       "      <td>GAS</td>\n",
       "      <td>1.0</td>\n",
       "      <td>NaN</td>\n",
       "      <td>NaN</td>\n",
       "      <td>NaN</td>\n",
       "      <td>INSTALLED</td>\n",
       "      <td>NaN</td>\n",
       "    </tr>\n",
       "    <tr>\n",
       "      <th>6</th>\n",
       "      <td>10128195</td>\n",
       "      <td>HOUSE</td>\n",
       "      <td>HOUSE</td>\n",
       "      <td>442000.0</td>\n",
       "      <td>221.0</td>\n",
       "      <td>4.0</td>\n",
       "      <td>Antwerp</td>\n",
       "      <td>Merksplas</td>\n",
       "      <td>Flanders</td>\n",
       "      <td>2330</td>\n",
       "      <td>...</td>\n",
       "      <td>4.0</td>\n",
       "      <td>NaN</td>\n",
       "      <td>NaN</td>\n",
       "      <td>ELECTRIC</td>\n",
       "      <td>NaN</td>\n",
       "      <td>NaN</td>\n",
       "      <td>NaN</td>\n",
       "      <td>NaN</td>\n",
       "      <td>NaN</td>\n",
       "      <td>NaN</td>\n",
       "    </tr>\n",
       "    <tr>\n",
       "      <th>7</th>\n",
       "      <td>10128196</td>\n",
       "      <td>HOUSE</td>\n",
       "      <td>MIXED_USE_BUILDING</td>\n",
       "      <td>590000.0</td>\n",
       "      <td>1100.0</td>\n",
       "      <td>3.0</td>\n",
       "      <td>Liège</td>\n",
       "      <td>Liege</td>\n",
       "      <td>Wallonie</td>\n",
       "      <td>4020</td>\n",
       "      <td>...</td>\n",
       "      <td>3.0</td>\n",
       "      <td>NaN</td>\n",
       "      <td>NaN</td>\n",
       "      <td>GAS</td>\n",
       "      <td>1.0</td>\n",
       "      <td>NaN</td>\n",
       "      <td>NaN</td>\n",
       "      <td>NaN</td>\n",
       "      <td>HYPER_EQUIPPED</td>\n",
       "      <td>18.0</td>\n",
       "    </tr>\n",
       "    <tr>\n",
       "      <th>8</th>\n",
       "      <td>10128197</td>\n",
       "      <td>APARTMENT</td>\n",
       "      <td>APARTMENT</td>\n",
       "      <td>249000.0</td>\n",
       "      <td>145.0</td>\n",
       "      <td>2.0</td>\n",
       "      <td>Liège</td>\n",
       "      <td>Flemalle</td>\n",
       "      <td>Wallonie</td>\n",
       "      <td>4400</td>\n",
       "      <td>...</td>\n",
       "      <td>3.0</td>\n",
       "      <td>1.0</td>\n",
       "      <td>NaN</td>\n",
       "      <td>NaN</td>\n",
       "      <td>1.0</td>\n",
       "      <td>NaN</td>\n",
       "      <td>NaN</td>\n",
       "      <td>NaN</td>\n",
       "      <td>NaN</td>\n",
       "      <td>NaN</td>\n",
       "    </tr>\n",
       "    <tr>\n",
       "      <th>9</th>\n",
       "      <td>10128198</td>\n",
       "      <td>APARTMENT</td>\n",
       "      <td>PENTHOUSE</td>\n",
       "      <td>249000.0</td>\n",
       "      <td>135.0</td>\n",
       "      <td>2.0</td>\n",
       "      <td>Liège</td>\n",
       "      <td>Flemalle</td>\n",
       "      <td>Wallonie</td>\n",
       "      <td>4400</td>\n",
       "      <td>...</td>\n",
       "      <td>3.0</td>\n",
       "      <td>1.0</td>\n",
       "      <td>NaN</td>\n",
       "      <td>NaN</td>\n",
       "      <td>1.0</td>\n",
       "      <td>NaN</td>\n",
       "      <td>NaN</td>\n",
       "      <td>NaN</td>\n",
       "      <td>NaN</td>\n",
       "      <td>NaN</td>\n",
       "    </tr>\n",
       "    <tr>\n",
       "      <th>10</th>\n",
       "      <td>10128203</td>\n",
       "      <td>HOUSE</td>\n",
       "      <td>HOUSE</td>\n",
       "      <td>315000.0</td>\n",
       "      <td>156.0</td>\n",
       "      <td>4.0</td>\n",
       "      <td>Limburg</td>\n",
       "      <td>Dilsen-Stokkem</td>\n",
       "      <td>Flanders</td>\n",
       "      <td>3650</td>\n",
       "      <td>...</td>\n",
       "      <td>4.0</td>\n",
       "      <td>NaN</td>\n",
       "      <td>NON_FLOOD_ZONE</td>\n",
       "      <td>GAS</td>\n",
       "      <td>NaN</td>\n",
       "      <td>NaN</td>\n",
       "      <td>NaN</td>\n",
       "      <td>NaN</td>\n",
       "      <td>NaN</td>\n",
       "      <td>NaN</td>\n",
       "    </tr>\n",
       "    <tr>\n",
       "      <th>11</th>\n",
       "      <td>10128205</td>\n",
       "      <td>APARTMENT</td>\n",
       "      <td>FLAT_STUDIO</td>\n",
       "      <td>220000.0</td>\n",
       "      <td>58.0</td>\n",
       "      <td>NaN</td>\n",
       "      <td>Brussels</td>\n",
       "      <td>Anderlecht</td>\n",
       "      <td>Brussels</td>\n",
       "      <td>1070</td>\n",
       "      <td>...</td>\n",
       "      <td>NaN</td>\n",
       "      <td>1.0</td>\n",
       "      <td>NaN</td>\n",
       "      <td>GAS</td>\n",
       "      <td>1.0</td>\n",
       "      <td>NaN</td>\n",
       "      <td>NaN</td>\n",
       "      <td>NaN</td>\n",
       "      <td>USA_HYPER_EQUIPPED</td>\n",
       "      <td>NaN</td>\n",
       "    </tr>\n",
       "    <tr>\n",
       "      <th>12</th>\n",
       "      <td>10128207</td>\n",
       "      <td>APARTMENT</td>\n",
       "      <td>APARTMENT</td>\n",
       "      <td>350000.0</td>\n",
       "      <td>65.0</td>\n",
       "      <td>1.0</td>\n",
       "      <td>Brussels</td>\n",
       "      <td>Bruxelles</td>\n",
       "      <td>Brussels</td>\n",
       "      <td>1000</td>\n",
       "      <td>...</td>\n",
       "      <td>2.0</td>\n",
       "      <td>1.0</td>\n",
       "      <td>NaN</td>\n",
       "      <td>GAS</td>\n",
       "      <td>1.0</td>\n",
       "      <td>NaN</td>\n",
       "      <td>NaN</td>\n",
       "      <td>NaN</td>\n",
       "      <td>USA_HYPER_EQUIPPED</td>\n",
       "      <td>NaN</td>\n",
       "    </tr>\n",
       "    <tr>\n",
       "      <th>13</th>\n",
       "      <td>10128208</td>\n",
       "      <td>HOUSE</td>\n",
       "      <td>HOUSE</td>\n",
       "      <td>143000.0</td>\n",
       "      <td>85.0</td>\n",
       "      <td>2.0</td>\n",
       "      <td>East Flanders</td>\n",
       "      <td>Brakel</td>\n",
       "      <td>Flanders</td>\n",
       "      <td>9660</td>\n",
       "      <td>...</td>\n",
       "      <td>2.0</td>\n",
       "      <td>NaN</td>\n",
       "      <td>POSSIBLE_FLOOD_ZONE</td>\n",
       "      <td>GAS</td>\n",
       "      <td>1.0</td>\n",
       "      <td>NaN</td>\n",
       "      <td>NaN</td>\n",
       "      <td>NaN</td>\n",
       "      <td>INSTALLED</td>\n",
       "      <td>NaN</td>\n",
       "    </tr>\n",
       "    <tr>\n",
       "      <th>14</th>\n",
       "      <td>10128209</td>\n",
       "      <td>HOUSE</td>\n",
       "      <td>HOUSE</td>\n",
       "      <td>59000.0</td>\n",
       "      <td>69.0</td>\n",
       "      <td>2.0</td>\n",
       "      <td>Namur</td>\n",
       "      <td>Andenne</td>\n",
       "      <td>Wallonie</td>\n",
       "      <td>5300</td>\n",
       "      <td>...</td>\n",
       "      <td>2.0</td>\n",
       "      <td>NaN</td>\n",
       "      <td>NaN</td>\n",
       "      <td>NaN</td>\n",
       "      <td>NaN</td>\n",
       "      <td>NaN</td>\n",
       "      <td>NaN</td>\n",
       "      <td>NaN</td>\n",
       "      <td>NOT_INSTALLED</td>\n",
       "      <td>NaN</td>\n",
       "    </tr>\n",
       "    <tr>\n",
       "      <th>15</th>\n",
       "      <td>10128211</td>\n",
       "      <td>APARTMENT</td>\n",
       "      <td>APARTMENT</td>\n",
       "      <td>390000.0</td>\n",
       "      <td>165.0</td>\n",
       "      <td>3.0</td>\n",
       "      <td>Antwerp</td>\n",
       "      <td>Antwerp</td>\n",
       "      <td>Flanders</td>\n",
       "      <td>2018</td>\n",
       "      <td>...</td>\n",
       "      <td>2.0</td>\n",
       "      <td>1.0</td>\n",
       "      <td>NON_FLOOD_ZONE</td>\n",
       "      <td>FUELOIL</td>\n",
       "      <td>1.0</td>\n",
       "      <td>NaN</td>\n",
       "      <td>NaN</td>\n",
       "      <td>NaN</td>\n",
       "      <td>HYPER_EQUIPPED</td>\n",
       "      <td>NaN</td>\n",
       "    </tr>\n",
       "    <tr>\n",
       "      <th>16</th>\n",
       "      <td>10128212</td>\n",
       "      <td>APARTMENT</td>\n",
       "      <td>APARTMENT</td>\n",
       "      <td>132500.0</td>\n",
       "      <td>69.0</td>\n",
       "      <td>2.0</td>\n",
       "      <td>NaN</td>\n",
       "      <td>alhama de murcia</td>\n",
       "      <td>NaN</td>\n",
       "      <td>30840</td>\n",
       "      <td>...</td>\n",
       "      <td>3.0</td>\n",
       "      <td>NaN</td>\n",
       "      <td>NaN</td>\n",
       "      <td>NaN</td>\n",
       "      <td>NaN</td>\n",
       "      <td>NaN</td>\n",
       "      <td>NaN</td>\n",
       "      <td>NaN</td>\n",
       "      <td>NaN</td>\n",
       "      <td>NaN</td>\n",
       "    </tr>\n",
       "    <tr>\n",
       "      <th>17</th>\n",
       "      <td>10128213</td>\n",
       "      <td>APARTMENT</td>\n",
       "      <td>APARTMENT</td>\n",
       "      <td>229000.0</td>\n",
       "      <td>60.0</td>\n",
       "      <td>2.0</td>\n",
       "      <td>NaN</td>\n",
       "      <td>pilar de la horadada</td>\n",
       "      <td>NaN</td>\n",
       "      <td>03190</td>\n",
       "      <td>...</td>\n",
       "      <td>2.0</td>\n",
       "      <td>NaN</td>\n",
       "      <td>NaN</td>\n",
       "      <td>NaN</td>\n",
       "      <td>NaN</td>\n",
       "      <td>NaN</td>\n",
       "      <td>NaN</td>\n",
       "      <td>NaN</td>\n",
       "      <td>NaN</td>\n",
       "      <td>NaN</td>\n",
       "    </tr>\n",
       "    <tr>\n",
       "      <th>18</th>\n",
       "      <td>10128216</td>\n",
       "      <td>HOUSE</td>\n",
       "      <td>CHALET</td>\n",
       "      <td>215900.0</td>\n",
       "      <td>68.0</td>\n",
       "      <td>2.0</td>\n",
       "      <td>NaN</td>\n",
       "      <td>pilar de la horadada</td>\n",
       "      <td>NaN</td>\n",
       "      <td>03190</td>\n",
       "      <td>...</td>\n",
       "      <td>4.0</td>\n",
       "      <td>NaN</td>\n",
       "      <td>NaN</td>\n",
       "      <td>NaN</td>\n",
       "      <td>NaN</td>\n",
       "      <td>NaN</td>\n",
       "      <td>NaN</td>\n",
       "      <td>NaN</td>\n",
       "      <td>NaN</td>\n",
       "      <td>NaN</td>\n",
       "    </tr>\n",
       "    <tr>\n",
       "      <th>19</th>\n",
       "      <td>10128218</td>\n",
       "      <td>HOUSE</td>\n",
       "      <td>CHALET</td>\n",
       "      <td>329900.0</td>\n",
       "      <td>117.0</td>\n",
       "      <td>3.0</td>\n",
       "      <td>NaN</td>\n",
       "      <td>pilar de la horadada</td>\n",
       "      <td>NaN</td>\n",
       "      <td>03190</td>\n",
       "      <td>...</td>\n",
       "      <td>4.0</td>\n",
       "      <td>NaN</td>\n",
       "      <td>NaN</td>\n",
       "      <td>NaN</td>\n",
       "      <td>NaN</td>\n",
       "      <td>NaN</td>\n",
       "      <td>NaN</td>\n",
       "      <td>NaN</td>\n",
       "      <td>NaN</td>\n",
       "      <td>NaN</td>\n",
       "    </tr>\n",
       "  </tbody>\n",
       "</table>\n",
       "<p>20 rows × 35 columns</p>\n",
       "</div>"
      ],
      "text/plain": [
       "          ID       Type             SubType      Price  \\\n",
       "0   10128188      HOUSE               HOUSE   328330.0   \n",
       "1   10128189      HOUSE               HOUSE   328330.0   \n",
       "2   10128190      HOUSE               HOUSE   327829.0   \n",
       "3   10128191      HOUSE               HOUSE   327829.0   \n",
       "4   10128192      HOUSE               HOUSE   378242.0   \n",
       "5   10128193      HOUSE               HOUSE  1295000.0   \n",
       "6   10128195      HOUSE               HOUSE   442000.0   \n",
       "7   10128196      HOUSE  MIXED_USE_BUILDING   590000.0   \n",
       "8   10128197  APARTMENT           APARTMENT   249000.0   \n",
       "9   10128198  APARTMENT           PENTHOUSE   249000.0   \n",
       "10  10128203      HOUSE               HOUSE   315000.0   \n",
       "11  10128205  APARTMENT         FLAT_STUDIO   220000.0   \n",
       "12  10128207  APARTMENT           APARTMENT   350000.0   \n",
       "13  10128208      HOUSE               HOUSE   143000.0   \n",
       "14  10128209      HOUSE               HOUSE    59000.0   \n",
       "15  10128211  APARTMENT           APARTMENT   390000.0   \n",
       "16  10128212  APARTMENT           APARTMENT   132500.0   \n",
       "17  10128213  APARTMENT           APARTMENT   229000.0   \n",
       "18  10128216      HOUSE              CHALET   215900.0   \n",
       "19  10128218      HOUSE              CHALET   329900.0   \n",
       "\n",
       "    NetHabitableSurface(msq)  BedroomCount       Province  \\\n",
       "0                      148.0           3.0        Limburg   \n",
       "1                      148.0           3.0        Limburg   \n",
       "2                      148.0           3.0        Limburg   \n",
       "3                      148.0           3.0        Limburg   \n",
       "4                      148.0           3.0        Limburg   \n",
       "5                      650.0           5.0        Antwerp   \n",
       "6                      221.0           4.0        Antwerp   \n",
       "7                     1100.0           3.0          Liège   \n",
       "8                      145.0           2.0          Liège   \n",
       "9                      135.0           2.0          Liège   \n",
       "10                     156.0           4.0        Limburg   \n",
       "11                      58.0           NaN       Brussels   \n",
       "12                      65.0           1.0       Brussels   \n",
       "13                      85.0           2.0  East Flanders   \n",
       "14                      69.0           2.0          Namur   \n",
       "15                     165.0           3.0        Antwerp   \n",
       "16                      69.0           2.0            NaN   \n",
       "17                      60.0           2.0            NaN   \n",
       "18                      68.0           2.0            NaN   \n",
       "19                     117.0           3.0            NaN   \n",
       "\n",
       "                Locality    Region PostCode  ... FacadeCount  HasLift  \\\n",
       "0               Zonhoven  Flanders     3520  ...         3.0      NaN   \n",
       "1               Zonhoven  Flanders     3520  ...         3.0      NaN   \n",
       "2               Zonhoven  Flanders     3520  ...         3.0      NaN   \n",
       "3               Zonhoven  Flanders     3520  ...         3.0      NaN   \n",
       "4               Zonhoven  Flanders     3520  ...         4.0      NaN   \n",
       "5                Berlaar  Flanders     2590  ...         3.0      NaN   \n",
       "6              Merksplas  Flanders     2330  ...         4.0      NaN   \n",
       "7                  Liege  Wallonie     4020  ...         3.0      NaN   \n",
       "8               Flemalle  Wallonie     4400  ...         3.0      1.0   \n",
       "9               Flemalle  Wallonie     4400  ...         3.0      1.0   \n",
       "10        Dilsen-Stokkem  Flanders     3650  ...         4.0      NaN   \n",
       "11            Anderlecht  Brussels     1070  ...         NaN      1.0   \n",
       "12             Bruxelles  Brussels     1000  ...         2.0      1.0   \n",
       "13                Brakel  Flanders     9660  ...         2.0      NaN   \n",
       "14               Andenne  Wallonie     5300  ...         2.0      NaN   \n",
       "15               Antwerp  Flanders     2018  ...         2.0      1.0   \n",
       "16      alhama de murcia       NaN    30840  ...         3.0      NaN   \n",
       "17  pilar de la horadada       NaN    03190  ...         2.0      NaN   \n",
       "18  pilar de la horadada       NaN    03190  ...         4.0      NaN   \n",
       "19  pilar de la horadada       NaN    03190  ...         4.0      NaN   \n",
       "\n",
       "          FloodZoneType HeatingType  IsDoubleGlaze  HasBalcony  HasGarden  \\\n",
       "0                   NaN         NaN            1.0         NaN        1.0   \n",
       "1                   NaN         NaN            1.0         NaN        1.0   \n",
       "2                   NaN         NaN            1.0         NaN        1.0   \n",
       "3                   NaN         NaN            1.0         NaN        1.0   \n",
       "4                   NaN         NaN            1.0         NaN        1.0   \n",
       "5        NON_FLOOD_ZONE         GAS            1.0         NaN        NaN   \n",
       "6                   NaN    ELECTRIC            NaN         NaN        NaN   \n",
       "7                   NaN         GAS            1.0         NaN        NaN   \n",
       "8                   NaN         NaN            1.0         NaN        NaN   \n",
       "9                   NaN         NaN            1.0         NaN        NaN   \n",
       "10       NON_FLOOD_ZONE         GAS            NaN         NaN        NaN   \n",
       "11                  NaN         GAS            1.0         NaN        NaN   \n",
       "12                  NaN         GAS            1.0         NaN        NaN   \n",
       "13  POSSIBLE_FLOOD_ZONE         GAS            1.0         NaN        NaN   \n",
       "14                  NaN         NaN            NaN         NaN        NaN   \n",
       "15       NON_FLOOD_ZONE     FUELOIL            1.0         NaN        NaN   \n",
       "16                  NaN         NaN            NaN         NaN        NaN   \n",
       "17                  NaN         NaN            NaN         NaN        NaN   \n",
       "18                  NaN         NaN            NaN         NaN        NaN   \n",
       "19                  NaN         NaN            NaN         NaN        NaN   \n",
       "\n",
       "    GardenArea         KitchenType  LivingRoomArea  \n",
       "0        347.0                 NaN             NaN  \n",
       "1        347.0                 NaN             NaN  \n",
       "2        346.0                 NaN             NaN  \n",
       "3        346.0                 NaN             NaN  \n",
       "4        589.0                 NaN             NaN  \n",
       "5          NaN           INSTALLED             NaN  \n",
       "6          NaN                 NaN             NaN  \n",
       "7          NaN      HYPER_EQUIPPED            18.0  \n",
       "8          NaN                 NaN             NaN  \n",
       "9          NaN                 NaN             NaN  \n",
       "10         NaN                 NaN             NaN  \n",
       "11         NaN  USA_HYPER_EQUIPPED             NaN  \n",
       "12         NaN  USA_HYPER_EQUIPPED             NaN  \n",
       "13         NaN           INSTALLED             NaN  \n",
       "14         NaN       NOT_INSTALLED             NaN  \n",
       "15         NaN      HYPER_EQUIPPED             NaN  \n",
       "16         NaN                 NaN             NaN  \n",
       "17         NaN                 NaN             NaN  \n",
       "18         NaN                 NaN             NaN  \n",
       "19         NaN                 NaN             NaN  \n",
       "\n",
       "[20 rows x 35 columns]"
      ]
     },
     "execution_count": 260,
     "metadata": {},
     "output_type": "execute_result"
    }
   ],
   "source": [
    "# Replace empty cells of the \"Price\" column by NaN\n",
    "df['Price'].replace('', np.nan, inplace=True)\n",
    "df.head(20)"
   ]
  },
  {
   "cell_type": "markdown",
   "metadata": {},
   "source": [
    "## 6. cleaning in the \"Price\" column "
   ]
  },
  {
   "cell_type": "code",
   "execution_count": 261,
   "metadata": {},
   "outputs": [
    {
     "data": {
      "text/plain": [
       "(18211, 35)"
      ]
     },
     "execution_count": 261,
     "metadata": {},
     "output_type": "execute_result"
    }
   ],
   "source": [
    "# drop the rows for those with empty price\n",
    "df.dropna(subset=['Price'], inplace=True)\n",
    "df.shape"
   ]
  },
  {
   "cell_type": "code",
   "execution_count": 262,
   "metadata": {},
   "outputs": [
    {
     "name": "stdout",
     "output_type": "stream",
     "text": [
      "1457 of 21047  data collected has no price\n",
      " Now we have data for 18211  proprties in Belgium \n"
     ]
    }
   ],
   "source": [
    "print(f'{size_after_removing_duplicates[0]-df.shape[0]} of {initial_size[0]}  data collected has no price' )\n",
    "print(f' Now we have data for {df.shape[0]}  proprties in Belgium ')"
   ]
  },
  {
   "cell_type": "code",
   "execution_count": 263,
   "metadata": {},
   "outputs": [
    {
     "data": {
      "text/plain": [
       "count    0.0\n",
       "mean     NaN\n",
       "std      NaN\n",
       "min      NaN\n",
       "25%      NaN\n",
       "50%      NaN\n",
       "75%      NaN\n",
       "max      NaN\n",
       "Name: HasBalcony, dtype: float64"
      ]
     },
     "execution_count": 263,
     "metadata": {},
     "output_type": "execute_result"
    }
   ],
   "source": [
    "# to be deleted\n",
    "df[\"HasBalcony\"].describe()"
   ]
  },
  {
   "cell_type": "code",
   "execution_count": 264,
   "metadata": {},
   "outputs": [
    {
     "data": {
      "text/html": [
       "<div>\n",
       "<style scoped>\n",
       "    .dataframe tbody tr th:only-of-type {\n",
       "        vertical-align: middle;\n",
       "    }\n",
       "\n",
       "    .dataframe tbody tr th {\n",
       "        vertical-align: top;\n",
       "    }\n",
       "\n",
       "    .dataframe thead th {\n",
       "        text-align: right;\n",
       "    }\n",
       "</style>\n",
       "<table border=\"1\" class=\"dataframe\">\n",
       "  <thead>\n",
       "    <tr style=\"text-align: right;\">\n",
       "      <th></th>\n",
       "      <th>ID</th>\n",
       "      <th>Price</th>\n",
       "      <th>NetHabitableSurface(msq)</th>\n",
       "      <th>BedroomCount</th>\n",
       "      <th>Floor</th>\n",
       "      <th>HasSeaView</th>\n",
       "      <th>SchoolDistance</th>\n",
       "      <th>ShopDistance</th>\n",
       "      <th>TransportDistance</th>\n",
       "      <th>NetHabitableSurface</th>\n",
       "      <th>...</th>\n",
       "      <th>HasBasement</th>\n",
       "      <th>HasDiningRoom</th>\n",
       "      <th>ConstructionYear</th>\n",
       "      <th>FacadeCount</th>\n",
       "      <th>HasLift</th>\n",
       "      <th>IsDoubleGlaze</th>\n",
       "      <th>HasBalcony</th>\n",
       "      <th>HasGarden</th>\n",
       "      <th>GardenArea</th>\n",
       "      <th>LivingRoomArea</th>\n",
       "    </tr>\n",
       "  </thead>\n",
       "  <tbody>\n",
       "    <tr>\n",
       "      <th>count</th>\n",
       "      <td>1.821100e+04</td>\n",
       "      <td>1.821100e+04</td>\n",
       "      <td>15550.000000</td>\n",
       "      <td>17810.000000</td>\n",
       "      <td>5277.000000</td>\n",
       "      <td>12.0</td>\n",
       "      <td>14458.000000</td>\n",
       "      <td>14458.000000</td>\n",
       "      <td>14458.000000</td>\n",
       "      <td>15550.000000</td>\n",
       "      <td>...</td>\n",
       "      <td>7254.0</td>\n",
       "      <td>3099.0</td>\n",
       "      <td>10277.000000</td>\n",
       "      <td>12258.000000</td>\n",
       "      <td>4326.0</td>\n",
       "      <td>11814.0</td>\n",
       "      <td>0.0</td>\n",
       "      <td>5935.0</td>\n",
       "      <td>3520.000000</td>\n",
       "      <td>5811.000000</td>\n",
       "    </tr>\n",
       "    <tr>\n",
       "      <th>mean</th>\n",
       "      <td>1.014851e+07</td>\n",
       "      <td>3.958509e+05</td>\n",
       "      <td>163.420900</td>\n",
       "      <td>3.050646</td>\n",
       "      <td>3.149896</td>\n",
       "      <td>1.0</td>\n",
       "      <td>107.950339</td>\n",
       "      <td>100.495020</td>\n",
       "      <td>26.413266</td>\n",
       "      <td>163.420900</td>\n",
       "      <td>...</td>\n",
       "      <td>1.0</td>\n",
       "      <td>1.0</td>\n",
       "      <td>1981.681425</td>\n",
       "      <td>2.777125</td>\n",
       "      <td>1.0</td>\n",
       "      <td>1.0</td>\n",
       "      <td>NaN</td>\n",
       "      <td>1.0</td>\n",
       "      <td>641.649716</td>\n",
       "      <td>14.961452</td>\n",
       "    </tr>\n",
       "    <tr>\n",
       "      <th>std</th>\n",
       "      <td>1.194431e+04</td>\n",
       "      <td>4.070204e+05</td>\n",
       "      <td>193.691889</td>\n",
       "      <td>14.453556</td>\n",
       "      <td>19.777805</td>\n",
       "      <td>0.0</td>\n",
       "      <td>368.895605</td>\n",
       "      <td>602.382276</td>\n",
       "      <td>123.721231</td>\n",
       "      <td>193.691889</td>\n",
       "      <td>...</td>\n",
       "      <td>0.0</td>\n",
       "      <td>0.0</td>\n",
       "      <td>88.244062</td>\n",
       "      <td>0.866607</td>\n",
       "      <td>0.0</td>\n",
       "      <td>0.0</td>\n",
       "      <td>NaN</td>\n",
       "      <td>0.0</td>\n",
       "      <td>3047.464076</td>\n",
       "      <td>43.223104</td>\n",
       "    </tr>\n",
       "    <tr>\n",
       "      <th>min</th>\n",
       "      <td>1.012819e+07</td>\n",
       "      <td>1.385000e+03</td>\n",
       "      <td>11.000000</td>\n",
       "      <td>1.000000</td>\n",
       "      <td>1.000000</td>\n",
       "      <td>1.0</td>\n",
       "      <td>0.000000</td>\n",
       "      <td>0.000000</td>\n",
       "      <td>0.000000</td>\n",
       "      <td>11.000000</td>\n",
       "      <td>...</td>\n",
       "      <td>1.0</td>\n",
       "      <td>1.0</td>\n",
       "      <td>1753.000000</td>\n",
       "      <td>1.000000</td>\n",
       "      <td>1.0</td>\n",
       "      <td>1.0</td>\n",
       "      <td>NaN</td>\n",
       "      <td>1.0</td>\n",
       "      <td>1.000000</td>\n",
       "      <td>1.000000</td>\n",
       "    </tr>\n",
       "    <tr>\n",
       "      <th>25%</th>\n",
       "      <td>1.013834e+07</td>\n",
       "      <td>2.300000e+05</td>\n",
       "      <td>94.000000</td>\n",
       "      <td>2.000000</td>\n",
       "      <td>1.000000</td>\n",
       "      <td>1.0</td>\n",
       "      <td>0.000000</td>\n",
       "      <td>0.000000</td>\n",
       "      <td>0.000000</td>\n",
       "      <td>94.000000</td>\n",
       "      <td>...</td>\n",
       "      <td>1.0</td>\n",
       "      <td>1.0</td>\n",
       "      <td>1960.000000</td>\n",
       "      <td>2.000000</td>\n",
       "      <td>1.0</td>\n",
       "      <td>1.0</td>\n",
       "      <td>NaN</td>\n",
       "      <td>1.0</td>\n",
       "      <td>60.000000</td>\n",
       "      <td>9.000000</td>\n",
       "    </tr>\n",
       "    <tr>\n",
       "      <th>50%</th>\n",
       "      <td>1.014813e+07</td>\n",
       "      <td>3.150000e+05</td>\n",
       "      <td>134.000000</td>\n",
       "      <td>3.000000</td>\n",
       "      <td>2.000000</td>\n",
       "      <td>1.0</td>\n",
       "      <td>0.000000</td>\n",
       "      <td>0.000000</td>\n",
       "      <td>0.000000</td>\n",
       "      <td>134.000000</td>\n",
       "      <td>...</td>\n",
       "      <td>1.0</td>\n",
       "      <td>1.0</td>\n",
       "      <td>1983.000000</td>\n",
       "      <td>3.000000</td>\n",
       "      <td>1.0</td>\n",
       "      <td>1.0</td>\n",
       "      <td>NaN</td>\n",
       "      <td>1.0</td>\n",
       "      <td>160.000000</td>\n",
       "      <td>12.000000</td>\n",
       "    </tr>\n",
       "    <tr>\n",
       "      <th>75%</th>\n",
       "      <td>1.015795e+07</td>\n",
       "      <td>4.438875e+05</td>\n",
       "      <td>190.750000</td>\n",
       "      <td>3.000000</td>\n",
       "      <td>3.000000</td>\n",
       "      <td>1.0</td>\n",
       "      <td>0.000000</td>\n",
       "      <td>0.000000</td>\n",
       "      <td>0.000000</td>\n",
       "      <td>190.750000</td>\n",
       "      <td>...</td>\n",
       "      <td>1.0</td>\n",
       "      <td>1.0</td>\n",
       "      <td>2020.000000</td>\n",
       "      <td>4.000000</td>\n",
       "      <td>1.0</td>\n",
       "      <td>1.0</td>\n",
       "      <td>NaN</td>\n",
       "      <td>1.0</td>\n",
       "      <td>500.000000</td>\n",
       "      <td>16.000000</td>\n",
       "    </tr>\n",
       "    <tr>\n",
       "      <th>max</th>\n",
       "      <td>1.016892e+07</td>\n",
       "      <td>2.965000e+07</td>\n",
       "      <td>17842.000000</td>\n",
       "      <td>1919.000000</td>\n",
       "      <td>999.000000</td>\n",
       "      <td>1.0</td>\n",
       "      <td>9000.000000</td>\n",
       "      <td>15000.000000</td>\n",
       "      <td>3700.000000</td>\n",
       "      <td>17842.000000</td>\n",
       "      <td>...</td>\n",
       "      <td>1.0</td>\n",
       "      <td>1.0</td>\n",
       "      <td>9999.000000</td>\n",
       "      <td>8.000000</td>\n",
       "      <td>1.0</td>\n",
       "      <td>1.0</td>\n",
       "      <td>NaN</td>\n",
       "      <td>1.0</td>\n",
       "      <td>87000.000000</td>\n",
       "      <td>2153.000000</td>\n",
       "    </tr>\n",
       "  </tbody>\n",
       "</table>\n",
       "<p>8 rows × 22 columns</p>\n",
       "</div>"
      ],
      "text/plain": [
       "                 ID         Price  NetHabitableSurface(msq)  BedroomCount  \\\n",
       "count  1.821100e+04  1.821100e+04              15550.000000  17810.000000   \n",
       "mean   1.014851e+07  3.958509e+05                163.420900      3.050646   \n",
       "std    1.194431e+04  4.070204e+05                193.691889     14.453556   \n",
       "min    1.012819e+07  1.385000e+03                 11.000000      1.000000   \n",
       "25%    1.013834e+07  2.300000e+05                 94.000000      2.000000   \n",
       "50%    1.014813e+07  3.150000e+05                134.000000      3.000000   \n",
       "75%    1.015795e+07  4.438875e+05                190.750000      3.000000   \n",
       "max    1.016892e+07  2.965000e+07              17842.000000   1919.000000   \n",
       "\n",
       "             Floor  HasSeaView  SchoolDistance  ShopDistance  \\\n",
       "count  5277.000000        12.0    14458.000000  14458.000000   \n",
       "mean      3.149896         1.0      107.950339    100.495020   \n",
       "std      19.777805         0.0      368.895605    602.382276   \n",
       "min       1.000000         1.0        0.000000      0.000000   \n",
       "25%       1.000000         1.0        0.000000      0.000000   \n",
       "50%       2.000000         1.0        0.000000      0.000000   \n",
       "75%       3.000000         1.0        0.000000      0.000000   \n",
       "max     999.000000         1.0     9000.000000  15000.000000   \n",
       "\n",
       "       TransportDistance  NetHabitableSurface  ...  HasBasement  \\\n",
       "count       14458.000000         15550.000000  ...       7254.0   \n",
       "mean           26.413266           163.420900  ...          1.0   \n",
       "std           123.721231           193.691889  ...          0.0   \n",
       "min             0.000000            11.000000  ...          1.0   \n",
       "25%             0.000000            94.000000  ...          1.0   \n",
       "50%             0.000000           134.000000  ...          1.0   \n",
       "75%             0.000000           190.750000  ...          1.0   \n",
       "max          3700.000000         17842.000000  ...          1.0   \n",
       "\n",
       "       HasDiningRoom  ConstructionYear   FacadeCount  HasLift  IsDoubleGlaze  \\\n",
       "count         3099.0      10277.000000  12258.000000   4326.0        11814.0   \n",
       "mean             1.0       1981.681425      2.777125      1.0            1.0   \n",
       "std              0.0         88.244062      0.866607      0.0            0.0   \n",
       "min              1.0       1753.000000      1.000000      1.0            1.0   \n",
       "25%              1.0       1960.000000      2.000000      1.0            1.0   \n",
       "50%              1.0       1983.000000      3.000000      1.0            1.0   \n",
       "75%              1.0       2020.000000      4.000000      1.0            1.0   \n",
       "max              1.0       9999.000000      8.000000      1.0            1.0   \n",
       "\n",
       "       HasBalcony  HasGarden    GardenArea  LivingRoomArea  \n",
       "count         0.0     5935.0   3520.000000     5811.000000  \n",
       "mean          NaN        1.0    641.649716       14.961452  \n",
       "std           NaN        0.0   3047.464076       43.223104  \n",
       "min           NaN        1.0      1.000000        1.000000  \n",
       "25%           NaN        1.0     60.000000        9.000000  \n",
       "50%           NaN        1.0    160.000000       12.000000  \n",
       "75%           NaN        1.0    500.000000       16.000000  \n",
       "max           NaN        1.0  87000.000000     2153.000000  \n",
       "\n",
       "[8 rows x 22 columns]"
      ]
     },
     "execution_count": 264,
     "metadata": {},
     "output_type": "execute_result"
    }
   ],
   "source": [
    "df.describe()"
   ]
  },
  {
   "cell_type": "markdown",
   "metadata": {},
   "source": [
    "## 7.  Removing columns with many NaN and have no significant impact"
   ]
  },
  {
   "cell_type": "code",
   "execution_count": 265,
   "metadata": {},
   "outputs": [
    {
     "data": {
      "text/plain": [
       "ID                              0\n",
       "Type                            0\n",
       "SubType                         0\n",
       "Price                           0\n",
       "NetHabitableSurface(msq)     2661\n",
       "BedroomCount                  401\n",
       "Province                      697\n",
       "Locality                        0\n",
       "Region                        697\n",
       "PostCode                        0\n",
       "Street                       3839\n",
       "Floor                       12934\n",
       "RegionCode                    697\n",
       "IsIsolated                  12689\n",
       "HasSeaView                  18199\n",
       "SchoolDistance               3753\n",
       "ShopDistance                 3753\n",
       "TransportDistance            3753\n",
       "NetHabitableSurface          2661\n",
       "TotalRoomCount              16985\n",
       "HasAttic                    15733\n",
       "HasBasement                 10957\n",
       "HasDiningRoom               15112\n",
       "BuildingCondition            5977\n",
       "ConstructionYear             7934\n",
       "FacadeCount                  5953\n",
       "HasLift                     13885\n",
       "FloodZoneType                8526\n",
       "HeatingType                  6722\n",
       "IsDoubleGlaze                6397\n",
       "HasBalcony                  18211\n",
       "HasGarden                   12276\n",
       "GardenArea                  14691\n",
       "KitchenType                  7040\n",
       "LivingRoomArea              12400\n",
       "dtype: int64"
      ]
     },
     "execution_count": 265,
     "metadata": {},
     "output_type": "execute_result"
    }
   ],
   "source": [
    "# check the nan values again\n",
    "df.isna().sum()"
   ]
  },
  {
   "cell_type": "code",
   "execution_count": 266,
   "metadata": {},
   "outputs": [],
   "source": [
    "df = df.drop(['NetHabitableSurface(msq)','HasSeaView', 'SchoolDistance',\\\n",
    "       'ShopDistance', 'TransportDistance','TotalRoomCount', 'HasAttic','IsIsolated',\\\n",
    "       'HasBasement', 'HasDiningRoom', 'HasLift','FloodZoneType', 'HeatingType', 'IsDoubleGlaze',\\\n",
    "       'LivingRoomArea', 'GardenArea'], axis=1)"
   ]
  },
  {
   "cell_type": "code",
   "execution_count": 267,
   "metadata": {},
   "outputs": [
    {
     "data": {
      "text/plain": [
       "Index(['ID', 'Type', 'SubType', 'Price', 'BedroomCount', 'Province',\n",
       "       'Locality', 'Region', 'PostCode', 'Street', 'Floor', 'RegionCode',\n",
       "       'NetHabitableSurface', 'BuildingCondition', 'ConstructionYear',\n",
       "       'FacadeCount', 'HasBalcony', 'HasGarden', 'KitchenType'],\n",
       "      dtype='object')"
      ]
     },
     "execution_count": 267,
     "metadata": {},
     "output_type": "execute_result"
    }
   ],
   "source": [
    "df.columns"
   ]
  },
  {
   "cell_type": "markdown",
   "metadata": {},
   "source": [
    "## 8. cleaning bedroomCount column "
   ]
  },
  {
   "cell_type": "code",
   "execution_count": 268,
   "metadata": {},
   "outputs": [
    {
     "data": {
      "text/plain": [
       "401"
      ]
     },
     "execution_count": 268,
     "metadata": {},
     "output_type": "execute_result"
    }
   ],
   "source": [
    "# first check the number of NaN value\n",
    "df['BedroomCount'].isna().sum()"
   ]
  },
  {
   "cell_type": "code",
   "execution_count": 269,
   "metadata": {},
   "outputs": [
    {
     "data": {
      "text/plain": [
       "0        False\n",
       "1        False\n",
       "2        False\n",
       "3        False\n",
       "4        False\n",
       "         ...  \n",
       "21042    False\n",
       "21043    False\n",
       "21044    False\n",
       "21045    False\n",
       "21046    False\n",
       "Name: BedroomCount, Length: 18211, dtype: bool"
      ]
     },
     "execution_count": 269,
     "metadata": {},
     "output_type": "execute_result"
    }
   ],
   "source": [
    "df['BedroomCount'].isna()"
   ]
  },
  {
   "cell_type": "code",
   "execution_count": 270,
   "metadata": {},
   "outputs": [],
   "source": [
    "# get the mean of the bedroom count for subtypes\n",
    "#df.groupby([\"Type\",\"Sub type\"])[\"BedroomCount\"].mean().round()\n"
   ]
  },
  {
   "cell_type": "code",
   "execution_count": 271,
   "metadata": {},
   "outputs": [
    {
     "data": {
      "text/plain": [
       "Int64Index([    0,     1,     2,     3,     4,     5,     6,     7,     8,\n",
       "                9,\n",
       "            ...\n",
       "            21037, 21038, 21039, 21040, 21041, 21042, 21043, 21044, 21045,\n",
       "            21046],\n",
       "           dtype='int64', length=18211)"
      ]
     },
     "execution_count": 271,
     "metadata": {},
     "output_type": "execute_result"
    }
   ],
   "source": [
    "df.index"
   ]
  },
  {
   "cell_type": "code",
   "execution_count": 272,
   "metadata": {},
   "outputs": [],
   "source": [
    "bedroom_count_mean = {\"APARTMENT\":2.0,\"DUPLEX\": 2.0,\"FLAT_STUDIO\": 1.0,\"GROUND_FLOOR\" :2,\"KOT\":1.0,\"LOFT\": 3.0,\n",
    "\"PENTHOUSE\": 3,\"SERVICE_FLAT\": 1, \"PENTHOUSE\": 3.0,\"SERVICE_FLAT\":1.0,\"TRIPLEX\":3.0,\"APARTMENT_BLOCK\":7.0,\n",
    "    \"BUNGALOW\":3.0,\"CASTLE\": 9.0, \"CHALET \":3.0,\"COUNTRY_COTTAGE\":6,\"EXCEPTIONAL_PROPERTY\":5,\"FARMHOUSE\":5,\n",
    "           \"MANOR_HOUSE\":6,\"MANSION\":5,\"MIXED_USE_BUILDING\":5.0,'OTHER_PROPERTY':7.0,'TOWN_HOUSE':3.0,\"VILLA\":3.0}\n",
    "           \n",
    "           "
   ]
  },
  {
   "cell_type": "code",
   "execution_count": 273,
   "metadata": {},
   "outputs": [],
   "source": [
    "#lets first convert nan value to 0\n",
    "#df['BedroomCount'] = df['BedroomCount'].fillna(0)"
   ]
  },
  {
   "cell_type": "code",
   "execution_count": 274,
   "metadata": {},
   "outputs": [],
   "source": [
    "#df[\"BedroomCount\"] = np.where((df['BedroomCount']==0) &(d), new_value, “column_name2”) "
   ]
  },
  {
   "cell_type": "code",
   "execution_count": 275,
   "metadata": {},
   "outputs": [],
   "source": [
    "# # not completed ,,,,,, need to work on it\n",
    "# # to save time just decided to delete the 400 NaN value of bedroomCount\n",
    "\n",
    "\n",
    "# # replace nan value of bedroom count using the bedroom_count_mean dictionary\n",
    "# for index, row in df.iterrows():\n",
    "#     #print(df[df[\"ID\"]==row[\"ID\"]])\n",
    "#     print(row[\"ID\"])\n",
    "#     sub_type = row['SubType']\n",
    "    \n",
    "#     # check if bedcount is null\n",
    "#     if (df.loc[(df['ID'] == row['ID']), 'BedroomCount'] == 0).ir:\n",
    "#       print('yes')\n",
    "    \n",
    "#     # replace value from the dic\n",
    "    \n",
    "\n",
    "    "
   ]
  },
  {
   "cell_type": "code",
   "execution_count": 276,
   "metadata": {},
   "outputs": [
    {
     "data": {
      "text/plain": [
       "(17810, 19)"
      ]
     },
     "execution_count": 276,
     "metadata": {},
     "output_type": "execute_result"
    }
   ],
   "source": [
    "df.dropna(subset=['BedroomCount'], inplace=True)\n",
    "df.shape"
   ]
  },
  {
   "cell_type": "code",
   "execution_count": 277,
   "metadata": {},
   "outputs": [
    {
     "data": {
      "text/plain": [
       "Index(['ID', 'Type', 'SubType', 'Price', 'BedroomCount', 'Province',\n",
       "       'Locality', 'Region', 'PostCode', 'Street', 'Floor', 'RegionCode',\n",
       "       'NetHabitableSurface', 'BuildingCondition', 'ConstructionYear',\n",
       "       'FacadeCount', 'HasBalcony', 'HasGarden', 'KitchenType'],\n",
       "      dtype='object')"
      ]
     },
     "execution_count": 277,
     "metadata": {},
     "output_type": "execute_result"
    }
   ],
   "source": [
    "df.columns"
   ]
  },
  {
   "cell_type": "markdown",
   "metadata": {},
   "source": [
    "## 9. cleaning province,region and locality \n"
   ]
  },
  {
   "cell_type": "markdown",
   "metadata": {},
   "source": [
    "Belgium is made up of three regions, each having considerable autonomy. The Walloon Region is the largest, followed by Flemish Region. The Brussels Capital Region is the smallest."
   ]
  },
  {
   "cell_type": "code",
   "execution_count": 278,
   "metadata": {},
   "outputs": [
    {
     "data": {
      "text/plain": [
       "0"
      ]
     },
     "execution_count": 278,
     "metadata": {},
     "output_type": "execute_result"
    }
   ],
   "source": [
    "df[\"PostCode\"].isna().sum()"
   ]
  },
  {
   "cell_type": "code",
   "execution_count": 279,
   "metadata": {},
   "outputs": [
    {
     "name": "stdout",
     "output_type": "stream",
     "text": [
      "number of rows with nan values for Region:  669\n",
      "number of rows with nan values for Province:  669\n",
      "number of rows with nan values for Locality:  0\n",
      "number of rows with nan values for postcode:  0\n"
     ]
    }
   ],
   "source": [
    "\n",
    "print(\"number of rows with nan values for Region: \",df['Region'].isna().sum())\n",
    "print(\"number of rows with nan values for Province: \",df['Province'].isna().sum())\n",
    "print(\"number of rows with nan values for Locality: \",df['Locality'].isna().sum())\n",
    "print('number of rows with nan values for postcode: ',df['PostCode'].isna().sum())"
   ]
  },
  {
   "cell_type": "code",
   "execution_count": 280,
   "metadata": {},
   "outputs": [
    {
     "name": "stdout",
     "output_type": "stream",
     "text": [
      "Regions in Belgium:  ['Flanders' 'Wallonie' 'Brussels' nan]\n",
      "Provinces in Belgium:  ['Limburg' 'Antwerp' 'Liège' 'Brussels' 'East Flanders' 'Namur' nan\n",
      " 'Flemish Brabant' 'Hainaut' 'West Flanders' 'Walloon Brabant'\n",
      " 'Luxembourg']\n",
      "Locality in Belgium:  ['Zonhoven' 'Berlaar' 'Merksplas' ... 'Erpe' 'Gijzelbrechtegem' 'Beerst']\n"
     ]
    }
   ],
   "source": [
    "\n",
    "print('Regions in Belgium: ',df['Region'].unique())\n",
    "print(\"Provinces in Belgium: \",df[\"Province\"].unique())\n",
    "print(\"Locality in Belgium: \",df[\"Locality\"].unique())\n"
   ]
  },
  {
   "cell_type": "code",
   "execution_count": 281,
   "metadata": {},
   "outputs": [],
   "source": [
    "df.dropna(subset=['Region','Province'], inplace=True)"
   ]
  },
  {
   "cell_type": "markdown",
   "metadata": {},
   "source": [
    "## 10. HasBalcony and HasGarden \n",
    "for HasBalcony& HasGarden convert boolean(T/F) -----> 0/1\n"
   ]
  },
  {
   "cell_type": "code",
   "execution_count": 282,
   "metadata": {},
   "outputs": [],
   "source": [
    "df.HasBalcony = df.HasBalcony.replace({True: 1, False: 0})\n",
    "df.HasGarden = df.HasGarden.replace({True:1,False:0})"
   ]
  },
  {
   "cell_type": "code",
   "execution_count": 283,
   "metadata": {},
   "outputs": [],
   "source": [
    "df[['HasBalcony', 'HasGarden']] = df[['HasBalcony', 'HasGarden']].fillna(0) "
   ]
  },
  {
   "cell_type": "code",
   "execution_count": 284,
   "metadata": {},
   "outputs": [
    {
     "data": {
      "text/plain": [
       "0.0    11436\n",
       "1.0     5705\n",
       "Name: HasGarden, dtype: int64"
      ]
     },
     "execution_count": 284,
     "metadata": {},
     "output_type": "execute_result"
    }
   ],
   "source": [
    "df[\"HasGarden\"].value_counts()"
   ]
  },
  {
   "cell_type": "markdown",
   "metadata": {},
   "source": [
    "## 11. categorizing data  "
   ]
  },
  {
   "cell_type": "markdown",
   "metadata": {},
   "source": [
    "categroizing kitchen types   ### 11.1        "
   ]
  },
  {
   "cell_type": "code",
   "execution_count": 285,
   "metadata": {},
   "outputs": [
    {
     "data": {
      "text/plain": [
       "Index(['ID', 'Type', 'SubType', 'Price', 'BedroomCount', 'Province',\n",
       "       'Locality', 'Region', 'PostCode', 'Street', 'Floor', 'RegionCode',\n",
       "       'NetHabitableSurface', 'BuildingCondition', 'ConstructionYear',\n",
       "       'FacadeCount', 'HasBalcony', 'HasGarden', 'KitchenType'],\n",
       "      dtype='object')"
      ]
     },
     "execution_count": 285,
     "metadata": {},
     "output_type": "execute_result"
    }
   ],
   "source": [
    "df.columns"
   ]
  },
  {
   "cell_type": "code",
   "execution_count": 286,
   "metadata": {},
   "outputs": [
    {
     "data": {
      "text/plain": [
       "INSTALLED             5425\n",
       "HYPER_EQUIPPED        2071\n",
       "SEMI_EQUIPPED         1338\n",
       "USA_HYPER_EQUIPPED     950\n",
       "NOT_INSTALLED          614\n",
       "USA_INSTALLED          366\n",
       "USA_SEMI_EQUIPPED       83\n",
       "USA_UNINSTALLED          5\n",
       "Name: KitchenType, dtype: int64"
      ]
     },
     "execution_count": 286,
     "metadata": {},
     "output_type": "execute_result"
    }
   ],
   "source": [
    "df['KitchenType'].value_counts()\n",
    "\n"
   ]
  },
  {
   "cell_type": "markdown",
   "metadata": {},
   "source": [
    "maping values to  labels\n",
    "NOT_INSTALLED  --- 0\n",
    "USA_UNINSTALLE --- 0\n",
    "INSTALLED -------- 1\n",
    "USA_INSTALLED ---- 1\n",
    "SEMI_EQUIPPED ---- 2\n",
    "USA_SEMI_EQUIPPED  2             \n",
    "HYPER_EQUIPPED     3  \n",
    "missed value ----- 0"
   ]
  },
  {
   "cell_type": "code",
   "execution_count": 287,
   "metadata": {},
   "outputs": [
    {
     "data": {
      "text/plain": [
       "0         True\n",
       "1         True\n",
       "2         True\n",
       "3         True\n",
       "4         True\n",
       "         ...  \n",
       "21042    False\n",
       "21043     True\n",
       "21044    False\n",
       "21045     True\n",
       "21046     True\n",
       "Name: KitchenType, Length: 17141, dtype: bool"
      ]
     },
     "execution_count": 287,
     "metadata": {},
     "output_type": "execute_result"
    }
   ],
   "source": [
    "df['KitchenType'].isnull()\n"
   ]
  },
  {
   "cell_type": "code",
   "execution_count": 288,
   "metadata": {},
   "outputs": [],
   "source": [
    "df.loc[df['KitchenType'] == \"NOT_INSTALLED\", 'KitchenType'] = 0\n",
    "df.loc[df['KitchenType'] == \"USA_UNINSTALLED\", 'KitchenType'] = 0\n",
    "df.loc[df['KitchenType'] == \"INSTALLED\", 'KitchenType'] = 1\n",
    "df.loc[df['KitchenType'] == \"USA_INSTALLED\", 'KitchenType'] = 1\n",
    "df.loc[df['KitchenType'] == \"SEMI_EQUIPPED\", 'KitchenType'] = 2\n",
    "df.loc[df['KitchenType'] == \"USA_SEMI_EQUIPPED\", 'KitchenType'] = 2\n",
    "df.loc[df['KitchenType'] == \"HYPER_EQUIPPED\", 'KitchenType'] = 3\n",
    "df.loc[df['KitchenType'] == \"USA_HYPER_EQUIPPED\", 'KitchenType'] = 3\n",
    "df.loc[df['KitchenType'].isna(), 'KitchenType'] = 0"
   ]
  },
  {
   "cell_type": "code",
   "execution_count": 289,
   "metadata": {},
   "outputs": [
    {
     "data": {
      "text/plain": [
       "0    6908\n",
       "1    5791\n",
       "3    3021\n",
       "2    1421\n",
       "Name: KitchenType, dtype: int64"
      ]
     },
     "execution_count": 289,
     "metadata": {},
     "output_type": "execute_result"
    }
   ],
   "source": [
    "df['KitchenType'].value_counts()"
   ]
  },
  {
   "cell_type": "markdown",
   "metadata": {},
   "source": [
    "### 11.2  catgorizing construction year    \n",
    "catgorizing data for construction year\n",
    "house built: before 2000 --> old = 0,after 2000 --> new = 1,  missing is --> old = 0\n"
   ]
  },
  {
   "cell_type": "code",
   "execution_count": 290,
   "metadata": {},
   "outputs": [],
   "source": [
    "\n",
    "\n",
    "df.loc[df[\"ConstructionYear\"] < 2000, \"ConstructionYear\"] = 0\n",
    "df.loc[df[\"ConstructionYear\"] >=2000, \"ConstructionYear\"] = 1\n",
    "\n",
    "#df.loc[df[\"ConstructionYear\"].isna(), \"ConstructionYear\"] = 2\n",
    "\n"
   ]
  },
  {
   "cell_type": "code",
   "execution_count": 291,
   "metadata": {},
   "outputs": [
    {
     "data": {
      "text/plain": [
       "0.0    5864\n",
       "1.0    3892\n",
       "Name: ConstructionYear, dtype: int64"
      ]
     },
     "execution_count": 291,
     "metadata": {},
     "output_type": "execute_result"
    }
   ],
   "source": [
    "df['ConstructionYear'].value_counts()"
   ]
  },
  {
   "cell_type": "markdown",
   "metadata": {},
   "source": [
    "## 12 Removing outliers \n",
    "1. checking  and removing outlier for price\n",
    "2. checking and removing outlier for bedroomCount\n",
    "3. checking and removing outlier for facadecount"
   ]
  },
  {
   "cell_type": "markdown",
   "metadata": {},
   "source": [
    "1. checking  and removing outlier for price"
   ]
  },
  {
   "cell_type": "code",
   "execution_count": 292,
   "metadata": {},
   "outputs": [
    {
     "data": {
      "text/plain": [
       "count    1.714100e+04\n",
       "mean     3.922536e+05\n",
       "std      3.281301e+05\n",
       "min      1.385000e+03\n",
       "25%      2.350000e+05\n",
       "50%      3.190000e+05\n",
       "75%      4.400000e+05\n",
       "max      8.100000e+06\n",
       "Name: Price, dtype: float64"
      ]
     },
     "execution_count": 292,
     "metadata": {},
     "output_type": "execute_result"
    }
   ],
   "source": [
    "df[\"Price\"].describe()"
   ]
  },
  {
   "cell_type": "code",
   "execution_count": 293,
   "metadata": {},
   "outputs": [
    {
     "data": {
      "text/plain": [
       "(17083, 19)"
      ]
     },
     "execution_count": 293,
     "metadata": {},
     "output_type": "execute_result"
    }
   ],
   "source": [
    "df = df[df['Price'] > 50000]\n",
    "df.shape"
   ]
  },
  {
   "cell_type": "code",
   "execution_count": 294,
   "metadata": {},
   "outputs": [
    {
     "data": {
      "text/plain": [
       "count    1.708300e+04\n",
       "mean     3.934492e+05\n",
       "std      3.280427e+05\n",
       "min      5.200000e+04\n",
       "25%      2.350000e+05\n",
       "50%      3.190000e+05\n",
       "75%      4.403500e+05\n",
       "max      8.100000e+06\n",
       "Name: Price, dtype: float64"
      ]
     },
     "execution_count": 294,
     "metadata": {},
     "output_type": "execute_result"
    }
   ],
   "source": [
    "df['Price'].describe()"
   ]
  },
  {
   "cell_type": "code",
   "execution_count": 295,
   "metadata": {},
   "outputs": [],
   "source": [
    "import seaborn as sns\n",
    "from scipy import stats"
   ]
  },
  {
   "cell_type": "code",
   "execution_count": 296,
   "metadata": {},
   "outputs": [
    {
     "data": {
      "text/plain": [
       "<AxesSubplot:title={'center':'price scatter diagram'}, xlabel='ID', ylabel='Price'>"
      ]
     },
     "execution_count": 296,
     "metadata": {},
     "output_type": "execute_result"
    },
    {
     "data": {
      "image/png": "[encoded data removed]",
      "text/plain": [
       "<Figure size 432x288 with 1 Axes>"
      ]
     },
     "metadata": {
      "needs_background": "light"
     },
     "output_type": "display_data"
    }
   ],
   "source": [
    "df.plot.scatter(x='ID', y='Price', title= 'price scatter diagram')"
   ]
  },
  {
   "cell_type": "code",
   "execution_count": 297,
   "metadata": {},
   "outputs": [
    {
     "data": {
      "text/plain": [
       "<AxesSubplot:xlabel='Price'>"
      ]
     },
     "execution_count": 297,
     "metadata": {},
     "output_type": "execute_result"
    },
    {
     "data": {
      "image/png": "[encoded data removed]",
      "text/plain": [
       "<Figure size 432x288 with 1 Axes>"
      ]
     },
     "metadata": {
      "needs_background": "light"
     },
     "output_type": "display_data"
    }
   ],
   "source": [
    "# checking outliers for price\n",
    "sns.boxplot(x=df['Price'])\n"
   ]
  },
  {
   "cell_type": "markdown",
   "metadata": {},
   "source": [
    "# Standard deviation\n",
    "Standard deviation is the measure of how far a data point lies from the mean value. Generally, it is common practice to use 3 standard deviations for the detection and removal of outliers."
   ]
  },
  {
   "cell_type": "code",
   "execution_count": 298,
   "metadata": {},
   "outputs": [
    {
     "name": "stdout",
     "output_type": "stream",
     "text": [
      "#########Starting ############\n"
     ]
    }
   ],
   "source": [
    "upper_limit = 0\n",
    "lower_limit = 0\n",
    "print('#########Starting ############')\n",
    "def outlier_removal(df, variable):\n",
    "    upper_limit = df[variable].mean() + 3 * df[variable].std()\n",
    "    lower_limit = df[variable].mean() - 3 * df[variable].std()\n",
    "    return upper_limit, lower_limit\n",
    "\n",
    "\n",
    "def call_outlier_removal(upper_limit,lower_limit,variable,df):\n",
    "    print(f\" ***** removing outlier for {variable} column  ****\")\n",
    "    # df =df\n",
    "    # variable = variable\n",
    "    upper_limit, lower_limit = outlier_removal(df, variable)\n",
    "\n",
    "\n",
    "    \n",
    "    i_upper_limit = upper_limit\n",
    "    i_lower_limit = lower_limit\n",
    "    print('i_upper_limit',upper_limit)\n",
    "    print('i_lower_limit: ',lower_limit)\n",
    "    \n",
    "    \n",
    "    while(True):\n",
    "        df = df[(df[variable]> lower_limit)& (df[variable]<upper_limit)]\n",
    "        upper_limit,lower_limit = outlier_removal(df,variable)\n",
    "        if (upper_limit - i_upper_limit)== 0 and (lower_limit - i_lower_limit)==0:\n",
    "            df = df[(df[variable]> lower_limit)& (df[variable]<upper_limit)]\n",
    "            print(\"#upper_limit: \",upper_limit)\n",
    "            print(\"#lower_limit: \",lower_limit)\n",
    "            break\n",
    "        i_lower_limit = lower_limit\n",
    "        i_upper_limit = upper_limit\n",
    "    return df\n"
   ]
  },
  {
   "cell_type": "code",
   "execution_count": 299,
   "metadata": {},
   "outputs": [
    {
     "data": {
      "text/plain": [
       "(17083, 19)"
      ]
     },
     "execution_count": 299,
     "metadata": {},
     "output_type": "execute_result"
    }
   ],
   "source": [
    "df.shape"
   ]
  },
  {
   "cell_type": "code",
   "execution_count": 300,
   "metadata": {},
   "outputs": [
    {
     "name": "stdout",
     "output_type": "stream",
     "text": [
      " ***** removing outlier for Price column  ****\n",
      "i_upper_limit 1377577.2850278318\n",
      "i_lower_limit:  -590678.8481022334\n",
      "#upper_limit:  753699.5740706618\n",
      "#lower_limit:  -93830.58745089936\n"
     ]
    }
   ],
   "source": [
    "df =call_outlier_removal(upper_limit,lower_limit,'Price',df)"
   ]
  },
  {
   "cell_type": "code",
   "execution_count": 301,
   "metadata": {},
   "outputs": [
    {
     "data": {
      "text/plain": [
       "(15919, 19)"
      ]
     },
     "execution_count": 301,
     "metadata": {},
     "output_type": "execute_result"
    }
   ],
   "source": [
    "df.shape"
   ]
  },
  {
   "cell_type": "code",
   "execution_count": 302,
   "metadata": {},
   "outputs": [
    {
     "data": {
      "text/plain": [
       "<AxesSubplot:xlabel='Price'>"
      ]
     },
     "execution_count": 302,
     "metadata": {},
     "output_type": "execute_result"
    },
    {
     "data": {
      "image/png": "[encoded data removed]",
      "text/plain": [
       "<Figure size 432x288 with 1 Axes>"
      ]
     },
     "metadata": {
      "needs_background": "light"
     },
     "output_type": "display_data"
    }
   ],
   "source": [
    "sns.boxplot(x=df['Price'])"
   ]
  },
  {
   "cell_type": "code",
   "execution_count": 303,
   "metadata": {},
   "outputs": [
    {
     "data": {
      "text/plain": [
       "count     15919.00000\n",
       "mean     329934.49331\n",
       "std      141255.02692\n",
       "min       52000.00000\n",
       "25%      229325.00000\n",
       "50%      299500.00000\n",
       "75%      399000.00000\n",
       "max      753350.00000\n",
       "Name: Price, dtype: float64"
      ]
     },
     "execution_count": 303,
     "metadata": {},
     "output_type": "execute_result"
    }
   ],
   "source": [
    "df[\"Price\"].describe()"
   ]
  },
  {
   "cell_type": "markdown",
   "metadata": {},
   "source": [
    "# InterQuartile Range:\n",
    "interquartile range is a difference between the third quartile(Q3) and the first quartile(Q1). In this method, anything lying above  Q3 + 1.5 * IQR and Q1 – 1.5 * IQR  is considered an outlier.\n",
    "\n",
    "<!-- def outliers(df, feature):\n",
    "def outliers(df, feature):\n",
    "    Q1= df[feature].quantile(0.25)\n",
    "    Q3 = df[feature].quantile(0.75)\n",
    "    IQR = Q3 - Q1\n",
    "    upper_limit = Q3 + 1.5 * IQR\n",
    "    lower_limit = Q1 - 1.5 * IQR\n",
    "    return upper_limit, lower_limit\n",
    "upper, lower = outliers(df, \"Price\")\n",
    "print(\"Upper whisker: \", upper)\n",
    "print(\"Lower Whisker: \", lower) -->"
   ]
  },
  {
   "cell_type": "markdown",
   "metadata": {},
   "source": [
    "2. checking and removing outlier for bedroomCount"
   ]
  },
  {
   "cell_type": "code",
   "execution_count": 304,
   "metadata": {},
   "outputs": [
    {
     "data": {
      "text/plain": [
       "count    15919.000000\n",
       "mean         2.920912\n",
       "std         15.237710\n",
       "min          1.000000\n",
       "25%          2.000000\n",
       "50%          3.000000\n",
       "75%          3.000000\n",
       "max       1919.000000\n",
       "Name: BedroomCount, dtype: float64"
      ]
     },
     "execution_count": 304,
     "metadata": {},
     "output_type": "execute_result"
    }
   ],
   "source": [
    "df['BedroomCount'].describe()"
   ]
  },
  {
   "cell_type": "code",
   "execution_count": 305,
   "metadata": {},
   "outputs": [
    {
     "data": {
      "text/plain": [
       "<AxesSubplot:title={'center':'bedroomcount scatter diagram'}, xlabel='ID', ylabel='BedroomCount'>"
      ]
     },
     "execution_count": 305,
     "metadata": {},
     "output_type": "execute_result"
    },
    {
     "data": {
      "image/png": "[encoded data removed]",
      "text/plain": [
       "<Figure size 432x288 with 1 Axes>"
      ]
     },
     "metadata": {
      "needs_background": "light"
     },
     "output_type": "display_data"
    }
   ],
   "source": [
    "df.plot.scatter(x='ID', y='BedroomCount', title= 'bedroomcount scatter diagram')"
   ]
  },
  {
   "cell_type": "code",
   "execution_count": 306,
   "metadata": {},
   "outputs": [
    {
     "data": {
      "text/plain": [
       "<AxesSubplot:xlabel='BedroomCount'>"
      ]
     },
     "execution_count": 306,
     "metadata": {},
     "output_type": "execute_result"
    },
    {
     "data": {
      "image/png": "[encoded data removed]",
      "text/plain": [
       "<Figure size 432x288 with 1 Axes>"
      ]
     },
     "metadata": {
      "needs_background": "light"
     },
     "output_type": "display_data"
    }
   ],
   "source": [
    "sns.boxplot(x=df['BedroomCount'])"
   ]
  },
  {
   "cell_type": "code",
   "execution_count": 307,
   "metadata": {},
   "outputs": [
    {
     "name": "stdout",
     "output_type": "stream",
     "text": [
      " ***** removing outlier for BedroomCount column  ****\n",
      "i_upper_limit 48.63404169549958\n",
      "i_lower_limit:  -42.792217460308926\n",
      "#upper_limit:  5.675555470648827\n",
      "#lower_limit:  -0.29004747683758403\n"
     ]
    }
   ],
   "source": [
    "df = call_outlier_removal(upper_limit,lower_limit,'BedroomCount',df)"
   ]
  },
  {
   "cell_type": "code",
   "execution_count": 308,
   "metadata": {},
   "outputs": [
    {
     "data": {
      "text/plain": [
       "count    15512.000000\n",
       "mean         2.692754\n",
       "std          0.994267\n",
       "min          1.000000\n",
       "25%          2.000000\n",
       "50%          3.000000\n",
       "75%          3.000000\n",
       "max          5.000000\n",
       "Name: BedroomCount, dtype: float64"
      ]
     },
     "execution_count": 308,
     "metadata": {},
     "output_type": "execute_result"
    }
   ],
   "source": [
    "\n",
    "df[\"BedroomCount\"].describe()"
   ]
  },
  {
   "cell_type": "code",
   "execution_count": 309,
   "metadata": {},
   "outputs": [
    {
     "data": {
      "text/plain": [
       "<AxesSubplot:xlabel='BedroomCount'>"
      ]
     },
     "execution_count": 309,
     "metadata": {},
     "output_type": "execute_result"
    },
    {
     "data": {
      "image/png": "[encoded data removed]",
      "text/plain": [
       "<Figure size 432x288 with 1 Axes>"
      ]
     },
     "metadata": {
      "needs_background": "light"
     },
     "output_type": "display_data"
    }
   ],
   "source": [
    "sns.boxplot(x=df['BedroomCount'])\n"
   ]
  },
  {
   "cell_type": "markdown",
   "metadata": {},
   "source": [
    "3. checking and removing outlier for facadecount"
   ]
  },
  {
   "cell_type": "code",
   "execution_count": 310,
   "metadata": {},
   "outputs": [
    {
     "data": {
      "text/plain": [
       "(15512, 19)"
      ]
     },
     "execution_count": 310,
     "metadata": {},
     "output_type": "execute_result"
    }
   ],
   "source": [
    "df.shape"
   ]
  },
  {
   "cell_type": "code",
   "execution_count": 311,
   "metadata": {},
   "outputs": [
    {
     "name": "stdout",
     "output_type": "stream",
     "text": [
      "null value sum:  4825\n",
      "count    10687.000000\n",
      "mean         2.742210\n",
      "std          0.846478\n",
      "min          1.000000\n",
      "25%          2.000000\n",
      "50%          3.000000\n",
      "75%          3.000000\n",
      "max          8.000000\n",
      "Name: FacadeCount, dtype: float64\n",
      "2.0    5143\n",
      "3.0    2767\n",
      "4.0    2640\n",
      "1.0     133\n",
      "6.0       3\n",
      "8.0       1\n",
      "Name: FacadeCount, dtype: int64\n"
     ]
    }
   ],
   "source": [
    "print('null value sum: ', df[\"FacadeCount\"].isna().sum())\n",
    "print(df[\"FacadeCount\"].describe())\n",
    "print(df[\"FacadeCount\"].value_counts())\n",
    "\n"
   ]
  },
  {
   "cell_type": "code",
   "execution_count": 312,
   "metadata": {},
   "outputs": [],
   "source": [
    "# normally  a house has atleast....and clients stress out if their property has more. so if they have more than one \n",
    "# they tend to mention ---------> facacdcount = 0 for NaN\n",
    "df['FacadeCount'] = df['FacadeCount'].fillna(1)\n",
    "\n"
   ]
  },
  {
   "cell_type": "code",
   "execution_count": 313,
   "metadata": {},
   "outputs": [
    {
     "data": {
      "text/plain": [
       "<AxesSubplot:title={'center':'FacadeCount scatter diagram'}, xlabel='ID', ylabel='FacadeCount'>"
      ]
     },
     "execution_count": 313,
     "metadata": {},
     "output_type": "execute_result"
    },
    {
     "data": {
      "image/png": "[encoded data removed]",
      "text/plain": [
       "<Figure size 432x288 with 1 Axes>"
      ]
     },
     "metadata": {
      "needs_background": "light"
     },
     "output_type": "display_data"
    }
   ],
   "source": [
    "df.plot.scatter(x='ID', y='FacadeCount', title= 'FacadeCount scatter diagram')"
   ]
  },
  {
   "cell_type": "code",
   "execution_count": 314,
   "metadata": {},
   "outputs": [
    {
     "data": {
      "text/plain": [
       "<AxesSubplot:xlabel='FacadeCount'>"
      ]
     },
     "execution_count": 314,
     "metadata": {},
     "output_type": "execute_result"
    },
    {
     "data": {
      "image/png": "[encoded data removed]",
      "text/plain": [
       "<Figure size 432x288 with 1 Axes>"
      ]
     },
     "metadata": {
      "needs_background": "light"
     },
     "output_type": "display_data"
    }
   ],
   "source": [
    "sns.boxplot(x=df['FacadeCount'])"
   ]
  },
  {
   "cell_type": "code",
   "execution_count": 315,
   "metadata": {},
   "outputs": [
    {
     "name": "stdout",
     "output_type": "stream",
     "text": [
      " ***** removing outlier for FacadeCount column  ****\n",
      "i_upper_limit 5.409223994346991\n",
      "i_lower_limit:  -1.0086309051257434\n",
      "#upper_limit:  5.4015616501703345\n",
      "#lower_limit:  -1.003186617928911\n"
     ]
    }
   ],
   "source": [
    "df = call_outlier_removal(upper_limit,lower_limit,'FacadeCount',df)"
   ]
  },
  {
   "cell_type": "code",
   "execution_count": 316,
   "metadata": {},
   "outputs": [
    {
     "data": {
      "text/plain": [
       "<AxesSubplot:xlabel='FacadeCount'>"
      ]
     },
     "execution_count": 316,
     "metadata": {},
     "output_type": "execute_result"
    },
    {
     "data": {
      "image/png": "[encoded data removed]",
      "text/plain": [
       "<Figure size 432x288 with 1 Axes>"
      ]
     },
     "metadata": {
      "needs_background": "light"
     },
     "output_type": "display_data"
    }
   ],
   "source": [
    "sns.boxplot(x=df['FacadeCount'])"
   ]
  },
  {
   "cell_type": "code",
   "execution_count": 317,
   "metadata": {},
   "outputs": [
    {
     "data": {
      "text/plain": [
       "array([3., 4., 2., 1.])"
      ]
     },
     "execution_count": 317,
     "metadata": {},
     "output_type": "execute_result"
    }
   ],
   "source": [
    "df[\"FacadeCount\"].unique()"
   ]
  },
  {
   "cell_type": "markdown",
   "metadata": {},
   "source": [
    "## 13. Cleaning floor columns"
   ]
  },
  {
   "cell_type": "markdown",
   "metadata": {},
   "source": [
    "1. first check the unique floor numbers for apartment and house type of sales\n",
    "  *  for house types the floor number should be all NaN\n",
    "  *  for apartment it should be small positive integer\n",
    "2. replace the NaN values of Floor number for the Apartment type of sales by mean value"
   ]
  },
  {
   "cell_type": "code",
   "execution_count": 318,
   "metadata": {},
   "outputs": [
    {
     "name": "stdout",
     "output_type": "stream",
     "text": [
      "unique values of floor number for type APARTMENT :  2.0\n",
      "unique values of floor number for type house:  [nan]\n",
      "median of  floor for apartments:  2.0\n"
     ]
    }
   ],
   "source": [
    "\n",
    "print(\"unique values of floor number for type APARTMENT : \",df['Floor'].where(df['Type']== \"APARTMENT\").median())\n",
    "print(\"unique values of floor number for type house: \",df['Floor'].where(df['Type']== \"HOUSE\").unique())\n",
    "apartment_floor_median = df['Floor'].where(df['Type']== \"APARTMENT\").median()\n",
    "print(\"median of  floor for apartments: \",apartment_floor_median)"
   ]
  },
  {
   "cell_type": "code",
   "execution_count": 319,
   "metadata": {},
   "outputs": [],
   "source": [
    "df[\"Floor\"] = df['Floor'].where(df['Type']== \"APARTMENT\").fillna(apartment_floor_median)"
   ]
  },
  {
   "cell_type": "markdown",
   "metadata": {},
   "source": [
    "# b. Data analysis and visualization"
   ]
  },
  {
   "cell_type": "markdown",
   "metadata": {},
   "source": [
    "# 1. Questions\n",
    "  * what is the average cost of house and apartment in Belgium?\n",
    "  * What is the average cost of house and apartment in Ghent?\n",
    "  * which (region,province,locality) is cheapest|expensive?\n",
    "  * what is the correlation?\n",
    "    * between price and bedroomcount\n",
    "    * between price and facadecount\n",
    "    * between price and floor\n",
    "    * between price and constructionyear\n",
    "  "
   ]
  },
  {
   "cell_type": "markdown",
   "metadata": {},
   "source": [
    "What is the average cost of house and apartment in Belgium?"
   ]
  },
  {
   "cell_type": "code",
   "execution_count": 320,
   "metadata": {},
   "outputs": [
    {
     "name": "stdout",
     "output_type": "stream",
     "text": [
      "The average cost of House in Belgium is :  340890\n",
      "The average cost of Apartment in Belgium is:  305990\n"
     ]
    }
   ],
   "source": [
    "print(\"The average cost of House in Belgium is : \",int(df[\"Price\"].where(df[\"Type\"] == \"HOUSE\").mean()))\n",
    "print(\"The average cost of Apartment in Belgium is: \",int(df[\"Price\"].where(df[\"Type\"]== \"APARTMENT\").mean()))"
   ]
  },
  {
   "cell_type": "markdown",
   "metadata": {},
   "source": [
    "What is the average cost of house and apartment in Ghent?"
   ]
  },
  {
   "cell_type": "code",
   "execution_count": 321,
   "metadata": {},
   "outputs": [
    {
     "name": "stdout",
     "output_type": "stream",
     "text": [
      "The average cost of Apartment in Ghent is :  365903.00492610835\n",
      "The average cost of House in Ghent is :  402012.1875\n"
     ]
    }
   ],
   "source": [
    "print(\"The average cost of Apartment in Ghent is : \",\\\n",
    "     df[\"Price\"].where((df[\"Locality\"] == \"Gent\")&(df[\"Type\"] == \"APARTMENT\")).mean())\n",
    "print(\"The average cost of House in Ghent is : \",\\\n",
    "     df[\"Price\"].where((df[\"Locality\"] == \"Gent\")&(df[\"Type\"] == \"HOUSE\")).mean())"
   ]
  },
  {
   "cell_type": "markdown",
   "metadata": {},
   "source": [
    "Which province is cheapest|expensive?"
   ]
  },
  {
   "cell_type": "code",
   "execution_count": 322,
   "metadata": {},
   "outputs": [
    {
     "data": {
      "text/plain": [
       "pandas.core.frame.DataFrame"
      ]
     },
     "execution_count": 322,
     "metadata": {},
     "output_type": "execute_result"
    }
   ],
   "source": [
    "df_apartment_groupedby_province = df.groupby(['Province','Type'])['Price'].mean().unstack()\n",
    "df_apartment_groupedby_province.sort_values(by=['HOUSE','APARTMENT'], inplace=True, ascending=False)\n",
    "\n",
    "type(df_apartment_groupedby_province)"
   ]
  },
  {
   "cell_type": "code",
   "execution_count": 350,
   "metadata": {},
   "outputs": [
    {
     "data": {
      "image/png": "[encoded data removed]",
      "text/plain": [
       "<Figure size 720x432 with 1 Axes>"
      ]
     },
     "metadata": {
      "needs_background": "light"
     },
     "output_type": "display_data"
    }
   ],
   "source": [
    "ax= df_apartment_groupedby_province.plot(kind='bar', title='Average price by Province',\n",
    "               ylabel='Price', xlabel='Province', figsize=(10, 6))\n",
    "\n",
    "ax.yaxis.set_units(\"Euro\")"
   ]
  },
  {
   "cell_type": "markdown",
   "metadata": {},
   "source": [
    "In which region it is more affordable to buy a house?"
   ]
  },
  {
   "cell_type": "code",
   "execution_count": 348,
   "metadata": {},
   "outputs": [
    {
     "data": {
      "text/plain": [
       "<AxesSubplot:title={'center':'Average price by Region'}, xlabel='Region', ylabel='Price in Euro'>"
      ]
     },
     "execution_count": 348,
     "metadata": {},
     "output_type": "execute_result"
    },
    {
     "data": {
      "image/png": "[encoded data removed]",
      "text/plain": [
       "<Figure size 432x288 with 2 Axes>"
      ]
     },
     "metadata": {
      "needs_background": "light"
     },
     "output_type": "display_data"
    },
    {
     "data": {
      "image/png": "[encoded data removed]",
      "text/plain": [
       "<Figure size 360x360 with 1 Axes>"
      ]
     },
     "metadata": {},
     "output_type": "display_data"
    },
    {
     "data": {
      "image/png": "[encoded data removed]",
      "text/plain": [
       "<Figure size 720x432 with 1 Axes>"
      ]
     },
     "metadata": {
      "needs_background": "light"
     },
     "output_type": "display_data"
    },
    {
     "data": {
      "image/png": "[encoded data removed]",
      "text/plain": [
       "<Figure size 720x432 with 1 Axes>"
      ]
     },
     "metadata": {
      "needs_background": "light"
     },
     "output_type": "display_data"
    }
   ],
   "source": [
    "df.plot.scatter(x='ID',\n",
    "                      y='Type',\n",
    "                      c='Price',\n",
    "                      colormap='viridis')\n",
    "df.groupby(['Region','Type'])['Price'].mean().unstack().plot(kind = 'pie', y= \"HOUSE\",figsize = (5,5), title='Average price by Region',wedgeprops={'linewidth': 3.0, 'edgecolor': 'white'})\n",
    "df.groupby(['Region','Type'])['Price'].mean().unstack().plot(kind='bar', title='Average price by Region',\n",
    "               ylabel='Price in Euro', xlabel='Region', figsize=(10, 6))\n",
    "df.groupby(['Region','Type'])['Price'].mean().unstack().plot(kind='area', title='Average price by Region',\n",
    "               ylabel='Price in Euro', xlabel='Region', figsize=(10, 6))\n"
   ]
  },
  {
   "cell_type": "markdown",
   "metadata": {},
   "source": [
    "In which locality in East flanders province, is the price for apartment|house the highest?"
   ]
  },
  {
   "cell_type": "code",
   "execution_count": 325,
   "metadata": {},
   "outputs": [
    {
     "data": {
      "text/plain": [
       "Index(['ID', 'Type', 'SubType', 'Price', 'BedroomCount', 'Province',\n",
       "       'Locality', 'Region', 'PostCode', 'Street', 'Floor', 'RegionCode',\n",
       "       'NetHabitableSurface', 'BuildingCondition', 'ConstructionYear',\n",
       "       'FacadeCount', 'HasBalcony', 'HasGarden', 'KitchenType'],\n",
       "      dtype='object')"
      ]
     },
     "execution_count": 325,
     "metadata": {},
     "output_type": "execute_result"
    }
   ],
   "source": [
    "df.columns"
   ]
  },
  {
   "cell_type": "code",
   "execution_count": 326,
   "metadata": {},
   "outputs": [
    {
     "data": {
      "text/plain": [
       "<AxesSubplot:title={'center':'Average price of East Flanders localities'}, xlabel='Locality', ylabel='Price in Euro'>"
      ]
     },
     "execution_count": 326,
     "metadata": {},
     "output_type": "execute_result"
    },
    {
     "data": {
      "image/png": "[encoded data removed]",
      "text/plain": [
       "<Figure size 1008x576 with 1 Axes>"
      ]
     },
     "metadata": {
      "needs_background": "light"
     },
     "output_type": "display_data"
    }
   ],
   "source": [
    "df1 = df.where(df['Province']==\"East Flanders\")\n",
    "\n",
    "df2 = df1.groupby(['PostCode','Type'])['Price'].mean().unstack()\n",
    "\n",
    "df2['APARTMENT'] = df2['APARTMENT'].fillna(int(df2['APARTMENT'].mean()))\n",
    "df2['HOUSE'] = df2['HOUSE'].fillna(int(df2['HOUSE'].mean()))\n",
    "df2.sort_values(by=['HOUSE','APARTMENT'], inplace=True, ascending=False)\n",
    "\n",
    "df2.head(12).plot(kind='bar',color={\"HOUSE\": \"c\", \"APARTMENT\": \"orange\"},\n",
    "title='Average price of East Flanders localities',ylabel='Price in Euro', xlabel='Locality', figsize=(14, 8))"
   ]
  },
  {
   "cell_type": "code",
   "execution_count": 327,
   "metadata": {},
   "outputs": [
    {
     "data": {
      "text/plain": [
       "<AxesSubplot:title={'center':'Average price of Brussels localities'}, ylabel='Locality'>"
      ]
     },
     "execution_count": 327,
     "metadata": {},
     "output_type": "execute_result"
    },
    {
     "data": {
      "image/png": "[encoded data removed]",
      "text/plain": [
       "<Figure size 1008x864 with 1 Axes>"
      ]
     },
     "metadata": {
      "needs_background": "light"
     },
     "output_type": "display_data"
    }
   ],
   "source": [
    "df1 = df.where(df['Province']==\"Brussels\")\n",
    "\n",
    "df2 = df1.groupby(['Locality','Type'])['Price'].mean().unstack()\n",
    "\n",
    "df2['APARTMENT'] = df2['APARTMENT'].fillna(int(df2['APARTMENT'].mean()))\n",
    "df2['HOUSE'] = df2['HOUSE'].fillna(int(df2['HOUSE'].mean()))\n",
    "df2.sort_values(by=['HOUSE','APARTMENT'], inplace=True, ascending=False)\n",
    "\n",
    "df2.head(12).plot(kind='barh',color={\"HOUSE\": \"c\", \"APARTMENT\": \"orange\"},\n",
    "title='Average price of Brussels localities',ylabel='Price in Euro', xlabel='Locality', figsize=(14, 12))"
   ]
  },
  {
   "cell_type": "code",
   "execution_count": 328,
   "metadata": {},
   "outputs": [
    {
     "data": {
      "text/plain": [
       "Locality              Price   \n",
       "ANDERLECHT            160000.0    1\n",
       "                      185000.0    1\n",
       "                      205000.0    1\n",
       "                      220000.0    1\n",
       "AUDERGHEM             390000.0    1\n",
       "                                 ..\n",
       "Woluwe-St-Pierre      445000.0    1\n",
       "                      447500.0    1\n",
       "Woluwe-saint-lambert  235000.0    1\n",
       "                      375000.0    1\n",
       "                      495000.0    1\n",
       "Name: Price, Length: 1088, dtype: int64"
      ]
     },
     "execution_count": 328,
     "metadata": {},
     "output_type": "execute_result"
    }
   ],
   "source": [
    "a= df[df['Province']== \"Brussels\"]\n",
    "a.groupby('Locality')[\"Price\"].value_counts()"
   ]
  },
  {
   "cell_type": "code",
   "execution_count": 329,
   "metadata": {},
   "outputs": [
    {
     "data": {
      "text/html": [
       "<div>\n",
       "<style scoped>\n",
       "    .dataframe tbody tr th:only-of-type {\n",
       "        vertical-align: middle;\n",
       "    }\n",
       "\n",
       "    .dataframe tbody tr th {\n",
       "        vertical-align: top;\n",
       "    }\n",
       "\n",
       "    .dataframe thead th {\n",
       "        text-align: right;\n",
       "    }\n",
       "</style>\n",
       "<table border=\"1\" class=\"dataframe\">\n",
       "  <thead>\n",
       "    <tr style=\"text-align: right;\">\n",
       "      <th></th>\n",
       "      <th>ID</th>\n",
       "      <th>Type</th>\n",
       "      <th>SubType</th>\n",
       "      <th>Price</th>\n",
       "      <th>BedroomCount</th>\n",
       "      <th>Province</th>\n",
       "      <th>Locality</th>\n",
       "      <th>Region</th>\n",
       "      <th>PostCode</th>\n",
       "      <th>Street</th>\n",
       "      <th>Floor</th>\n",
       "      <th>RegionCode</th>\n",
       "      <th>NetHabitableSurface</th>\n",
       "      <th>BuildingCondition</th>\n",
       "      <th>ConstructionYear</th>\n",
       "      <th>FacadeCount</th>\n",
       "      <th>HasBalcony</th>\n",
       "      <th>HasGarden</th>\n",
       "      <th>KitchenType</th>\n",
       "    </tr>\n",
       "  </thead>\n",
       "  <tbody>\n",
       "    <tr>\n",
       "      <th>6873</th>\n",
       "      <td>10142453</td>\n",
       "      <td>HOUSE</td>\n",
       "      <td>HOUSE</td>\n",
       "      <td>595000.0</td>\n",
       "      <td>4.0</td>\n",
       "      <td>East Flanders</td>\n",
       "      <td>Gand</td>\n",
       "      <td>Flanders</td>\n",
       "      <td>9032</td>\n",
       "      <td>Haagstuk</td>\n",
       "      <td>2.0</td>\n",
       "      <td>FLANDERS</td>\n",
       "      <td>200.0</td>\n",
       "      <td>AS_NEW</td>\n",
       "      <td>1.0</td>\n",
       "      <td>3.0</td>\n",
       "      <td>0.0</td>\n",
       "      <td>1.0</td>\n",
       "      <td>3</td>\n",
       "    </tr>\n",
       "  </tbody>\n",
       "</table>\n",
       "</div>"
      ],
      "text/plain": [
       "            ID   Type SubType     Price  BedroomCount       Province Locality  \\\n",
       "6873  10142453  HOUSE   HOUSE  595000.0           4.0  East Flanders     Gand   \n",
       "\n",
       "        Region PostCode    Street  Floor RegionCode  NetHabitableSurface  \\\n",
       "6873  Flanders     9032  Haagstuk    2.0   FLANDERS                200.0   \n",
       "\n",
       "     BuildingCondition  ConstructionYear  FacadeCount  HasBalcony  HasGarden  \\\n",
       "6873            AS_NEW               1.0          3.0         0.0        1.0   \n",
       "\n",
       "     KitchenType  \n",
       "6873           3  "
      ]
     },
     "execution_count": 329,
     "metadata": {},
     "output_type": "execute_result"
    }
   ],
   "source": [
    "df[df['Locality']=='Gand']"
   ]
  },
  {
   "cell_type": "markdown",
   "metadata": {},
   "source": []
  },
  {
   "cell_type": "code",
   "execution_count": 347,
   "metadata": {},
   "outputs": [
    {
     "data": {
      "image/png": "[encoded data removed]",
      "text/plain": [
       "<Figure size 720x432 with 1 Axes>"
      ]
     },
     "metadata": {
      "needs_background": "light"
     },
     "output_type": "display_data"
    },
    {
     "data": {
      "image/png": "[encoded data removed]",
      "text/plain": [
       "<Figure size 720x432 with 1 Axes>"
      ]
     },
     "metadata": {
      "needs_background": "light"
     },
     "output_type": "display_data"
    },
    {
     "data": {
      "image/png": "[encoded data removed]",
      "text/plain": [
       "<Figure size 720x432 with 1 Axes>"
      ]
     },
     "metadata": {
      "needs_background": "light"
     },
     "output_type": "display_data"
    }
   ],
   "source": [
    "\n",
    "for region in df.groupby('Region').groups:\n",
    "    df1 = df.where(df['Region']== region)\n",
    "    df1.groupby(['Province','Type'])['Price'].mean().unstack().plot(kind='bar', title=f'Average price for provinces in {region}',\n",
    "               ylabel='Price(euro)', xlabel='provinces', figsize=(10, 6),stacked =True)\n"
   ]
  },
  {
   "cell_type": "markdown",
   "metadata": {},
   "source": [
    "How the number of bedrooms affect the price?\n"
   ]
  },
  {
   "cell_type": "code",
   "execution_count": 331,
   "metadata": {},
   "outputs": [
    {
     "data": {
      "text/plain": [
       "3.0    5679\n",
       "2.0    5147\n",
       "4.0    2361\n",
       "1.0    1655\n",
       "5.0     666\n",
       "Name: BedroomCount, dtype: int64"
      ]
     },
     "execution_count": 331,
     "metadata": {},
     "output_type": "execute_result"
    }
   ],
   "source": [
    "df[\"BedroomCount\"].value_counts()"
   ]
  },
  {
   "cell_type": "code",
   "execution_count": 332,
   "metadata": {},
   "outputs": [
    {
     "data": {
      "image/png": "[encoded data removed]",
      "text/plain": [
       "<Figure size 1008x576 with 1 Axes>"
      ]
     },
     "metadata": {
      "needs_background": "light"
     },
     "output_type": "display_data"
    }
   ],
   "source": [
    "\n",
    "df_bedroom = df.groupby(['Region','BedroomCount'])['Price'].mean().unstack()\n",
    "fig =df_bedroom.plot(kind='area', title=f'Price vs Bedroom count',\n",
    "               ylabel='Price(euro)', xlabel='Regions', figsize=(14, 8),stacked =True)\n",
    "\n",
    "\n",
    "\n"
   ]
  },
  {
   "cell_type": "markdown",
   "metadata": {},
   "source": [
    "How the floor number affect the price of an appartment?"
   ]
  },
  {
   "cell_type": "code",
   "execution_count": 351,
   "metadata": {},
   "outputs": [
    {
     "data": {
      "text/plain": [
       "<AxesSubplot:title={'center':'Average Price vs Age of Building'}, xlabel='Building status', ylabel='Price(euro)'>"
      ]
     },
     "execution_count": 351,
     "metadata": {},
     "output_type": "execute_result"
    },
    {
     "data": {
      "image/png": "[encoded data removed]",
      "text/plain": [
       "<Figure size 720x432 with 1 Axes>"
      ]
     },
     "metadata": {
      "needs_background": "light"
     },
     "output_type": "display_data"
    }
   ],
   "source": [
    "\n",
    "\n",
    "\n",
    "df.groupby(['ConstructionYear','Type'])['Price'].mean().unstack().plot(kind='bar',color={\"HOUSE\": \"c\", \"APARTMENT\": \"orange\"},\n",
    "title='Average Price vs Age of Building',ylabel='Price(euro)', xlabel='Building status', figsize=(10,6))\n"
   ]
  },
  {
   "cell_type": "code",
   "execution_count": 349,
   "metadata": {},
   "outputs": [],
   "source": [
    "# a =df.groupby(['ConstructionYear','Type'])['Price'].mean().unstack()\n",
    "# a\n",
    "# #.plot(kind='bar',color={\"HOUSE\": \"c\", \"APARTMENT\": \"orange\"},\n",
    "# #title='Average Price vs Age of Building',ylabel='Price(euro)', xlabel='Building status', figsize=(10,6))"
   ]
  },
  {
   "cell_type": "markdown",
   "metadata": {},
   "source": [
    "# Correlation\n",
    "Correlation refers to the statistical relationship between two entities. In other words, it's how two variables move in relation to one another. Correlation can be used for various data sets, as well. In some cases, you might have predicted how things will correlate, while in others, the relationship will be a surprise to you. It's important to understand that correlation does not mean the relationship is causal.\n",
    "\n",
    "To understand how correlation works, it's important to understand the following terms:\n",
    "1. Positive correlation: A positive correlation would be 1. This means the two variables moved either up or down in the   same direction together.\n",
    "2. Negative correlation: A negative correlation is -1. This means the two variables moved in opposite directions.\n",
    "3. Zero or no correlation: A correlation of zero means there is no relationship between the two variables. In other words, as one variable moves one way, the other moved in another unrelated direction.\n",
    "\n",
    "Types of Correlation\n",
    "\n",
    "* Pearson correlation: The Pearson correlation is the most commonly used measurement for a linear relationship between two variables. The stronger the correlation between these two datasets, the closer it'll be to +1 or -1.\n",
    "* Spearman correlation: This type of correlation is used to determine the monotonic relationship or association between two datasets. Unlike the Pearson correlation coefficient, it's based on the ranked values for each dataset and uses skewed or ordinal variables rather than normally distributed ones.\n",
    "* Kendall correlation: This type of correlation measures the strength of dependence between two datasets."
   ]
  },
  {
   "cell_type": "code",
   "execution_count": null,
   "metadata": {},
   "outputs": [],
   "source": [
    "# correlation between price and bedroom  count\n",
    "print(\"pearson:\",df[\"Price\"].corr(df[\"BedroomCount\"], method=\"pearson\"))\n",
    "print(\"kendall:\",df[\"Price\"].corr(df[\"BedroomCount\"], method=\"kendall\"))\n",
    "print(\"spearman:\",df[\"Price\"].corr(df[\"BedroomCount\"], method=\"spearman\"))\n"
   ]
  },
  {
   "cell_type": "code",
   "execution_count": null,
   "metadata": {},
   "outputs": [],
   "source": [
    "print(\"price to facadecount correlaton: \", df[\"Price\"].corr(df[\"FacadeCount\"]))"
   ]
  }
 ],
 "metadata": {
  "kernelspec": {
   "display_name": "Python 3.8.13 ('real_estate_prediction')",
   "language": "python",
   "name": "python3"
  },
  "language_info": {
   "codemirror_mode": {
    "name": "ipython",
    "version": 3
   },
   "file_extension": ".py",
   "mimetype": "text/x-python",
   "name": "python",
   "nbconvert_exporter": "python",
   "pygments_lexer": "ipython3",
   "version": "3.8.13"
  },
  "orig_nbformat": 4,
  "vscode": {
   "interpreter": {
    "hash": "9228d34919f745069d3ef84d5d121bbcb666b039c72f040aacee9f3bccaf6b85"
   }
  }
 },
 "nbformat": 4,
 "nbformat_minor": 2
}
